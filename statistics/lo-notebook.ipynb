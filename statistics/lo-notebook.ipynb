{
 "cells": [
  {
   "cell_type": "markdown",
   "metadata": {
    "id": "fw96GadUBBjl"
   },
   "source": [
    "<img style=\"display: block; margin: 0 auto\" src=\"https://images.squarespace-cdn.com/content/v1/645a878d9740963714b8f343/3efb24e3-9fb9-4bc7-b41e-7f36742ae747/2-2.jpg?format=1500w\" alt=\"Lonely Octopus Logo\">"
   ]
  },
  {
   "cell_type": "markdown",
   "metadata": {
    "id": "qsnu23XfCbsq"
   },
   "source": [
    "**Please create a copy of the notebook in your gdrive to be able to edit it.**\n",
    "\n",
    "**You can make a copy from the menu: File > Save a copy in Drive**"
   ]
  },
  {
   "cell_type": "markdown",
   "metadata": {
    "id": "RWjpm02pMa4v"
   },
   "source": [
    "# **Statistics - Interactive Practice**\n",
    "\n"
   ]
  },
  {
   "cell_type": "markdown",
   "metadata": {
    "id": "CPl_h4k2pMNJ"
   },
   "source": [
    "# **Introduction to Statistics**\n",
    "\n",
    "This course aims to equip you with the foundational knowledge and skills in both descriptive and inferential statistics. You'll learn to summarize data sets, understand data distributions, and perform hypothesis testing and confidence interval calculations, all reinforced with practical Python examples.\n",
    "\n",
    "[Click to find full course material](https://learn.365datascience.com/courses/preview/data-visualization/)"
   ]
  },
  {
   "cell_type": "markdown",
   "metadata": {
    "id": "Isqz9b3nRajX"
   },
   "source": [
    "## <ins>Data Discovery: Population vs Sample<ins>\n",
    "Distinguishing between a population and a sample is crucial in statistics. The population includes all members of a specified group, while a sample consists of a subset of the population. Statistical analyses often use samples to make inferences about populations due to the impracticality of examining every member of the population."
   ]
  },
  {
   "cell_type": "markdown",
   "metadata": {
    "id": "xolBeS0ARj5u"
   },
   "source": [
    "### Example Code below:<br>\n",
    "* Explanation: This Python code simulates a population of individual heights and takes a random sample from this population. It demonstrates how a sample can be used to estimate the population mean height, illustrating the concept of population versus sample."
   ]
  },
  {
   "cell_type": "code",
   "execution_count": 43,
   "metadata": {
    "colab": {
     "base_uri": "https://localhost:8080/"
    },
    "id": "D63MPyvCPBBb",
    "outputId": "f8c14f16-858d-4f78-8b98-d176affa88d9"
   },
   "outputs": [
    {
     "name": "stdout",
     "output_type": "stream",
     "text": [
      "Population mean height: 169.92 cm\n",
      "Sample mean height: 169.68 cm\n"
     ]
    }
   ],
   "source": [
    "import numpy as np\n",
    "\n",
    "# Simulating a population: Heights of individuals in a city (in cm)\n",
    "population_heights = np.random.normal(loc=170, scale=10, size=1000)  # Mean = 170 cm, SD = 10 cm\n",
    "\n",
    "# Taking a random sample of 100 individuals from the population\n",
    "sample_heights = np.random.choice(population_heights, size=100)\n",
    "\n",
    "print(f\"Population mean height: {np.mean(population_heights):.2f} cm\")\n",
    "print(f\"Sample mean height: {np.mean(sample_heights):.2f} cm\")\n"
   ]
  },
  {
   "cell_type": "markdown",
   "metadata": {
    "id": "h6Wu2jrgSI79"
   },
   "source": [
    "**Practice task:** <nbsp>\n",
    "Print your output with the following adjustments::\n",
    "> Change the mean height to 160, **Hints**: `np.random.normal`(**loc=160**<br>\n",
    "> Change the sample size of the sample_height to 10, **Hints**: `np.random.choice`(population_heights, **size=10**)<br>\n",
    "\n",
    "Compare and comment on the differences between the example and new output\n",
    "    \n",
    "Show the new code and include the comments below"
   ]
  },
  {
   "cell_type": "code",
   "execution_count": 44,
   "metadata": {
    "id": "nDPWVcWVSPsx"
   },
   "outputs": [
    {
     "name": "stdout",
     "output_type": "stream",
     "text": [
      "Population mean height: 160.18 cm\n",
      "Sample mean height: 163.59 cm\n"
     ]
    }
   ],
   "source": [
    "# Practice Task here\n",
    "population_heights_160 = np.random.normal(loc=160, scale=10, size=1000)\n",
    "sample_heights_160 = np.random.choice(population_heights_160, size=10)\n",
    "\n",
    "print(f\"Population mean height: {np.mean(population_heights_160):.2f} cm\")\n",
    "print(f\"Sample mean height: {np.mean(sample_heights_160):.2f} cm\")"
   ]
  },
  {
   "cell_type": "markdown",
   "metadata": {
    "id": "fnCnCJGEekSv"
   },
   "source": [
    "# **Descriptive Statistics Fundamentals**\n",
    "\n",
    "* Descriptive statistics form the cornerstone of data analysis, providing crucial insights into the characteristics and properties of a dataset.\n",
    "* By understanding the various types of data and levels of measurement, analysts can effectively compute measures of central tendency, dispersion, and relationships between variables.\n",
    "* This foundational knowledge enables researchers, analysts, and decision-makers to make informed interpretations and decisions based on data."
   ]
  },
  {
   "cell_type": "markdown",
   "metadata": {
    "id": "o0McfBQkY9-Q"
   },
   "source": [
    "## <ins>Data Diving: Types and Levels of Measurement<ins>\n",
    "Distinguishing between a population and a sample is crucial in statistics. The population includes all members of a specified group, while a sample consists of a subset of the population. Statistical analyses often use samples to make inferences about populations due to the impracticality of examining every member of the population."
   ]
  },
  {
   "cell_type": "markdown",
   "metadata": {
    "id": "gOfVxkR2Y9-d"
   },
   "source": [
    "### Example Code below:<br>\n",
    "* This code provides examples of qualitative and quantitative data types, along with their respective levels of measurement.\n",
    "* While this example doesn't involve statistical computation, it's essential for understanding how to appropriately analyze and interpret different types of data."
   ]
  },
  {
   "cell_type": "code",
   "execution_count": 45,
   "metadata": {
    "id": "QD5fmEYhY9-d"
   },
   "outputs": [],
   "source": [
    "# Example illustrating different data types and levels of measurement\n",
    "\n",
    "# Qualitative (Categorical) Data: Nominal\n",
    "colors = ['Red', 'Blue', 'Green']  # Categories without a natural order\n",
    "\n",
    "# Qualitative (Categorical) Data: Ordinal\n",
    "education_levels = ['High School', 'Bachelor', 'Master', 'PhD']  # Categories with a natural order\n",
    "\n",
    "# Quantitative Data: Interval\n",
    "temperatures_celsius = [22, 25, 28, 31]  # Numeric data without a true zero\n",
    "\n",
    "# Quantitative Data: Ratio\n",
    "distances_km = [5, 10, 15, 20]  # Numeric data with a true zero"
   ]
  },
  {
   "cell_type": "markdown",
   "metadata": {
    "id": "UAGNMWWdY9-d"
   },
   "source": [
    "**Practice task:** <nbsp>\n",
    "Print your output with the following adjustments:\n",
    "> Provide an example of a category and interval for a qualitative and quantitative data respectively\n",
    "\n",
    "Compare and comment on the differences between the example and new output\n",
    "    \n",
    "Show the new code and include the comments below"
   ]
  },
  {
   "cell_type": "code",
   "execution_count": 46,
   "metadata": {
    "id": "eJJ5bX8GY9-d"
   },
   "outputs": [],
   "source": [
    "# Practice Task here\n",
    "\n",
    "# Qualitative Data: Categorical data can be distinguished by two types: Nominal and Ordinal\n",
    "# Nomial: there is no order\n",
    "courses = [\"Mathematics\",\"Biology\",\"Physics\",\"Portuguese\"]\n",
    "# Odinal: this one requires an order\n",
    "job_position =[\"Entry level\", \"Intermediate\", \"Senior\"]\n",
    "\n",
    "# Quantitative Data: Those are variables for measurements. They can be distinguished in two types: Interval and Range\n",
    "# Interval: this data can go below zero\n",
    "integers_set = [..., -3,-2,-1,0,1,2,3,...]\n",
    "# Ratio: the minimum of this data is zero\n",
    "natural_set = [0, 1, 2, 3, 4 , 5, ...] "
   ]
  },
  {
   "cell_type": "markdown",
   "metadata": {
    "id": "Txwa2F2mY3E4"
   },
   "source": [
    "## <ins>Understanding the Levels of Measurement<ins>\n",
    "The level of measurement determines the statistical operations that can be performed and the types of graphs that can be used for visualization."
   ]
  },
  {
   "cell_type": "markdown",
   "metadata": {
    "id": "V9wn1M7YY3E-"
   },
   "source": [
    "### Example Code below:<br>\n",
    "* Explanation: This code categorizes sample data by levels of measurement, illustrating the differences between nominal, ordinal, and ratio levels without performing statistical operations."
   ]
  },
  {
   "cell_type": "code",
   "execution_count": 47,
   "metadata": {
    "colab": {
     "base_uri": "https://localhost:8080/"
    },
    "id": "U5HEYoSCY3E_",
    "outputId": "7e88c9cd-492d-451e-e741-64cb218f7f2a"
   },
   "outputs": [
    {
     "name": "stdout",
     "output_type": "stream",
     "text": [
      "Gender: <class 'str'>\n",
      "Satisfaction: <class 'str'>\n",
      "Age: <class 'int'>\n"
     ]
    }
   ],
   "source": [
    "# Sample data representing different levels of measurement\n",
    "data = {\n",
    "    'Gender': ['Male', 'Female', 'Female'],  # Nominal\n",
    "    'Satisfaction': ['Satisfied', 'Neutral', 'Dissatisfied'],  # Ordinal\n",
    "    'Age': [25, 30, 35],  # Ratio\n",
    "}\n",
    "\n",
    "# Displaying the type of level for each category\n",
    "for category, values in data.items():\n",
    "    print(f\"{category}: {type(values[0])}\")"
   ]
  },
  {
   "cell_type": "markdown",
   "metadata": {
    "id": "M17bye6dY3E_"
   },
   "source": [
    "**Practice task:** <nbsp>\n",
    "Print your output with the following adjustments:\n",
    "> Provide an example of a nominal, ordinal and ratio dataset respectively\n",
    "\n",
    "Compare and comment on the differences between the example and new output\n",
    "    \n",
    "Show the new code and include the comments below"
   ]
  },
  {
   "cell_type": "code",
   "execution_count": 48,
   "metadata": {
    "id": "Iko8nGpWY3E_"
   },
   "outputs": [
    {
     "name": "stdout",
     "output_type": "stream",
     "text": [
      "Week: <class 'str'>\n",
      "Food: <class 'str'>\n",
      "family_members: <class 'int'>\n"
     ]
    }
   ],
   "source": [
    "# Practice Task here\n",
    "\n",
    "data = {\n",
    "    'Week': ['Sunday', 'Monday', 'Tuesday', 'Wednesday', 'Thursday', 'Friday'],  # Ordinal\n",
    "    'Food': ['Pizza', 'Sushi', 'Ramen'],  # Nominal\n",
    "    'family_members': [0, 1, 2, 3],  # Ratio\n",
    "}\n",
    "\n",
    "# Displaying the type of level for each category\n",
    "for category, values in data.items():\n",
    "    print(f\"{category}: {type(values[0])}\")"
   ]
  },
  {
   "cell_type": "markdown",
   "metadata": {
    "id": "AxSCL6WxY4DA"
   },
   "source": [
    "## <ins>Category Chronicles: Visualizing Categorical Variables<ins>\n",
    "Understanding categorical variables is essential for analyzing qualitative data. Visualization techniques like bar charts and pie charts can help reveal patterns and insights in categorical data."
   ]
  },
  {
   "cell_type": "markdown",
   "metadata": {
    "id": "HUF5PwOaY4DG"
   },
   "source": [
    "### Example Code below:<br>\n",
    "* Explanation: This code creates a bar chart to visualize the counts of people's favorite fruits, an example of analyzing and visualizing categorical data."
   ]
  },
  {
   "cell_type": "code",
   "execution_count": 49,
   "metadata": {
    "colab": {
     "base_uri": "https://localhost:8080/",
     "height": 472
    },
    "id": "t88f-hd3Y4DG",
    "outputId": "6ddc10d8-ac62-47f2-c6cf-f9dbebcae9eb"
   },
   "outputs": [
    {
     "data": {
      "image/png": "[encoded data removed]",
      "text/plain": [
       "<Figure size 640x480 with 1 Axes>"
      ]
     },
     "metadata": {},
     "output_type": "display_data"
    }
   ],
   "source": [
    "import matplotlib.pyplot as plt\n",
    "\n",
    "# Sample dataset: Favorite fruit of a group of people\n",
    "data = {'Apples': 10, 'Bananas': 15, 'Cherries': 7, 'Dates': 8}\n",
    "fruits = list(data.keys())\n",
    "counts = list(data.values())\n",
    "\n",
    "# Creating a bar chart\n",
    "plt.bar(fruits, counts, color='skyblue')\n",
    "plt.xlabel('Fruit')\n",
    "plt.ylabel('Count')\n",
    "plt.title('Favorite Fruit of a Group of People')\n",
    "plt.show()"
   ]
  },
  {
   "cell_type": "markdown",
   "metadata": {
    "id": "uRojp5auY4DG"
   },
   "source": [
    "**Practice task:** <nbsp>\n",
    "Print your output with the following adjustments:\n",
    "> Make apples the most popular fruit by changing the value in the dataset <br>\n",
    "\n",
    "Compare and comment on the differences between the example and new output\n",
    "    \n",
    "Show the new code and include the comments below"
   ]
  },
  {
   "cell_type": "code",
   "execution_count": 57,
   "metadata": {
    "id": "PQBNYKoiY4DH"
   },
   "outputs": [
    {
     "data": {
      "text/plain": [
       "<BarContainer object of 7 artists>"
      ]
     },
     "execution_count": 57,
     "metadata": {},
     "output_type": "execute_result"
    },
    {
     "data": {
      "image/png": "[encoded data removed]",
      "text/plain": [
       "<Figure size 1000x800 with 1 Axes>"
      ]
     },
     "metadata": {},
     "output_type": "display_data"
    }
   ],
   "source": [
    "# Practice Task here\n",
    "import random\n",
    "\n",
    "fruits = ['Apples','Bananas','Cherries','Dates','Oranges','Pineapples','Peaches']\n",
    "fruit_dict = {fruit: random.randint(0,15) for fruit in fruits}\n",
    "\n",
    "x = fruit_dict.keys()\n",
    "y = fruit_dict.values()\n",
    "\n",
    "fig, ax = plt.subplots(figsize=(10,8))\n",
    "ax.set_xlabel('fruits')\n",
    "ax.set_ylabel('# of votes')\n",
    "ax.bar(x,y)"
   ]
  },
  {
   "cell_type": "markdown",
   "metadata": {
    "id": "DZ4L9fAysnM9"
   },
   "source": [
    "## <ins>Unveiling Numerical Variables<ins>\n",
    "Frequency distribution tables summarize numerical data by showing the distribution of values. They're fundamental for understanding the spread and concentration of data points."
   ]
  },
  {
   "cell_type": "markdown",
   "metadata": {
    "id": "rYgmUxmwsnNC"
   },
   "source": [
    "### Example Code below:<br>\n",
    "* Explanation: This code demonstrates how to create a frequency distribution table using pandas, showcasing the distribution of ages among study participants."
   ]
  },
  {
   "cell_type": "code",
   "execution_count": 59,
   "metadata": {
    "colab": {
     "base_uri": "https://localhost:8080/"
    },
    "id": "2g2nVxMGsnNC",
    "outputId": "20f44338-3867-4e86-febc-5d792dabb9ad"
   },
   "outputs": [
    {
     "name": "stdout",
     "output_type": "stream",
     "text": [
      "22    2\n",
      "25    2\n",
      "27    1\n",
      "30    1\n",
      "35    1\n",
      "40    1\n",
      "Name: count, dtype: int64\n"
     ]
    }
   ],
   "source": [
    "import pandas as pd\n",
    "\n",
    "# Sample dataset: Ages of participants in a study\n",
    "ages = [22, 25, 27, 25, 30, 35, 40, 22]\n",
    "\n",
    "# Creating a frequency distribution table\n",
    "age_series = pd.Series(ages)\n",
    "frequency_table = age_series.value_counts().sort_index()\n",
    "\n",
    "print(frequency_table)"
   ]
  },
  {
   "cell_type": "markdown",
   "metadata": {
    "id": "fR_YhNP1snND"
   },
   "source": [
    "**Practice task:** <nbsp>\n",
    "Print your output with the following adjustments:\n",
    "> Make 27 years old the most frequently occuring age, **Hints**: You may add 27 to the dataset until it exceeds the individual total of every other age <br>\n",
    "\n",
    "Compare and comment on the differences between the example and new output\n",
    "    \n",
    "Show the new code and include the comments below"
   ]
  },
  {
   "cell_type": "code",
   "execution_count": 90,
   "metadata": {
    "id": "luttmTFWsnND"
   },
   "outputs": [
    {
     "data": {
      "image/png": "[encoded data removed]",
      "text/plain": [
       "<Figure size 1000x500 with 1 Axes>"
      ]
     },
     "metadata": {},
     "output_type": "display_data"
    }
   ],
   "source": [
    "# Practice Task here\n",
    "ages = [27, 22, 27, 25, 27, 25, 30, 35, 40, 22, 27]\n",
    "\n",
    "age_series = pd.Series(ages)\n",
    "frequency_age_table = age_series.value_counts().sort_index()\n",
    "\n",
    "df_frequency_age_table = pd.DataFrame(frequency_age_table.reset_index())\n",
    "df_frequency_age_table.columns = ['Age', 'Frequency']\n",
    "\n",
    "x = df_frequency_age_table['Age']\n",
    "y = df_frequency_age_table['Frequency']\n",
    "\n",
    "fig, ax = plt.subplots(figsize=(10,5))\n",
    "ax.set_xlabel('Age')\n",
    "ax.set_ylabel('Frequency')\n",
    "ax = plt.bar(x,y)\n",
    "\n"
   ]
  },
  {
   "cell_type": "markdown",
   "metadata": {
    "id": "hA8UND2GsoRu"
   },
   "source": [
    "## <ins>Histogram Hacks<ins>\n",
    "Histograms are graphical representations that show the distribution of numerical data. They help identify the shape of the distribution, central tendency, and variability."
   ]
  },
  {
   "cell_type": "markdown",
   "metadata": {
    "id": "hLthArSOsoR3"
   },
   "source": [
    "### Example Code below:<br>\n",
    "* Explanation: This code generates a histogram for a set of exam scores, illustrating how scores are distributed across different ranges."
   ]
  },
  {
   "cell_type": "code",
   "execution_count": 91,
   "metadata": {
    "colab": {
     "base_uri": "https://localhost:8080/",
     "height": 472
    },
    "id": "c0Cc1VbtsoR3",
    "outputId": "e0eef54c-90f7-4362-9ef8-4fb9316eb495"
   },
   "outputs": [
    {
     "data": {
      "image/png": "[encoded data removed]",
      "text/plain": [
       "<Figure size 640x480 with 1 Axes>"
      ]
     },
     "metadata": {},
     "output_type": "display_data"
    }
   ],
   "source": [
    "import numpy as np\n",
    "import matplotlib.pyplot as plt\n",
    "\n",
    "# Sample dataset: Exam scores of students\n",
    "scores = np.array([55, 70, 65, 90, 95, 85, 80, 70, 75, 60, 95, 80])\n",
    "\n",
    "# Creating a histogram\n",
    "plt.hist(scores, bins=5, edgecolor='black')\n",
    "plt.xlabel('Scores')\n",
    "plt.ylabel('Frequency')\n",
    "plt.title('Distribution of Exam Scores')\n",
    "plt.show()"
   ]
  },
  {
   "cell_type": "markdown",
   "metadata": {
    "id": "DCoYtAEjsoR4"
   },
   "source": [
    "**Practice task:** <nbsp>\n",
    "Print your output with the following adjustments:\n",
    "> Increase the bin size to 10 to increase the score interval, **Hints**: plt.hist(scores, **bins=10**, <br>\n",
    "> Add two 100 into the `scores` dataset\n",
    "\n",
    "Compare and comment on the differences between the example and new output\n",
    "    \n",
    "Show the new code and include the comments below"
   ]
  },
  {
   "cell_type": "code",
   "execution_count": 92,
   "metadata": {
    "id": "R8v1t0nesoR4"
   },
   "outputs": [
    {
     "data": {
      "image/png": "[encoded data removed]",
      "text/plain": [
       "<Figure size 640x480 with 1 Axes>"
      ]
     },
     "metadata": {},
     "output_type": "display_data"
    }
   ],
   "source": [
    "# Practice Task here\n",
    "import matplotlib.pyplot as plt\n",
    "\n",
    "# Sample dataset: Exam scores of students\n",
    "scores = np.array([55, 70, 65, 90, 95, 85, 80, 70, 75, 60, 95, 80, 100, 100])\n",
    "\n",
    "# Creating a histogram\n",
    "plt.hist(scores, bins=10, edgecolor='black')\n",
    "plt.xlabel('Scores')\n",
    "plt.ylabel('Frequency')\n",
    "plt.title('Distribution of Exam Scores')\n",
    "plt.show()"
   ]
  },
  {
   "cell_type": "markdown",
   "metadata": {
    "id": "SPrtuIdfslnY"
   },
   "source": [
    "## <ins>Categorical Variables. Visualization Techniques<ins>\n",
    "Understanding categorical variables is essential for analyzing qualitative data. Visualization techniques like bar charts and pie charts can help reveal patterns and insights in categorical data."
   ]
  },
  {
   "cell_type": "markdown",
   "metadata": {
    "id": "CYxcg4sNslne"
   },
   "source": [
    "### Example Code below:<br>\n",
    "* Explanation: This code creates a bar chart to visualize the counts of people's favorite fruits, an example of analyzing and visualizing categorical data."
   ]
  },
  {
   "cell_type": "code",
   "execution_count": 93,
   "metadata": {
    "colab": {
     "base_uri": "https://localhost:8080/",
     "height": 472
    },
    "id": "RVYHrhGzslne",
    "outputId": "6ddc10d8-ac62-47f2-c6cf-f9dbebcae9eb"
   },
   "outputs": [
    {
     "data": {
      "image/png": "[encoded data removed]",
      "text/plain": [
       "<Figure size 640x480 with 1 Axes>"
      ]
     },
     "metadata": {},
     "output_type": "display_data"
    }
   ],
   "source": [
    "import matplotlib.pyplot as plt\n",
    "\n",
    "# Sample dataset: Favorite fruit of a group of people\n",
    "data = {'Apples': 10, 'Bananas': 15, 'Cherries': 7, 'Dates': 8}\n",
    "fruits = list(data.keys())\n",
    "counts = list(data.values())\n",
    "\n",
    "# Creating a bar chart\n",
    "plt.bar(fruits, counts, color='skyblue')\n",
    "plt.xlabel('Fruit')\n",
    "plt.ylabel('Count')\n",
    "plt.title('Favorite Fruit of a Group of People')\n",
    "plt.show()"
   ]
  },
  {
   "cell_type": "markdown",
   "metadata": {
    "id": "mYBT_fO7slne"
   },
   "source": [
    "**Practice task:** <nbsp>\n",
    "Print your output with the following adjustments:\n",
    "> Make apples the most popular fruit by changing the value in the dataset <br>\n",
    "\n",
    "Compare and comment on the differences between the example and new output\n",
    "    \n",
    "Show the new code and include the comments below"
   ]
  },
  {
   "cell_type": "code",
   "execution_count": 95,
   "metadata": {
    "id": "AfGKCPEtslne"
   },
   "outputs": [
    {
     "data": {
      "image/png": "[encoded data removed]",
      "text/plain": [
       "<Figure size 640x480 with 1 Axes>"
      ]
     },
     "metadata": {},
     "output_type": "display_data"
    }
   ],
   "source": [
    "# Practice Task here\n",
    "data = {'Apples': 21, 'Bananas': 15, 'Cherries': 7, 'Dates': 8}\n",
    "\n",
    "fruits = list(data.keys())\n",
    "counts = list(data.values())\n",
    "\n",
    "# Creating a bar chart\n",
    "plt.bar(fruits, counts, color='skyblue')\n",
    "plt.xlabel('Fruit')\n",
    "plt.ylabel('Count')\n",
    "plt.title('Favorite Fruit of a Group of People')\n",
    "plt.show()"
   ]
  },
  {
   "cell_type": "markdown",
   "metadata": {
    "id": "U84rMRniuRKL"
   },
   "source": [
    "## <ins>Crossroads of Data: Exploring Cross Tables and Scatter Plots<ins>\n",
    "Cross tables (contingency tables) are used for summarizing data between two categorical variables, whereas scatter plots are essential for visualizing the relationship between two numerical variables."
   ]
  },
  {
   "cell_type": "markdown",
   "metadata": {
    "id": "FggBCIWTuRKR"
   },
   "source": [
    "### Example Code below:<br>\n",
    "* Explanation: This code creates a scatter plot to visualize the relationship between height and weight, demonstrating how scatter plots can be used to explore correlations between numerical variables."
   ]
  },
  {
   "cell_type": "code",
   "execution_count": null,
   "metadata": {
    "colab": {
     "base_uri": "https://localhost:8080/",
     "height": 472
    },
    "id": "Q8uiQEITuRKR",
    "outputId": "8b5a9404-c4a5-4f98-a2e0-c0bef53e26c9"
   },
   "outputs": [
    {
     "data": {
      "image/png": "[encoded data removed]",
      "text/plain": [
       "<Figure size 640x480 with 1 Axes>"
      ]
     },
     "metadata": {},
     "output_type": "display_data"
    }
   ],
   "source": [
    "import matplotlib.pyplot as plt\n",
    "\n",
    "# Sample dataset: Height and weight of individuals\n",
    "height = [160, 165, 170, 175, 180, 185]\n",
    "weight = [55, 60, 65, 70, 75, 80]\n",
    "\n",
    "# Creating a scatter plot\n",
    "plt.scatter(height, weight, color='green')\n",
    "plt.xlabel('Height (cm)')\n",
    "plt.ylabel('Weight (kg)')\n",
    "plt.title('Relationship Between Height and Weight')\n",
    "plt.show()"
   ]
  },
  {
   "cell_type": "markdown",
   "metadata": {
    "id": "2zb2OqT1uRKS"
   },
   "source": [
    "**Practice task:** <nbsp>\n",
    "Print your output with the following adjustments:\n",
    ">  Change the height and weight dataset to data below <br>\n",
    ">  * Height(inches) - Weight (Ibs) <br>\n",
    "65.78 - 112.99 <br>\n",
    "71.52 - 136.49 <br>\n",
    "69.40 - 153.03 <br>\n",
    "68.22 -\t142.34 <br>\n",
    "67.79 -\t144.30 <br>\n",
    "68.70 -\t123.30 <br>\n",
    "69.80 -\t141.49 <br>\n",
    "70.01 -\t136.46 <br>\n",
    "67.90 -\t112.37 <br>\n",
    "66.78 -\t120.67 <br>\n",
    "\n",
    "Compare and comment on the differences between the example and new output\n",
    "    \n",
    "Show the new code and include the comments below"
   ]
  },
  {
   "cell_type": "code",
   "execution_count": null,
   "metadata": {
    "id": "ncqv5OK-uRKS"
   },
   "outputs": [],
   "source": [
    "# Practice Task here"
   ]
  },
  {
   "cell_type": "markdown",
   "metadata": {
    "id": "5QMnJQikuRUR"
   },
   "source": [
    "## <ins>Statistical Center: Mean, Median, Mode<ins>\n",
    "These measures of central tendency provide a summary of the dataset, giving an idea of the average value (mean), the middle value (median), and the most frequent value (mode)."
   ]
  },
  {
   "cell_type": "markdown",
   "metadata": {
    "id": "hgvtLJPpuRUR"
   },
   "source": [
    "### Example Code below:<br>\n",
    "* Explanation: This code demonstrates how to calculate the mean, median, and mode for a series of test scores, highlighting the central tendency of the dataset."
   ]
  },
  {
   "cell_type": "code",
   "execution_count": null,
   "metadata": {
    "colab": {
     "base_uri": "https://localhost:8080/"
    },
    "id": "xZgyrJQIuRUR",
    "outputId": "008cbbfe-a8c8-4cfa-be72-75a1089b1228"
   },
   "outputs": [
    {
     "name": "stdout",
     "output_type": "stream",
     "text": [
      "Mean: 74.5, Median: 72.5, Mode: 70\n"
     ]
    }
   ],
   "source": [
    "import pandas as pd\n",
    "from scipy import stats\n",
    "\n",
    "# Sample dataset: Test scores\n",
    "scores = [55, 70, 65, 90, 95, 85, 80, 70, 75, 60]\n",
    "\n",
    "# Creating a DataFrame\n",
    "df = pd.DataFrame(scores, columns=['TestScores'])\n",
    "\n",
    "# Calculating mean, median, and mode\n",
    "mean_score = df['TestScores'].mean()\n",
    "median_score = df['TestScores'].median()\n",
    "mode_score = df['TestScores'].mode()[0]\n",
    "\n",
    "print(f\"Mean: {mean_score}, Median: {median_score}, Mode: {mode_score}\")"
   ]
  },
  {
   "cell_type": "markdown",
   "metadata": {
    "id": "_-uYhElfuRUR"
   },
   "source": [
    "**Practice task:** <nbsp>\n",
    "Print your output with the following adjustments:\n",
    "> Change the `scores` dataset to [20,55,43,13,86,54,9,85,84,91] <br>\n",
    "\n",
    "Compare and comment on the differences between the example and new output\n",
    "    \n",
    "Show the new code and include the comments below"
   ]
  },
  {
   "cell_type": "code",
   "execution_count": null,
   "metadata": {
    "id": "W074DCliuRUR"
   },
   "outputs": [],
   "source": [
    "# Practice Task here"
   ]
  },
  {
   "cell_type": "markdown",
   "metadata": {
    "id": "TiUIo3vIuRb8"
   },
   "source": [
    "## <ins>Skewed Stories: Understanding Skewness<ins>\n",
    "Skewness measures the asymmetry of the distribution of values in a dataset, indicating whether the data are spread out more to one side of the central value."
   ]
  },
  {
   "cell_type": "markdown",
   "metadata": {
    "id": "NRO_LGKzuRb8"
   },
   "source": [
    "### Example Code below:<br>\n",
    "* Explanation: This code calculates the skewness of the test scores dataset, providing insight into the distribution's symmetry around the mean."
   ]
  },
  {
   "cell_type": "code",
   "execution_count": null,
   "metadata": {
    "colab": {
     "base_uri": "https://localhost:8080/"
    },
    "id": "Yz6dj7jMuRb8",
    "outputId": "4cfa29a0-9402-4099-fb54-dfc26fa792d7"
   },
   "outputs": [
    {
     "name": "stdout",
     "output_type": "stream",
     "text": [
      "Skewness: 0.32558222987638624\n",
      "\n",
      "DataFrame:\n",
      "   LongJumpDistance\n",
      "0              7.92\n",
      "1              8.15\n",
      "2              7.80\n",
      "3              8.20\n",
      "4              7.95\n"
     ]
    }
   ],
   "source": [
    "import pandas as pd\n",
    "\n",
    "# Sample data for long jump distances in meters\n",
    "long_jump_distances = [7.92, 8.15, 7.80, 8.20, 7.95, 7.70, 8.05, 8.10, 7.85, 8.25,\n",
    "                       7.75, 7.90, 8.30, 7.65, 8.35, 7.85, 7.80, 8.40, 7.95, 8.45]\n",
    "\n",
    "# Creating DataFrame\n",
    "df = pd.DataFrame({'LongJumpDistance': long_jump_distances})\n",
    "\n",
    "# Calculating skewness\n",
    "skewness = df['LongJumpDistance'].skew()\n",
    "\n",
    "print(f\"Skewness: {skewness}\")\n",
    "\n",
    "# Displaying DataFrame\n",
    "print(\"\\nDataFrame:\")\n",
    "print(df.head())"
   ]
  },
  {
   "cell_type": "markdown",
   "metadata": {
    "id": "BIrXahsBuRb8"
   },
   "source": [
    "**Practice task:** <nbsp>\n",
    "Print your output with the following adjustments:\n",
    "> Replace the number 7.8 with **7.9** in `long_jump_distances` <br>\n",
    "\n",
    "Compare and comment on the differences between the example and new output\n",
    "    \n",
    "Show the new code and include the comments below"
   ]
  },
  {
   "cell_type": "code",
   "execution_count": null,
   "metadata": {
    "id": "pA21dtSPuRb8"
   },
   "outputs": [],
   "source": [
    "# Practice Task here"
   ]
  },
  {
   "cell_type": "markdown",
   "metadata": {
    "id": "i-xhGOUvuRi8"
   },
   "source": [
    "## <ins>Variance Voyage: Navigating Variability<ins>\n",
    "Variance measures the dispersion of a dataset, indicating how far each data point in the set is from the mean and from each other."
   ]
  },
  {
   "cell_type": "markdown",
   "metadata": {
    "id": "yWdGPf4IuRi8"
   },
   "source": [
    "### Example Code below:<br>\n",
    "* Explanation: This code calculates the variance of the daily temperatures, offering a measure of how spread out the scores are from the average."
   ]
  },
  {
   "cell_type": "code",
   "execution_count": null,
   "metadata": {
    "colab": {
     "base_uri": "https://localhost:8080/"
    },
    "id": "uNEho993uRi8",
    "outputId": "51b46405-ca6a-4272-b1ee-30f7f42f6b9c"
   },
   "outputs": [
    {
     "name": "stdout",
     "output_type": "stream",
     "text": [
      "Variance: 15.33\n"
     ]
    }
   ],
   "source": [
    "import pandas as pd\n",
    "\n",
    "# Sample data for daily temperatures in Celsius for a month\n",
    "temperatures = [20, 22, 23, 25, 24, 26, 27, 28, 29, 28, 26, 25, 24, 23, 22, 20, 19, 18, 17, 16,\n",
    "                15, 16, 17, 18, 19, 20, 21, 22, 23, 24]\n",
    "\n",
    "# Creating DataFrame\n",
    "df_temperatures = pd.DataFrame({'Temperature(C)': temperatures})\n",
    "\n",
    "# Calculating variance\n",
    "variance = df_temperatures['Temperature(C)'].var()\n",
    "\n",
    "# Formatting variance to have 2 significant figures\n",
    "variance = '{:.2f}'.format(variance)\n",
    "\n",
    "print(f\"Variance: {variance}\")"
   ]
  },
  {
   "cell_type": "markdown",
   "metadata": {
    "id": "80grxotauRi8"
   },
   "source": [
    "**Practice task:** <nbsp>\n",
    "Print your output with the following adjustments:\n",
    "> Replace the number 23 with 22 in `temperatures` <br>\n",
    "> Give the printed `variance` 3 significant figures <br>\n",
    "\n",
    "Compare and comment on the differences between the example and new output\n",
    "    \n",
    "Show the new code and include the comments below"
   ]
  },
  {
   "cell_type": "code",
   "execution_count": null,
   "metadata": {
    "id": "H6fK0ZuRuRi8"
   },
   "outputs": [],
   "source": [
    "# Practice Task here"
   ]
  },
  {
   "cell_type": "markdown",
   "metadata": {
    "id": "sY62c57suRqF"
   },
   "source": [
    "## <ins>Standard Deviation Deep Dive<ins>\n",
    "Standard deviation is a measure of the amount of variation or dispersion in a set of values. The coefficient of variation compares the standard deviation to the mean, providing a normalized measure of dispersion."
   ]
  },
  {
   "cell_type": "markdown",
   "metadata": {
    "id": "QNDAnTTLuRqF"
   },
   "source": [
    "### Example Code below:<br>\n",
    "* Explanation: These examples demonstrate how to calculate variance, standard deviation, and coefficient of variation for different datasets."
   ]
  },
  {
   "cell_type": "code",
   "execution_count": null,
   "metadata": {
    "colab": {
     "base_uri": "https://localhost:8080/"
    },
    "id": "Ua0T6o4fuRqF",
    "outputId": "3b868b9b-2209-4237-b6f6-51a969ace7d6"
   },
   "outputs": [
    {
     "name": "stdout",
     "output_type": "stream",
     "text": [
      "Standard Deviation: 2.94, Coefficient of Variation: 0.0, Mean: 70.35\n"
     ]
    }
   ],
   "source": [
    "import pandas as pd\n",
    "\n",
    "# Sample data for individual weights in kilograms\n",
    "weights = [65, 70, 68, 72, 75, 73, 71, 69, 67, 66, 74, 68, 70, 72, 71, 73, 69, 67, 75, 72]\n",
    "\n",
    "# Creating DataFrame\n",
    "df_weights = pd.DataFrame({'Weight(kg)': weights})\n",
    "\n",
    "# Calculating standard deviation\n",
    "std_deviation = df_weights['Weight(kg)'].std()\n",
    "std_deviation1 = '{:.2f}'.format(std_deviation)\n",
    "\n",
    "# Calculating mean weight\n",
    "mean_weight = df_weights['Weight(kg)'].mean()\n",
    "\n",
    "# Calculating coefficient of variation\n",
    "cv = std_deviation / mean_weight\n",
    "cv = '{:.1f}'.format(cv)\n",
    "\n",
    "print(f\"Standard Deviation: {std_deviation1}, Coefficient of Variation: {cv}, Mean: {mean_weight}\")"
   ]
  },
  {
   "cell_type": "markdown",
   "metadata": {
    "id": "riOgOFPfuRqG"
   },
   "source": [
    "**Practice task:** <nbsp>\n",
    "Print your output with the following adjustments:\n",
    "> Change the significant figure to 3 for `cv` <br>\n",
    "> Replace the number 66 with **90** in `weights` <br>\n",
    "\n",
    "Compare and comment on the differences between the example and new output\n",
    "    \n",
    "Show the new code and include the comments below"
   ]
  },
  {
   "cell_type": "code",
   "execution_count": null,
   "metadata": {
    "id": "8J79nCLuuRqG"
   },
   "outputs": [],
   "source": [
    "# Practice Task here"
   ]
  },
  {
   "cell_type": "markdown",
   "metadata": {
    "id": "2qaiZpnXuRwf"
   },
   "source": [
    "## <ins> Covert Covariance: Insights into Relationships<ins>\n",
    "Covariance indicates the direction of the linear relationship between two variables. It can be positive (indicating that the variables move together) or negative (indicating that they move inversely)."
   ]
  },
  {
   "cell_type": "markdown",
   "metadata": {
    "id": "BR3Dx9ROuRwf"
   },
   "source": [
    "### Example Code below:<br>\n",
    "* Explanation: This example calculates the covariance between height and weight, providing insights into their relationship.\n",
    "\n",
    "> * Positive Covariance: A positive covariance indicates that as one variable increases, the other tends to increase as well, and vice versa.<br>\n",
    "\n",
    "> * Negative Covariance: A negative covariance suggests that as one variable increases, the other tends to decrease, and vice versa.<br>\n",
    "\n",
    "> * Zero Covariance: A covariance of zero suggests no linear relationship between the variables. However, this doesn't necessarily mean there's no relationship at all; it just means there's no linear relationship. Non-linear relationships may still exist.<br>"
   ]
  },
  {
   "cell_type": "code",
   "execution_count": null,
   "metadata": {
    "colab": {
     "base_uri": "https://localhost:8080/"
    },
    "id": "s3fIMe9cuRwf",
    "outputId": "a38090c3-092f-425e-991d-c35b58b19191"
   },
   "outputs": [
    {
     "name": "stdout",
     "output_type": "stream",
     "text": [
      "Covariance between Height and Weight: 62.5\n"
     ]
    }
   ],
   "source": [
    "# Sample dataset: Height and Weight\n",
    "data = {'Height': [160, 165, 170, 175, 180], 'Weight': [55, 60, 65, 70, 75]}\n",
    "df = pd.DataFrame(data)\n",
    "\n",
    "# Calculating covariance\n",
    "covariance = df.cov().iloc[0,1]\n",
    "\n",
    "print(f\"Covariance between Height and Weight: {covariance}\")"
   ]
  },
  {
   "cell_type": "markdown",
   "metadata": {
    "id": "Ak4_vVZruRwf"
   },
   "source": [
    "**Practice task:** <nbsp>\n",
    "Print your output with the following adjustments:\n",
    "> Add 190, 200, 220 to 'Height' and 84, 87, 90 to 'Weight' <br>\n",
    "\n",
    "Compare and comment on the differences between the example and new output\n",
    "    \n",
    "Show the new code and include the comments below"
   ]
  },
  {
   "cell_type": "code",
   "execution_count": null,
   "metadata": {
    "id": "PBMepHdQuRwg"
   },
   "outputs": [],
   "source": [
    "# Practice Task here"
   ]
  },
  {
   "cell_type": "markdown",
   "metadata": {
    "id": "Sy0FTaMkuR27"
   },
   "source": [
    "## <ins>Correlation: Unveiling Connections<ins>\n",
    "Correlation measures both the strength and direction of the linear relationship between two variables, ranging from -1 to 1."
   ]
  },
  {
   "cell_type": "markdown",
   "metadata": {
    "id": "_emSFz2kuR27"
   },
   "source": [
    "### Example Code below:<br>\n",
    "* Explanation: This code snippet calculates the correlation coefficient between the daily wind speed and the number of fishermen at sea, quantifying the degree to which these variables are linearly related."
   ]
  },
  {
   "cell_type": "code",
   "execution_count": null,
   "metadata": {
    "colab": {
     "base_uri": "https://localhost:8080/"
    },
    "id": "yiHxVG6HuR28",
    "outputId": "d5a7dc7e-1193-491c-b556-220a4257b165"
   },
   "outputs": [
    {
     "name": "stdout",
     "output_type": "stream",
     "text": [
      "Correlation between WindSpeed and Fishermen: 0.9\n"
     ]
    }
   ],
   "source": [
    "import pandas as pd\n",
    "\n",
    "# Sample data for daily wind speed (in knots) and number of fishermen\n",
    "data = {'WindSpeed (knots)': [12, 10, 15, 13, 14, 11, 16, 14, 13, 12],\n",
    "        'Fishermen': [20, 18, 22, 19, 21, 17, 23, 20, 18, 19]}\n",
    "\n",
    "# Creating DataFrame\n",
    "df = pd.DataFrame(data)\n",
    "\n",
    "# Calculating correlation\n",
    "correlation = df.corr().iloc[0, 1]\n",
    "correlation = '{:.1f}'.format(correlation)\n",
    "\n",
    "print(f\"Correlation between WindSpeed and Fishermen: {correlation}\")"
   ]
  },
  {
   "cell_type": "markdown",
   "metadata": {
    "id": "-SI9AOs_uR28"
   },
   "source": [
    "**Practice task:** <nbsp>\n",
    "Print your output with the following adjustments:\n",
    "> Add 20, 30,40 to 'Windspeed' and 15,10,4 to 'Fisherman' <br>\n",
    "\n",
    "Compare and comment on the differences between the example and new output\n",
    "    \n",
    "Show the new code and include the comments below"
   ]
  },
  {
   "cell_type": "code",
   "execution_count": null,
   "metadata": {
    "id": "x4X90oXHuR28"
   },
   "outputs": [],
   "source": [
    "# Practice Task here"
   ]
  },
  {
   "cell_type": "markdown",
   "metadata": {
    "id": "HvcIIV24uR9e"
   },
   "source": [
    "## <ins>Practical Example - Descriptive Statistics<ins>\n",
    "Applying the descriptive statistics concepts to a real dataset helps consolidate understanding and demonstrates the practical relevance of statistical analysis.\n",
    "\n"
   ]
  },
  {
   "cell_type": "markdown",
   "metadata": {
    "id": "YBxP72M0uR9e"
   },
   "source": [
    "### Example Code below:<br>\n",
    "* Explanation: his comprehensive code offers a quick overview of various descriptive statistics for the dataset, including mean, standard deviation, and quartiles, providing a broad summary of the data's characteristics.\n",
    "\n",
    "* Data taken from the example in **Correlation**"
   ]
  },
  {
   "cell_type": "code",
   "execution_count": null,
   "metadata": {
    "colab": {
     "base_uri": "https://localhost:8080/"
    },
    "id": "s0NOhld6uR9f",
    "outputId": "7f4f6493-7211-4c61-a968-8c979a1dc3fb"
   },
   "outputs": [
    {
     "name": "stdout",
     "output_type": "stream",
     "text": [
      "       WindSpeed (knots)  Fishermen\n",
      "count          10.000000  10.000000\n",
      "mean           13.000000  19.700000\n",
      "std             1.825742   1.888562\n",
      "min            10.000000  17.000000\n",
      "25%            12.000000  18.250000\n",
      "50%            13.000000  19.500000\n",
      "75%            14.000000  20.750000\n",
      "max            16.000000  23.000000\n"
     ]
    }
   ],
   "source": [
    "# Sample data for daily wind speed (in knots) and number of fishermen\n",
    "data = {'WindSpeed (knots)': [12, 10, 15, 13, 14, 11, 16, 14, 13, 12],\n",
    "        'Fishermen': [20, 18, 22, 19, 21, 17, 23, 20, 18, 19]}\n",
    "\n",
    "# Creating DataFrame\n",
    "df = pd.DataFrame(data)\n",
    "\n",
    "# Displaying a comprehensive descriptive analysis\n",
    "descriptive_stats = df.describe()\n",
    "\n",
    "print(descriptive_stats)"
   ]
  },
  {
   "cell_type": "markdown",
   "metadata": {
    "id": "Bgc03lIquR9f"
   },
   "source": [
    "**Practice task:** <nbsp>\n",
    "Print your output with the following adjustments:\n",
    "> Modify the windspeed and fishermen, and observe the changes to each index item (count, mean, std,min)<br>\n",
    "\n",
    "Compare and comment on the differences between the example and new output\n",
    "    \n",
    "Show the new code and include the comments below"
   ]
  },
  {
   "cell_type": "code",
   "execution_count": null,
   "metadata": {
    "id": "XALLf8EMuR9f"
   },
   "outputs": [],
   "source": [
    "# Practice Task here"
   ]
  },
  {
   "cell_type": "markdown",
   "metadata": {
    "id": "oMweZimemFoq"
   },
   "source": [
    "# **Inferential Statistics Fundamentals**\n",
    "\n",
    "* Inferential statistics allow us to make predictions or inferences about a population based on a sample, using probability theory to estimate the likelihood of those predictions."
   ]
  },
  {
   "cell_type": "markdown",
   "metadata": {
    "id": "XFb0sSLvuSC8"
   },
   "source": [
    "## <ins>Inference Introduction: Delving into Distribution<ins>\n",
    "Understanding distributions is crucial in inferential statistics, as they describe how values are spread or distributed across intervals. Distributions can take various forms, including normal, binomial, and Poisson distributions."
   ]
  },
  {
   "cell_type": "markdown",
   "metadata": {
    "id": "F3WGFX2yuSC9"
   },
   "source": [
    "### Example Code below:<br>\n",
    "* Explanation: This code generates and plots a histogram of a normal distribution, illustrating one of the most fundamental distributions in statistics."
   ]
  },
  {
   "cell_type": "code",
   "execution_count": null,
   "metadata": {
    "colab": {
     "base_uri": "https://localhost:8080/"
    },
    "id": "qDw9qIBMuSC9",
    "outputId": "a0ddd16d-be08-4013-a0a2-17a7bbdb5ba4"
   },
   "outputs": [
    {
     "data": {
      "image/png": "[encoded data removed]",
      "text/plain": [
       "<Figure size 640x480 with 1 Axes>"
      ]
     },
     "metadata": {},
     "output_type": "display_data"
    }
   ],
   "source": [
    "import numpy as np\n",
    "import matplotlib.pyplot as plt\n",
    "\n",
    "# Generating a sample normal distribution\n",
    "data = np.random.normal(loc=0, scale=1, size=10000)\n",
    "\n",
    "# Plotting the distribution\n",
    "plt.hist(data, bins=30, edgecolor='black', density=True)\n",
    "plt.title('Normal Distribution')\n",
    "plt.xlabel('Value')\n",
    "plt.ylabel('Frequency')\n",
    "plt.show()"
   ]
  },
  {
   "cell_type": "markdown",
   "metadata": {
    "id": "_voeeBkQuSC9"
   },
   "source": [
    "**Practice task:** <nbsp>\n",
    "Print your output with the following adjustments:\n",
    "> Replace `data` with `heights`\n",
    "> Let the new dataset be the heights of individuals (in centimeters) <br>\n",
    "heights = [165, 170, 175, 180, 172, 168, 176, 169, 171, 178, 173, 169, 174, 177, 168, 172, 180, 175, 172, 168]<br>\n",
    "\n",
    "Compare and comment on the differences between the example and new output\n",
    "    \n",
    "Show the new code and include the comments below"
   ]
  },
  {
   "cell_type": "code",
   "execution_count": null,
   "metadata": {
    "id": "I7Ib8-rvuSC9"
   },
   "outputs": [],
   "source": [
    "# Practice Task here"
   ]
  },
  {
   "cell_type": "markdown",
   "metadata": {
    "id": "HcdbV5RMz8JB"
   },
   "source": [
    "## <ins>Normality Navigated: A Journey into the Normal Distribution<ins>\n",
    "The normal distribution is a key concept in statistics, often used in the central limit theorem and confidence interval calculations, due to its symmetrical shape and predictability."
   ]
  },
  {
   "cell_type": "markdown",
   "metadata": {
    "id": "MYT_8j3qz8JH"
   },
   "source": [
    "### Example Code below:<br>\n",
    "* Explanation: In this example, np.random.normal() generates a dataset of heights with a mean of 170 cm and a standard deviation of 7 cm, which approximately follows a normal distribution. The histogram visualizes the distribution of these heights."
   ]
  },
  {
   "cell_type": "code",
   "execution_count": null,
   "metadata": {
    "colab": {
     "base_uri": "https://localhost:8080/"
    },
    "id": "1OGY_WASz8JH",
    "outputId": "032d5acf-b165-4f81-ad0b-b63bafc7e6ad"
   },
   "outputs": [
    {
     "data": {
      "image/png": "[encoded data removed]",
      "text/plain": [
       "<Figure size 640x480 with 1 Axes>"
      ]
     },
     "metadata": {},
     "output_type": "display_data"
    }
   ],
   "source": [
    "import numpy as np\n",
    "import matplotlib.pyplot as plt\n",
    "\n",
    "# Generating hypothetical height data that approximately follows a normal distribution\n",
    "mean_height = 170  # Mean height in centimeters\n",
    "std_deviation = 7  # Standard deviation of height in centimeters\n",
    "num_samples = 1000  # Number of samples\n",
    "\n",
    "# Generating heights dataset\n",
    "heights = np.random.normal(loc=mean_height, scale=std_deviation, size=num_samples)\n",
    "\n",
    "# Plotting the distribution\n",
    "plt.hist(heights, bins=30, edgecolor='black', density=True)\n",
    "plt.title('Height Distribution (Approximately Normal)')\n",
    "plt.xlabel('Height (cm)')\n",
    "plt.ylabel('Density')\n",
    "plt.show()\n"
   ]
  },
  {
   "cell_type": "markdown",
   "metadata": {
    "id": "RQBgjLFBz8JI"
   },
   "source": [
    "**Practice task:** <nbsp>\n",
    "Print your output with the following adjustments:\n",
    "> Increase the sample size to 10000 <br>\n",
    "> Increase the standard deviation to 50 <br>\n",
    "\n",
    "Compare and comment on the differences between the example and new output\n",
    "    \n",
    "Show the new code and include the comments below"
   ]
  },
  {
   "cell_type": "code",
   "execution_count": null,
   "metadata": {
    "id": "73dMz0-Lz8JI"
   },
   "outputs": [],
   "source": [
    "# Practice Task here"
   ]
  },
  {
   "cell_type": "markdown",
   "metadata": {
    "id": "nBuciRlpz8qq"
   },
   "source": [
    "## <ins>Standardization Station: Understanding the Standard Normal<ins>\n",
    "A standard normal distribution is a normal distribution with a mean of 0 and a standard deviation of 1. It's used as a basis for z-score calculations, allowing comparison between different datasets."
   ]
  },
  {
   "cell_type": "markdown",
   "metadata": {
    "id": "a4DKvBANz8qr"
   },
   "source": [
    "### Example Code below:<br>\n",
    "* Explanation: This will give you a histogram representing the standard normal distribution of Z-scores for the tree sizes dataset."
   ]
  },
  {
   "cell_type": "code",
   "execution_count": null,
   "metadata": {
    "colab": {
     "base_uri": "https://localhost:8080/"
    },
    "id": "781cqWxIz8qr",
    "outputId": "8a4dfc30-6167-4a50-e223-3175fa5b6be6"
   },
   "outputs": [
    {
     "data": {
      "image/png": "[encoded data removed]",
      "text/plain": [
       "<Figure size 640x480 with 1 Axes>"
      ]
     },
     "metadata": {},
     "output_type": "display_data"
    }
   ],
   "source": [
    "import numpy as np\n",
    "import matplotlib.pyplot as plt\n",
    "from scipy.stats import zscore\n",
    "\n",
    "# Generating hypothetical tree sizes dataset that approximately follows a normal distribution\n",
    "mean_size = 10  # Mean size of trees (in meters)\n",
    "std_deviation = 2  # Standard deviation of tree sizes (in meters)\n",
    "num_trees = 1000  # Number of trees\n",
    "\n",
    "# Generating tree sizes dataset\n",
    "tree_sizes = np.random.normal(loc=mean_size, scale=std_deviation, size=num_trees)\n",
    "\n",
    "# Calculating Z-scores for tree sizes\n",
    "z_scores = zscore(tree_sizes)\n",
    "\n",
    "# Plotting the standard normal distribution of Z-scores\n",
    "plt.hist(z_scores, bins=30, edgecolor='black', density=True)\n",
    "plt.title('Standard Normal Distribution of Tree Sizes')\n",
    "plt.xlabel('Z-Score')\n",
    "plt.ylabel('Frequency')\n",
    "plt.show()"
   ]
  },
  {
   "cell_type": "markdown",
   "metadata": {
    "id": "kX0KSERez8qr"
   },
   "source": [
    "**Practice task:** <nbsp>\n",
    "Print your output with the following adjustments:\n",
    "> Adjust the `mean_size` to 20 <br>\n",
    "> Change the standard deviation or `std_deviation` to 5 <br>\n",
    "\n",
    "Compare and comment on the differences between the example and new output\n",
    "    \n",
    "Show the new code and include the comments below"
   ]
  },
  {
   "cell_type": "code",
   "execution_count": null,
   "metadata": {
    "id": "oC3icBxSz8qr"
   },
   "outputs": [],
   "source": [
    "# Practice Task here"
   ]
  },
  {
   "cell_type": "markdown",
   "metadata": {
    "id": "aJzRwPN7z8us"
   },
   "source": [
    "## <ins>Central Limit Theorem: The Heart of Inference<ins>\n",
    "The central limit theorem states that the distribution of sample means approximates a normal distribution as the sample size becomes large, regardless of the population's distribution."
   ]
  },
  {
   "cell_type": "markdown",
   "metadata": {
    "id": "t6yftp0Kz8ut"
   },
   "source": [
    "### Example Code below:<br>\n",
    "* Explanation: This code is testing if an exponentially distributed sample/population will follow a normal distribution if the sample size is large enough."
   ]
  },
  {
   "cell_type": "code",
   "execution_count": null,
   "metadata": {
    "colab": {
     "base_uri": "https://localhost:8080/"
    },
    "id": "zo_UwEonz8ut",
    "outputId": "6c2cf1b4-f318-4b61-e86d-627335d9b8fc"
   },
   "outputs": [
    {
     "name": "stdout",
     "output_type": "stream",
     "text": [
      "Population mean: 4.0\n",
      "Population standard deviation: 4.0\n"
     ]
    },
    {
     "data": {
      "image/png": "[encoded data removed]",
      "text/plain": [
       "<Figure size 653x500 with 1 Axes>"
      ]
     },
     "metadata": {},
     "output_type": "display_data"
    }
   ],
   "source": [
    "import pandas as pd\n",
    "import numpy as np\n",
    "import matplotlib.pyplot as plt\n",
    "import seaborn as sns\n",
    "\n",
    "# Exponentially distributed population\n",
    "rate = 0.25\n",
    "\n",
    "#Population mean\n",
    "mean = 1/rate\n",
    "\n",
    "# Population standard deviation\n",
    "standard_deviation = np.sqrt(1/(rate**2))\n",
    "\n",
    "print('Population mean:', mean)\n",
    "print('Population standard deviation:', standard_deviation)\n",
    "\n",
    "# drawing 50 random samples of size 2 from the exponentially distributed population\n",
    "sample_size = 2\n",
    "df2 = pd.DataFrame()\n",
    "\n",
    "for i in range(1, 51):\n",
    "    exponential_sample = np.random.exponential((1/rate), sample_size)\n",
    "    col = f'sample {i}'\n",
    "    df2[col] = exponential_sample\n",
    "\n",
    "# Calculating the sample mean\n",
    "sample_mean = df2_sample_means['Sample means'].mean()\n",
    "\n",
    "# Taking a peek at the samples\n",
    "df2\n",
    "\n",
    "# Calculating sample means and plotting their distribution\n",
    "df2_sample_means = pd.DataFrame(df2.mean(),columns=['Sample means'])\n",
    "sns.displot(df2_sample_means);"
   ]
  },
  {
   "cell_type": "markdown",
   "metadata": {
    "id": "tbANmkbjz8ut"
   },
   "source": [
    "**Practice task:** <nbsp>\n",
    "Print your output with the following adjustments:\n",
    "> Change the `sample_size` to 1000 <br>\n",
    "\n",
    "Compare and comment on the differences between the example and new output\n",
    "    \n",
    "Show the new code and include the comments below"
   ]
  },
  {
   "cell_type": "code",
   "execution_count": null,
   "metadata": {
    "id": "6Q-3s2xLz8ut"
   },
   "outputs": [],
   "source": [
    "# Practice Task here"
   ]
  },
  {
   "cell_type": "markdown",
   "metadata": {
    "id": "YnaQSdNaz8ym"
   },
   "source": [
    "## <ins>Error Exploration: Unraveling Standard Error<ins>\n",
    "The standard error measures the dispersion of sample means around the population mean. It's crucial for constructing confidence intervals and conducting hypothesis testing."
   ]
  },
  {
   "cell_type": "markdown",
   "metadata": {
    "id": "a6I2jiv0z8yn"
   },
   "source": [
    "### Example Code below:<br>\n",
    "* Explanation: This codw calculates the standard error using the formula: standard deviation of the population divided by the square root of the sample size.\n",
    "* Data taken from the example in **Central Limit Theorem**"
   ]
  },
  {
   "cell_type": "code",
   "execution_count": null,
   "metadata": {
    "colab": {
     "base_uri": "https://localhost:8080/"
    },
    "id": "8NxsqLRez8yn",
    "outputId": "cba109c2-0b69-4f9f-d462-5e548292dea0"
   },
   "outputs": [
    {
     "name": "stdout",
     "output_type": "stream",
     "text": [
      "Standard Error: 0.57\n"
     ]
    }
   ],
   "source": [
    "# Using the sample size and population standard deviation to calculate the standard error\n",
    "sample_size = 50  # Number of samples\n",
    "population_std_dev = standard_deviation  # Population standard deviation\n",
    "\n",
    "# Calculating standard error\n",
    "standard_error = population_std_dev / np.sqrt(sample_size)\n",
    "standard_error = '{:.2f}'.format(standard_error)\n",
    "\n",
    "print(f\"Standard Error: {standard_error}\")"
   ]
  },
  {
   "cell_type": "markdown",
   "metadata": {
    "id": "teASCoSgz8yn"
   },
   "source": [
    "**Practice task:** <nbsp>\n",
    "Print your output with the following adjustments:\n",
    "> Change the `sample_size` to 1000\n",
    "\n",
    "Compare and comment on the differences between the example and new output\n",
    "    \n",
    "Show the new code and include the comments below"
   ]
  },
  {
   "cell_type": "code",
   "execution_count": null,
   "metadata": {
    "id": "gkl-FMoZz8yn"
   },
   "outputs": [],
   "source": [
    "# Practice Task here"
   ]
  },
  {
   "cell_type": "markdown",
   "metadata": {
    "id": "3V51e2wBz83I"
   },
   "source": [
    "## <ins>Estimation Expedition: Navigating Estimators<ins>\n",
    " An estimator is a statistic used to estimate a population parameter, while an estimate is the actual value obtained from the sample data. Understanding the distinction is key for accurate data analysis."
   ]
  },
  {
   "cell_type": "markdown",
   "metadata": {
    "id": "OJwQv4E7z83I"
   },
   "source": [
    "### Example Code below:<br>\n",
    "* Explanation: This code generates and plots a histogram of a normal distribution, illustrating one of the most fundamental distributions in statistics."
   ]
  },
  {
   "cell_type": "code",
   "execution_count": null,
   "metadata": {
    "colab": {
     "base_uri": "https://localhost:8080/"
    },
    "id": "5qG1dZMwz83J",
    "outputId": "5ad2ac67-7477-4ac7-cee9-92011532b362"
   },
   "outputs": [
    {
     "name": "stdout",
     "output_type": "stream",
     "text": [
      "Estimate of the Population Mean: 25.0\n"
     ]
    }
   ],
   "source": [
    "import numpy as np\n",
    "\n",
    "# Basic dataset\n",
    "data = np.array([15, 20, 25, 30, 35])\n",
    "\n",
    "# Using the provided estimator (mean function) to calculate the estimate of the population mean\n",
    "estimator = np.mean  # The estimator is the mean function\n",
    "estimate = estimator(data)  # The estimate is the calculated mean\n",
    "\n",
    "print(f\"Estimate of the Population Mean: {estimate}\")"
   ]
  },
  {
   "cell_type": "markdown",
   "metadata": {
    "id": "qpvClvvtz83J"
   },
   "source": [
    "**Practice task:** <nbsp>\n",
    "Print your output with the following adjustments:\n",
    "> Add 40, 30, 66, 74 into `data`<br>\n",
    "\n",
    "Compare and comment on the differences between the example and new output\n",
    "    \n",
    "Show the new code and include the comments below"
   ]
  },
  {
   "cell_type": "code",
   "execution_count": null,
   "metadata": {
    "id": "X8cQupKBz83J"
   },
   "outputs": [],
   "source": [
    "# Practice Task here"
   ]
  },
  {
   "cell_type": "markdown",
   "metadata": {
    "id": "6Y2nZvJzAG-o"
   },
   "source": [
    "# **Confidence Interval Clarifications**\n",
    "\n",
    "* Confidence intervals (CIs) are a range of values used to estimate the truth of a population parameter. This section will guide you through calculating CIs under different conditions, utilizing the Z-score and the Student's T distribution, and comparing means from different samples."
   ]
  },
  {
   "cell_type": "markdown",
   "metadata": {
    "id": "KnPxOgAbaQtK"
   },
   "source": [
    "### Example Code below:<br>\n",
    "* Explanation: This code calculates a 95% confidence interval for a sample mean using the Z-score. The margin of error is determined by the Z-score corresponding to the desired confidence level."
   ]
  },
  {
   "cell_type": "code",
   "execution_count": null,
   "metadata": {
    "colab": {
     "base_uri": "https://localhost:8080/"
    },
    "id": "XyEL29qBEcSR",
    "outputId": "6d23db86-4654-4f09-af06-dcd80747d9e3"
   },
   "outputs": [
    {
     "name": "stdout",
     "output_type": "stream",
     "text": [
      "95% Confidence Interval: ('108.64', '169.93')\n"
     ]
    }
   ],
   "source": [
    "import numpy as np\n",
    "import scipy.stats as stats\n",
    "\n",
    "# Sample dataset: A small set of data points\n",
    "data = np.array([120, 112, 131, 211, 124, 142, 135])\n",
    "\n",
    "# Calculating the sample mean and standard error\n",
    "mean = np.mean(data)\n",
    "se = stats.sem(data)\n",
    "\n",
    "# Calculating the 95% confidence interval\n",
    "confidence = 0.95\n",
    "ci = stats.t.interval(confidence, len(data)-1, loc=mean, scale=se)\n",
    "ci = tuple(\"{:.2f}\".format(value) for value in ci)\n",
    "\n",
    "print(f\"95% Confidence Interval: {ci}\")"
   ]
  },
  {
   "cell_type": "markdown",
   "metadata": {
    "id": "ByZRWOopZ0dA"
   },
   "source": [
    "**Practice task**: Print your output with the following adjustments:\n",
    "\n",
    "> Change the confidence level to calculate 90% and 99% confidence intervals\n",
    "\n",
    "Compare and comment on the differences between the example and new output\n",
    "\n",
    "Show the new code and include the comments below"
   ]
  },
  {
   "cell_type": "code",
   "execution_count": null,
   "metadata": {
    "id": "k1bhHGYdZ06W"
   },
   "outputs": [],
   "source": [
    "# Practice Task here"
   ]
  },
  {
   "cell_type": "markdown",
   "metadata": {
    "id": "tnMQWshFAG-v"
   },
   "source": [
    "## <ins>Navigating Variance: Understanding Population Variance Known and the Z-Score<ins>\n",
    "When the population variance is known, the Z-score is used for a more precise CI calculation, applicable for large samples."
   ]
  },
  {
   "cell_type": "markdown",
   "metadata": {
    "id": "ZAFTzOa1AG-v"
   },
   "source": [
    "### Example Code below:<br>\n",
    "* Explanation: This code uses a known population variance instead of a sample standard deviation, showcasing its application in confidence interval calculations."
   ]
  },
  {
   "cell_type": "code",
   "execution_count": null,
   "metadata": {
    "colab": {
     "base_uri": "https://localhost:8080/"
    },
    "id": "LSkTeFy7AG-v",
    "outputId": "0f623ebc-0acb-42ec-d47d-bdea597abebe"
   },
   "outputs": [
    {
     "name": "stdout",
     "output_type": "stream",
     "text": [
      "95% Confidence Interval with Known Variance: [49.24, 50.76]\n"
     ]
    }
   ],
   "source": [
    "# Sample mean and standard deviation\n",
    "sample_mean = 50\n",
    "sample_std = 10\n",
    "n = 100  # Sample size\n",
    "confidence_level = 0.95\n",
    "\n",
    "population_variance = 15\n",
    "z_critical = stats.norm.ppf(q = 0.975)\n",
    "margin_of_error = z_critical * (np.sqrt(population_variance) / np.sqrt(n))\n",
    "\n",
    "# Confidence interval with known population variance\n",
    "ci_lower = sample_mean - margin_of_error\n",
    "ci_upper = sample_mean + margin_of_error\n",
    "ci_lower = '{:.2f}'.format(ci_lower)\n",
    "ci_upper = '{:.2f}'.format(ci_upper)\n",
    "\n",
    "print(f\"95% Confidence Interval with Known Variance: [{ci_lower}, {ci_upper}]\")"
   ]
  },
  {
   "cell_type": "markdown",
   "metadata": {
    "id": "PBptUL_HAG-v"
   },
   "source": [
    "**Practice task:** <nbsp>\n",
    "Print your output with the following adjustments:\n",
    "> Modify the `population_variance` and observe how it impacts the confidence interval.\n",
    "\n",
    "Compare and comment on the differences between the example and new output\n",
    "    \n",
    "Show the new code and include the comments below"
   ]
  },
  {
   "cell_type": "code",
   "execution_count": null,
   "metadata": {
    "id": "fV2gQLP8AG-v"
   },
   "outputs": [],
   "source": [
    "# Practice Task here"
   ]
  },
  {
   "cell_type": "markdown",
   "metadata": {
    "id": "EYximV-AAG-w"
   },
   "source": [
    "## <ins>Confidence Interval Clarifications<ins>\n",
    "It's crucial to understand that a CI does not say the parameter will be within the interval with a certain probability. Instead, if we were to repeat the study many times, 95% of the calculated intervals would contain the parameter."
   ]
  },
  {
   "cell_type": "markdown",
   "metadata": {
    "id": "obN49CPoAG-w"
   },
   "source": [
    "### Example Code below:<br>\n",
    "* Explanation: This code demonstrates how to calculate and visualize a confidence interval for the population mean:"
   ]
  },
  {
   "cell_type": "code",
   "execution_count": null,
   "metadata": {
    "colab": {
     "base_uri": "https://localhost:8080/",
     "height": 524
    },
    "id": "rElFFI_1AG-w",
    "outputId": "b3db12cd-679b-4de1-9fe1-fb4456915271"
   },
   "outputs": [
    {
     "data": {
      "image/png": "[encoded data removed]",
      "text/plain": [
       "<Figure size 640x480 with 1 Axes>"
      ]
     },
     "metadata": {},
     "output_type": "display_data"
    },
    {
     "name": "stdout",
     "output_type": "stream",
     "text": [
      "Sample Mean: 100.90\n",
      "Standard Error: 1.51\n",
      "95% Confidence Interval: (97.8973346803804, 103.89690578565418)\n"
     ]
    }
   ],
   "source": [
    "import numpy as np\n",
    "import scipy.stats as stats\n",
    "import matplotlib.pyplot as plt\n",
    "\n",
    "# Generate some sample data (normally distributed)\n",
    "np.random.seed(0)  # For reproducibility\n",
    "sample_size = 100\n",
    "data = np.random.normal(loc=100, scale=15, size=sample_size)  # Mean=100, Standard deviation=15\n",
    "\n",
    "# Calculate sample statistics\n",
    "sample_mean = np.mean(data)\n",
    "sample_std = np.std(data)\n",
    "\n",
    "# Set confidence level (e.g., 95%)\n",
    "confidence_level = 0.95\n",
    "\n",
    "# Calculate critical value from the t-distribution for a two-tailed test\n",
    "alpha = 1 - confidence_level\n",
    "critical_value = stats.t.ppf(1 - alpha / 2, df=sample_size - 1)\n",
    "\n",
    "# Calculate standard error\n",
    "standard_error = sample_std / np.sqrt(sample_size)\n",
    "\n",
    "# Calculate margin of error and confidence interval\n",
    "margin_of_error = critical_value * standard_error\n",
    "confidence_interval = (sample_mean - margin_of_error, sample_mean + margin_of_error)\n",
    "\n",
    "# Plot histogram of sample data\n",
    "plt.hist(data, bins=20, density=True, alpha=0.6, color='b')\n",
    "\n",
    "# Plot vertical lines for the confidence interval\n",
    "plt.axvline(x=confidence_interval[0], color='r', linestyle='--', label='Lower bound of CI')\n",
    "plt.axvline(x=confidence_interval[1], color='r', linestyle='--', label='Upper bound of CI')\n",
    "\n",
    "# Annotate the plot with explanation of confidence interval interpretation\n",
    "plt.text(90, 0.03, f'95% of calculated intervals would contain the parameter', fontsize=10, color='black')\n",
    "\n",
    "plt.title('Histogram of Sample Data with 95% Confidence Interval')\n",
    "plt.xlabel('Value')\n",
    "plt.ylabel('Density')\n",
    "plt.legend()\n",
    "plt.show()\n",
    "\n",
    "print(f\"Sample Mean: {sample_mean:.2f}\")\n",
    "print(f\"Standard Error: {standard_error:.2f}\")\n",
    "print(f\"95% Confidence Interval: {confidence_interval}\")\n",
    "\n"
   ]
  },
  {
   "cell_type": "markdown",
   "metadata": {
    "id": "zPjbm2h-AG-w"
   },
   "source": [
    "**Practice task:** <nbsp>\n",
    "Print your output with the following adjustments:\n",
    "> Change the confidence level to 90% <br>\n",
    "> Change the sample size to 50 <br>\n",
    "\n",
    "Compare and comment on the differences between the example and new output\n",
    "    \n",
    "Show the new code and include the comments below"
   ]
  },
  {
   "cell_type": "code",
   "execution_count": null,
   "metadata": {
    "id": "ST1C20azAG-w"
   },
   "outputs": [],
   "source": [
    "# Practice Task here"
   ]
  },
  {
   "cell_type": "markdown",
   "metadata": {
    "id": "8o7V2ucOAG-w"
   },
   "source": [
    "## <ins>Tales of the T-Distribution<ins>\n",
    "For small sample sizes or when the population variance is unknown, the Student's T distribution provides a more accurate estimate for the confidence interval."
   ]
  },
  {
   "cell_type": "markdown",
   "metadata": {
    "id": "DjfuPIKJAG-w"
   },
   "source": [
    "### Example Code below:<br>\n",
    "* Explanation: This example uses the t-distribution for calculating the confidence interval, appropriate for smaller samples or unknown population variance. The degrees of freedom (df) are adjusted based on the sample size."
   ]
  },
  {
   "cell_type": "code",
   "execution_count": null,
   "metadata": {
    "colab": {
     "base_uri": "https://localhost:8080/"
    },
    "id": "byO7YeuKAG-w",
    "outputId": "0d18e6f7-6e0a-40e7-8b8c-571c9d277a21"
   },
   "outputs": [
    {
     "name": "stdout",
     "output_type": "stream",
     "text": [
      "95% Confidence Interval (T-distribution): [97.8973346803804, 103.89690578565418]\n"
     ]
    }
   ],
   "source": [
    "# Generate some sample data (normally distributed)\n",
    "np.random.seed(0)  # For reproducibility\n",
    "sample_size = 25\n",
    "data = np.random.normal(loc=100, scale=15, size=sample_size)  # Mean=100, Standard deviation=15\n",
    "\n",
    "# Assuming population variance is unknown and sample size is small\n",
    "t_critical = stats.t.ppf(q = 0.975, df=n-1)\n",
    "margin_of_error = t_critical * (sample_std / np.sqrt(n))\n",
    "\n",
    "# T-distribution confidence interval\n",
    "ci_lower = sample_mean - margin_of_error\n",
    "ci_upper = sample_mean + margin_of_error\n",
    "\n",
    "print(f\"95% Confidence Interval (T-distribution): [{ci_lower}, {ci_upper}]\")"
   ]
  },
  {
   "cell_type": "markdown",
   "metadata": {
    "id": "36IQRp4hAG-x"
   },
   "source": [
    "**Practice task:** <nbsp>\n",
    "Print your output with the following adjustments:\n",
    "> Adjust the sample size to akter the degrees of freedom <br>\n",
    "> Experiment with different levels of confidence to see how the t-critical value and width of confidence interval change <br>\n",
    "\n",
    "Compare and comment on the differences between the example and new output\n",
    "    \n",
    "Show the new code and include the comments below"
   ]
  },
  {
   "cell_type": "code",
   "execution_count": null,
   "metadata": {
    "id": "XZbVfz9eAG-x"
   },
   "outputs": [],
   "source": [
    "# Practice Task here"
   ]
  },
  {
   "cell_type": "markdown",
   "metadata": {
    "id": "BjoE1xqmAG-x"
   },
   "source": [
    "## <ins>T-Score Tales: Population Variance Unknown<ins>\n",
    " The t-distribution will be used instead of the standard normal distribution to calculate confidence intervals when the population variance is unknown and the sample size is small."
   ]
  },
  {
   "cell_type": "markdown",
   "metadata": {
    "id": "kzarYjJUAG-x"
   },
   "source": [
    "### Example Code below:<br>\n",
    "* Explanation: This code calculates a confidence interval for the population mean when the population variance is unknown using the t-distribution:"
   ]
  },
  {
   "cell_type": "code",
   "execution_count": null,
   "metadata": {
    "colab": {
     "base_uri": "https://localhost:8080/"
    },
    "id": "txrm4_FbAG-x",
    "outputId": "766f8d48-052b-4f66-b641-0aa78c604909"
   },
   "outputs": [
    {
     "name": "stdout",
     "output_type": "stream",
     "text": [
      "95% Confidence Interval (T-distribution): [132.71108166907078, 145.86034690235778]\n"
     ]
    }
   ],
   "source": [
    "import numpy as np\n",
    "import scipy.stats as stats\n",
    "\n",
    "# Sample dataset: A small set of data points\n",
    "data = np.array([120, 112, 131, 211, 124, 142, 135])\n",
    "\n",
    "# Sample size\n",
    "sample_size = len(data)\n",
    "\n",
    "# Calculate the sample mean and sample standard deviation\n",
    "sample_mean = np.mean(data)\n",
    "sample_std = np.std(data, ddof=1)  # Use ddof=1 for unbiased estimation of the standard deviation\n",
    "\n",
    "# Degrees of freedom for the t-distribution\n",
    "df = sample_size - 1\n",
    "\n",
    "# Set confidence level (e.g., 95%)\n",
    "confidence_level = 0.95\n",
    "\n",
    "# Calculate the critical value from the t-distribution\n",
    "alpha = 1 - confidence_level\n",
    "critical_value = stats.t.ppf(1 - alpha / 2, df=df)\n",
    "\n",
    "# Calculate the standard error\n",
    "standard_error = sample_std / np.sqrt(sample_size)\n",
    "\n",
    "# Calculate the margin of error\n",
    "margin_of_error = critical_value * standard_error\n",
    "\n",
    "# Calculate the confidence interval\n",
    "confidence_interval = (sample_mean - margin_of_error, sample_mean + margin_of_error)\n",
    "\n",
    "print(f\"Sample Mean: {sample_mean:.2f}\")\n",
    "print(f\"Sample Standard Deviation: {sample_std:.2f}\")\n",
    "print(f\"Degrees of Freedom: {df}\")\n",
    "print(f\"Critical Value: {critical_value:.2f}\")\n",
    "print(f\"Standard Error: {standard_error:.2f}\")\n",
    "print(f\"Margin of Error: {margin_of_error:.2f}\")\n",
    "print(f\"Confidence Interval: {confidence_interval}\")"
   ]
  },
  {
   "cell_type": "markdown",
   "metadata": {
    "id": "X8tJTVWgAG-x"
   },
   "source": [
    "**Practice task:** <nbsp>\n",
    "Print your output with the following adjustments:\n",
    "> Change the confidence level to 99% <br>\n",
    "\n",
    "Compare and comment on the differences between the example and new output\n",
    "    \n",
    "Show the new code and include the comments below"
   ]
  },
  {
   "cell_type": "code",
   "execution_count": null,
   "metadata": {
    "id": "lt8WbzheAG-x"
   },
   "outputs": [],
   "source": [
    "# Practice Task here"
   ]
  },
  {
   "cell_type": "markdown",
   "metadata": {
    "id": "e5-8ObasAG-x"
   },
   "source": [
    "## <ins>Margin of Error: Navigating Uncertainty<ins>\n",
    "The standard error measures the dispersion of sample means around the population mean. It's crucial for constructing confidence intervals and conducting hypothesis testing."
   ]
  },
  {
   "cell_type": "markdown",
   "metadata": {
    "id": "V8z7RNFwAG-x"
   },
   "source": [
    "### Example Code below:<br>\n",
    "* Explanation: This codw calculates the standard error using the formula: standard deviation of the population divided by the square root of the sample size."
   ]
  },
  {
   "cell_type": "code",
   "execution_count": null,
   "metadata": {
    "colab": {
     "base_uri": "https://localhost:8080/",
     "height": 35
    },
    "id": "MBLBTRBcAG-y",
    "outputId": "a30373a3-28f8-477d-edf9-a6834e73cc6a"
   },
   "outputs": [
    {
     "data": {
      "application/vnd.google.colaboratory.intrinsic+json": {
       "type": "string"
      },
      "text/plain": [
       "'3.9'"
      ]
     },
     "execution_count": 103,
     "metadata": {},
     "output_type": "execute_result"
    }
   ],
   "source": [
    "import numpy as np\n",
    "import scipy.stats as stats\n",
    "\n",
    "# Sample dataset: A small set of data points\n",
    "data = np.array([65, 75, 85, 95, 105, 110, 115])\n",
    "\n",
    "# Sample size\n",
    "sample_size = len(data)\n",
    "\n",
    "# Calculate the sample mean and sample standard deviation\n",
    "sample_mean = np.mean(data)\n",
    "sample_std = np.std(data, ddof=1)  # Use ddof=1 for unbiased estimation of the standard deviation\n",
    "\n",
    "# Degrees of freedom for the t-distribution\n",
    "df = sample_size - 1\n",
    "\n",
    "# Set confidence level (e.g., 95%)\n",
    "confidence_level = 0.95\n",
    "\n",
    "# Calculate the critical value from the t-distribution\n",
    "alpha = 1 - confidence_level\n",
    "critical_value = stats.t.ppf(1 - alpha / 2, df=df)\n",
    "\n",
    "# Calculate the standard error\n",
    "standard_error = sample_std / np.sqrt(sample_size)\n",
    "\n",
    "# Calculate the margin of error\n",
    "margin_of_error = critical_value * standard_error\n",
    "margin_of_error = '{:.1f}'.format(margin_of_error)\n",
    "margin_of_error"
   ]
  },
  {
   "cell_type": "markdown",
   "metadata": {
    "id": "l5bxuj7KAG-y"
   },
   "source": [
    "**Practice task:** <nbsp>\n",
    "Print your output with the following adjustments:\n",
    "> Change the confidence level to 60% and 99% separately, **Hints**: You may rename the new margin of error and copy down the line of code starting from confidence level\n",
    "\n",
    "Compare and comment on the differences between the example and new output\n",
    "    \n",
    "Show the new code and include the comments below"
   ]
  },
  {
   "cell_type": "code",
   "execution_count": null,
   "metadata": {
    "id": "l2YV9IVoAG-y"
   },
   "outputs": [],
   "source": [
    "# Practice Task here"
   ]
  },
  {
   "cell_type": "markdown",
   "metadata": {
    "id": "UH-7i4XYAG-y"
   },
   "source": [
    "## <ins>Double Mean Discovery: Dependent Samples<ins>\n",
    "When dealing with dependent samples (also known as paired samples), such as before-and-after measurements or matched pairs, you can calculate the confidence interval for the difference in means."
   ]
  },
  {
   "cell_type": "markdown",
   "metadata": {
    "id": "DvKuIzfVAG-y"
   },
   "source": [
    "### Example Code below:<br>\n",
    "* Explanation: This code assesses if there's a significant difference in their measurements, before and after an intervention of the same subjects."
   ]
  },
  {
   "cell_type": "code",
   "execution_count": null,
   "metadata": {
    "colab": {
     "base_uri": "https://localhost:8080/"
    },
    "id": "LPUUWYOSAG-y",
    "outputId": "c2fa2650-9443-43f0-fabb-ebdfcc3b8f70"
   },
   "outputs": [
    {
     "name": "stdout",
     "output_type": "stream",
     "text": [
      "Confidence Interval for the Mean Difference (Dependent Samples): (-4.42, -1, 2)\n"
     ]
    }
   ],
   "source": [
    "import numpy as np\n",
    "import scipy.stats as stats\n",
    "\n",
    "# Sample data for two dependent samples (before and after)\n",
    "before = np.array([22, 25, 30, 28, 20])\n",
    "after = np.array([18, 21, 28, 25, 19])\n",
    "\n",
    "# Calculate the differences between paired observations\n",
    "differences = after - before\n",
    "\n",
    "# Calculate the mean and standard deviation of the differences\n",
    "mean_diff = np.mean(differences)\n",
    "std_diff = np.std(differences, ddof=1)  # Use ddof=1 for unbiased estimation\n",
    "\n",
    "# Set confidence level (e.g., 95%)\n",
    "confidence_level = 0.95\n",
    "\n",
    "# Calculate the standard error of the mean difference\n",
    "n = len(differences)\n",
    "standard_error = std_diff / np.sqrt(n)\n",
    "\n",
    "# Calculate the critical value from the t-distribution\n",
    "alpha = 1 - confidence_level\n",
    "critical_value = stats.t.ppf(1 - alpha / 2, df=n - 1)\n",
    "\n",
    "# Calculate the margin of error\n",
    "margin_of_error = critical_value * standard_error\n",
    "\n",
    "# Calculate the confidence interval for the mean difference\n",
    "confidence_interval = (round(mean_diff - margin_of_error,2), round(mean_diff + margin_of_error),2)\n",
    "\n",
    "print(\"Confidence Interval for the Mean Difference (Dependent Samples):\", confidence_interval)"
   ]
  },
  {
   "cell_type": "markdown",
   "metadata": {
    "id": "qCA0VJWfAG-y"
   },
   "source": [
    "**Practice task:** <nbsp>\n",
    "Print your output with the following adjustments:\n",
    "> Modify the confidence level to 90% and 99% <br>\n",
    "> Increase each value in the `after` array case by 2 <br>\n",
    "\n",
    "Compare and comment on the differences between the example and new output\n",
    "    \n",
    "Show the new code and include the comments below"
   ]
  },
  {
   "cell_type": "code",
   "execution_count": null,
   "metadata": {
    "id": "lD79EabnAG-y"
   },
   "outputs": [],
   "source": [
    "# Practice Task here"
   ]
  },
  {
   "cell_type": "markdown",
   "metadata": {
    "id": "-05Q0RV4mbfj"
   },
   "source": [
    "## <ins>Independent Insight: Comparing Means<ins>\n",
    "Confidence intervals for two means from independent samples provide a range within which we are confident that the true difference in means between two populations lies."
   ]
  },
  {
   "cell_type": "markdown",
   "metadata": {
    "id": "dIN9LuzEmbfp"
   },
   "source": [
    "### Example Code below:<br>\n",
    "* Explanation: This code assesses if there's a significant difference between two separate groups."
   ]
  },
  {
   "cell_type": "code",
   "execution_count": null,
   "metadata": {
    "colab": {
     "base_uri": "https://localhost:8080/"
    },
    "id": "xFsn8Epwmbfp",
    "outputId": "2fe37239-212d-4a93-ba56-a12250bd5edf"
   },
   "outputs": [
    {
     "name": "stdout",
     "output_type": "stream",
     "text": [
      "Confidence Interval for the Difference in Means (Independent Samples): (-4.51, 10.11)\n"
     ]
    }
   ],
   "source": [
    "import numpy as np\n",
    "import scipy.stats as stats\n",
    "\n",
    "# Sample data for two independent samples\n",
    "sample1 = np.array([20, 25, 30, 28, 22])\n",
    "sample2 = np.array([18, 21, 28, 25, 19])\n",
    "\n",
    "# Calculate the means and standard deviations of the samples\n",
    "mean1, mean2 = np.mean(sample1), np.mean(sample2)\n",
    "std1, std2 = np.std(sample1, ddof=1), np.std(sample2, ddof=1)  # Use ddof=1 for unbiased estimation\n",
    "\n",
    "# Set confidence level (e.g., 95%)\n",
    "confidence_level = 0.95\n",
    "\n",
    "# Calculate the standard errors of the means\n",
    "n1, n2 = len(sample1), len(sample2)\n",
    "standard_error1 = std1 / np.sqrt(n1)\n",
    "standard_error2 = std2 / np.sqrt(n2)\n",
    "\n",
    "# Calculate the standard error of the difference in means\n",
    "standard_error_diff = np.sqrt((standard_error1 ** 2) + (standard_error2 ** 2))\n",
    "\n",
    "# Calculate the critical value from the t-distribution\n",
    "df = min(n1 - 1, n2 - 1)  # Use the smaller of the two sample sizes for degrees of freedom\n",
    "alpha = 1 - confidence_level\n",
    "critical_value = stats.t.ppf(1 - alpha / 2, df=df)\n",
    "\n",
    "# Calculate the margin of error\n",
    "margin_of_error = critical_value * standard_error_diff\n",
    "\n",
    "# Calculate the confidence interval for the difference in means\n",
    "mean_diff = mean1 - mean2\n",
    "confidence_interval = (round(mean_diff - margin_of_error,2), round(mean_diff + margin_of_error,2))\n",
    "\n",
    "print(\"Confidence Interval for the Difference in Means (Independent Samples):\", confidence_interval)"
   ]
  },
  {
   "cell_type": "markdown",
   "metadata": {
    "id": "Lwj-e7qNmbfq"
   },
   "source": [
    "**Practice task:** <nbsp>\n",
    "Print your output with the following adjustments:\n",
    "> Change `sample2` data to ([20, 24, 29, 29, 21]) <br>\n",
    "\n",
    "Compare and comment on the differences between the example and new output\n",
    "    \n",
    "Show the new code and include the comments below"
   ]
  },
  {
   "cell_type": "code",
   "execution_count": null,
   "metadata": {
    "id": "lhC976Iambfq"
   },
   "outputs": [],
   "source": [
    "# Practice Task here"
   ]
  },
  {
   "cell_type": "markdown",
   "metadata": {
    "id": "7acgTBaLob8v"
   },
   "source": [
    "# **Hypothesis Testing**\n",
    "\n",
    "* Hypothesis testing is a statistical method used to make decisions about a population based on sample data. This section covers the basics, including setting up null and alternative hypotheses, determining significance levels, and interpreting p-values."
   ]
  },
  {
   "cell_type": "markdown",
   "metadata": {
    "id": "vYC7WwJIAG-y"
   },
   "source": [
    "## <ins>Hypothesis Hurdles: Null vs Alternative<ins>\n",
    "The null hypothesis (H0) posits no effect or no difference, serving as the assumption to be tested. The alternative hypothesis (H1) suggests there is an effect or a difference."
   ]
  },
  {
   "cell_type": "markdown",
   "metadata": {
    "id": "_EusbhqrAG-z"
   },
   "source": [
    "### Example below:<br>\n",
    "* Explanation: This code generates and plots a histogram of a normal distribution, illustrating one of the most fundamental distributions in statistics.<br>\n",
    " * Hypothetical example: testing if a new drug reduces blood pressure <br>\n",
    " * H0: The mean difference in blood pressure before and after the drug is 0 (no effect)<br>\n",
    " * H1: The mean difference in blood pressure before and after the drug is not 0 (there is an effect)<br>"
   ]
  },
  {
   "cell_type": "markdown",
   "metadata": {
    "id": "dhEQdStpAG-z"
   },
   "source": [
    "## <ins>Rejecting the Norm: Exploring Rejection Regions and Significance Levels<ins>\n",
    "The significance level (α) defines the threshold for rejecting the null hypothesis. The rejection region is determined by α and the distribution of the test statistic."
   ]
  },
  {
   "cell_type": "markdown",
   "metadata": {
    "id": "ux05SHQJAG-z"
   },
   "source": [
    "### Example Code below:<br>\n",
    "* Explanation: This code performs a paired t-test to compare blood pressure measurements before and after taking a drug, using a significance level of 0.05 to make a decision about the null hypothesis."
   ]
  },
  {
   "cell_type": "code",
   "execution_count": null,
   "metadata": {
    "colab": {
     "base_uri": "https://localhost:8080/"
    },
    "id": "4XfVnB2OAG-0",
    "outputId": "6a57f97d-ba3b-4e8b-c26c-02a405fec949"
   },
   "outputs": [
    {
     "name": "stdout",
     "output_type": "stream",
     "text": [
      "T-statistic: 4.5573271518765, P-value: 0.010359822551671477\n",
      "Decision: reject H0 based on α = 0.05\n"
     ]
    }
   ],
   "source": [
    "# Continuing the blood pressure example with hypothetical data\n",
    "before = np.array([120, 125, 130, 135, 140])\n",
    "after = np.array([115, 120, 122, 123, 125])\n",
    "alpha = 0.05  # Significance level\n",
    "\n",
    "# Calculate the paired t-test for the mean difference\n",
    "t_statistic, p_value = stats.ttest_rel(before, after)\n",
    "\n",
    "print(f\"T-statistic: {t_statistic}, P-value: {p_value}\")\n",
    "decision = \"reject H0\" if p_value < alpha else \"fail to reject H0\"\n",
    "print(f\"Decision: {decision} based on α = {alpha}\")"
   ]
  },
  {
   "cell_type": "markdown",
   "metadata": {
    "id": "FJLgDkJbAG-0"
   },
   "source": [
    "**Practice task:** <nbsp>\n",
    "Print your output with the following adjustments:\n",
    "> Change the `alpha` value to 0.10 to explore its impact on the hypothesis testing decision <br>\n",
    "\n",
    "Compare and comment on the differences between the example and new output\n",
    "    \n",
    "Show the new code and include the comments below"
   ]
  },
  {
   "cell_type": "code",
   "execution_count": null,
   "metadata": {
    "id": "zkS2kkfhAG-0"
   },
   "outputs": [],
   "source": [
    "# Practice Task here"
   ]
  },
  {
   "cell_type": "markdown",
   "metadata": {
    "id": "b-KEghtUAG-0"
   },
   "source": [
    "## <ins>Hypothesis Hunt: Understanding Errors<ins>\n",
    "Understanding the differences between Type I and Type II errors is crucial for interpreting the results of a hypothesis test correctly. <br>\n",
    "* A Type I error occurs when the null hypothesis is incorrectly rejected (a false positive)\n",
    "* Type II error occurs when the null hypothesis is not rejected when it is false (a false negative).\n",
    "<br>\n",
    "\n",
    "**Practice task**:\n",
    "> * Consider different significance levels (α) and discuss how they might affect the likelihood of making a Type I error.<br>\n",
    "> * Reflect on scenarios where the consequences of Type I or Type II errors would be particularly significant and how you might adjust your hypothesis testing approach accordingly.<br>\n",
    "\n",
    "[Click to find course material](https://learn.365datascience.com/courses/statistics/type-i-error-vs-type-ii-error/)"
   ]
  },
  {
   "cell_type": "markdown",
   "metadata": {
    "id": "6PibCqBZAG-1"
   },
   "source": [
    "## <ins>Meaningful Testing: The Test for the Mean with Known Population Variance<ins>\n",
    "When the population variance is known, a z-test is used to test hypotheses about the population mean. This is more common in theoretical problems, as in practice, the population variance is rarely known."
   ]
  },
  {
   "cell_type": "markdown",
   "metadata": {
    "id": "OW4zk6HVAG-1"
   },
   "source": [
    "### Example Code below:<br>\n",
    "* Explanation: This code performs a z-test to evaluate a hypothesis about the population mean given a known population variance. It calculates the z-score and the corresponding p-value to make a decision regarding the null hypothesis."
   ]
  },
  {
   "cell_type": "code",
   "execution_count": null,
   "metadata": {
    "colab": {
     "base_uri": "https://localhost:8080/"
    },
    "id": "1PDDD0MiAG-1",
    "outputId": "893a1718-c3f0-4647-f094-3e848ad0fa6c"
   },
   "outputs": [
    {
     "name": "stdout",
     "output_type": "stream",
     "text": [
      "Z-score: 1.0, P-value: 0.31731050786291415\n",
      "Decision: fail to reject H0 based on α = 0.05\n"
     ]
    }
   ],
   "source": [
    "from scipy.stats import norm\n",
    "\n",
    "# Hypothetical data and population variance\n",
    "sample_mean = 108\n",
    "population_mean = 107\n",
    "population_variance = 10\n",
    "n = 10  # Sample size\n",
    "alpha = 0.05\n",
    "\n",
    "# Calculate the z-score\n",
    "z = (sample_mean - population_mean) / (np.sqrt(population_variance) / np.sqrt(n))\n",
    "# Calculate the p-value\n",
    "p_value = 2 * (1 - norm.cdf(np.abs(z)))  # Two-tailed test\n",
    "\n",
    "print(f\"Z-score: {z}, P-value: {p_value}\")\n",
    "decision = \"reject H0\" if p_value < alpha else \"fail to reject H0\"\n",
    "print(f\"Decision: {decision} based on α = {alpha}\")\n"
   ]
  },
  {
   "cell_type": "markdown",
   "metadata": {
    "id": "9rugHLPOAG-1"
   },
   "source": [
    "**Practice task:** <nbsp>\n",
    "Print your output with the following adjustments:\n",
    "> Try different values of `population_mean`, `sample size` and `alpha` to understand its effect on hypothesis testing outcomes.\n",
    "\n",
    "Compare and comment on the differences between the example and new output\n",
    "    \n",
    "Show the new code and include the comments below"
   ]
  },
  {
   "cell_type": "code",
   "execution_count": null,
   "metadata": {
    "id": "YEOSuMv5AG-1"
   },
   "outputs": [],
   "source": [
    "# Practice Task here"
   ]
  },
  {
   "cell_type": "markdown",
   "metadata": {
    "id": "YF1RL9PXAG-1"
   },
   "source": [
    "## <ins>Getting into the fundamentals of the p-value<ins>\n",
    "The p-value is a fundamental concept in statistical hypothesis testing that measures the strength of the evidence against the null hypothesis. It quantifies the probability of observing test results at least as extreme as the results actually observed, under the assumption that the null hypothesis is correct."
   ]
  },
  {
   "cell_type": "markdown",
   "metadata": {
    "id": "AQX8uHUmAG-1"
   },
   "source": [
    "### Example Code below:<br>\n",
    "* Explanation: This Python code performs a one-sample t-test on a set of sample data to test the hypothesis that the sample mean is significantly different from a known population mean. <br>\n",
    " * The `ttest_1samp` function from the `scipy.stats` module calculates the t-statistic and the `p-value`.\n",
    " * The t-statistic measures the size of the difference relative to the variation in the sample data, while the p-value tells us the probability of observing such a difference if the null hypothesis were true."
   ]
  },
  {
   "cell_type": "code",
   "execution_count": null,
   "metadata": {
    "colab": {
     "base_uri": "https://localhost:8080/"
    },
    "id": "XnsnYDbZAG-1",
    "outputId": "27a6e103-f8b9-491d-8850-1be8533ce478"
   },
   "outputs": [
    {
     "name": "stdout",
     "output_type": "stream",
     "text": [
      "T-statistic: 7.829336336030444, P-value: 2.628545592731938e-05\n"
     ]
    }
   ],
   "source": [
    "from scipy import stats\n",
    "import numpy as np\n",
    "\n",
    "# Hypothetical sample data\n",
    "sample_data = np.array([2.3, 2.4, 2.1, 2.2, 2.5, 2.3, 2.6, 2.4, 2.4, 2.5])\n",
    "# Known population mean (under H0)\n",
    "population_mean = 2.0\n",
    "\n",
    "# Perform a one-sample t-test\n",
    "t_stat, p_value = stats.ttest_1samp(sample_data, population_mean)\n",
    "\n",
    "print(f\"T-statistic: {t_stat}, P-value: {p_value}\")"
   ]
  },
  {
   "cell_type": "markdown",
   "metadata": {
    "id": "Z3fLy6bxAG-2"
   },
   "source": [
    "**Practice task:** <nbsp>\n",
    "Print your output with the following adjustments:\n",
    "> Alter the `population_mean` to 5 test against different population means and observe how the p-value changes.\n",
    "\n",
    "Compare and comment on the differences between the example and new output\n",
    "    \n",
    "Show the new code and include the comments below"
   ]
  },
  {
   "cell_type": "code",
   "execution_count": null,
   "metadata": {
    "id": "clfZKiXEAG-2"
   },
   "outputs": [],
   "source": [
    "# Practice Task here"
   ]
  },
  {
   "cell_type": "markdown",
   "metadata": {
    "id": "tUmqLFp9AG-2"
   },
   "source": [
    "## <ins>Variance Mysteries: Testing the Mean with Unknown Population Variance<ins>\n",
    "When the population variance is unknown, the t-test is the appropriate tool for testing hypotheses about the population mean. This is the more common scenario in practical research."
   ]
  },
  {
   "cell_type": "markdown",
   "metadata": {
    "id": "rG-CGdEJAG-2"
   },
   "source": [
    "### Example Code below:<br>\n",
    "* Explanation: This code performs a t-test to evaluate the hypothesis about the population mean when the population variance is unknown. The t-score and p-value guide the decision regarding the null hypothesis."
   ]
  },
  {
   "cell_type": "code",
   "execution_count": null,
   "metadata": {
    "colab": {
     "base_uri": "https://localhost:8080/"
    },
    "id": "dS35T3LXAG-2",
    "outputId": "8ea1d80b-1dcd-4614-8029-f270f8cce31b"
   },
   "outputs": [
    {
     "name": "stdout",
     "output_type": "stream",
     "text": [
      "T-score: 83.80035799446205, P-value: 2.4868995751603507e-14\n",
      "Decision: reject H0 based on α = 0.05\n"
     ]
    }
   ],
   "source": [
    "from scipy.stats import t\n",
    "\n",
    "# Using the same hypothetical data but without known population variance\n",
    "sample_std = 4  # Sample standard deviation\n",
    "\n",
    "# Calculate the t-score\n",
    "t_score = (sample_mean - population_mean) / (sample_std / np.sqrt(n))\n",
    "# Calculate the p-value\n",
    "df = n - 1  # Degrees of freedom\n",
    "p_value = 2 * (1 - t.cdf(np.abs(t_score), df=df))  # Two-tailed test\n",
    "\n",
    "print(f\"T-score: {t_score}, P-value: {p_value}\")\n",
    "decision = \"reject H0\" if p_value < alpha else \"fail to reject H0\"\n",
    "print(f\"Decision: {decision} based on α = {alpha}\")\n"
   ]
  },
  {
   "cell_type": "markdown",
   "metadata": {
    "id": "6WTTk8SeAG-2"
   },
   "source": [
    "**Practice task:** <nbsp>\n",
    "Print your output with the following adjustments:\n",
    "> Modify the sample standard deviation and sample size to observe their effects on the t-score and the hypothesis testing decision.<br>\n",
    "(Pick a single value for both variable in your new output)<br>\n",
    "\n",
    "Compare and comment on the differences between the example and new output\n",
    "    \n",
    "Show the new code and include the comments below"
   ]
  },
  {
   "cell_type": "code",
   "execution_count": null,
   "metadata": {
    "id": "hB2_3886AG-2"
   },
   "outputs": [],
   "source": [
    "# Practice Task here"
   ]
  },
  {
   "cell_type": "markdown",
   "metadata": {
    "id": "ErUwpcutAG-2"
   },
   "source": [
    "## <ins>Dependency Detective: Testing the Mean with Dependent Samples<ins>\n",
    "Testing for the mean with dependent samples is used when comparing two sets of observations that are related or paired. This scenario often occurs in before-and-after studies, where the same subjects are measured twice under different conditions. The test helps determine if there is a statistically significant difference between the paired observations."
   ]
  },
  {
   "cell_type": "markdown",
   "metadata": {
    "id": "geEgAYRfAG-2"
   },
   "source": [
    "### Example Code below:<br>\n",
    "* Explanation: This code calculates the differences between paired observations (before and after scores) and performs a paired t-test using stats.ttest_rel.\n",
    "\n",
    " * The t-statistic provides a measure of the difference relative to the variation in the data.\n",
    " * The p-value tells us whether the difference is statistically significant.\n",
    " * A low p-value (typically < 0.05) indicates strong evidence against the null hypothesis, suggesting a significant difference between the paired samples."
   ]
  },
  {
   "cell_type": "code",
   "execution_count": null,
   "metadata": {
    "colab": {
     "base_uri": "https://localhost:8080/"
    },
    "id": "N8Z-yK_jAG-3",
    "outputId": "aace9b64-d627-400a-c630-8f18e4b623e7"
   },
   "outputs": [
    {
     "name": "stdout",
     "output_type": "stream",
     "text": [
      "T-statistic: -14.999999999999998, P-value: 1.12810221084906e-07\n"
     ]
    }
   ],
   "source": [
    "import numpy as np\n",
    "import scipy.stats as stats\n",
    "\n",
    "# Hypothetical dataset: before and after scores of 10 individuals in a program\n",
    "before_scores = np.array([85, 82, 88, 90, 78, 92, 75, 88, 80, 84])\n",
    "after_scores = np.array([88, 84, 91, 93, 80, 95, 77, 91, 82, 86])\n",
    "\n",
    "# Calculate the differences\n",
    "differences = after_scores - before_scores\n",
    "\n",
    "# Perform a paired t-test\n",
    "t_statistic, p_value = stats.ttest_rel(before_scores, after_scores)\n",
    "\n",
    "print(f\"T-statistic: {t_statistic}, P-value: {p_value}\")"
   ]
  },
  {
   "cell_type": "markdown",
   "metadata": {
    "id": "EhOdQxB3AG-3"
   },
   "source": [
    "**Practice task:** <nbsp>\n",
    "Print your output with the following adjustments:\n",
    "> Change the data in before_scores and after_scores to explore how different datasets affect the outcome. <br>\n",
    "> Adjust the significance level (e.g., 0.01 for a more stringent test) and interpret the results.<br>\n",
    "\n",
    "Compare and comment on the differences between the example and new output\n",
    "    \n",
    "Show the new code and include the comments below"
   ]
  },
  {
   "cell_type": "code",
   "execution_count": null,
   "metadata": {
    "id": "JoX0unk1AG-3"
   },
   "outputs": [],
   "source": [
    "# Practice Task here"
   ]
  },
  {
   "cell_type": "markdown",
   "metadata": {
    "id": "0gckO7UgAG-3"
   },
   "source": [
    "## <ins>Independent Insights: Testing the Mean with Known Sample Variances <ins>\n",
    "When the variance of the populations is known, it allows for a more precise estimation of the standard error, which can lead to a more accurate test for differences between the means of two independent samples. This scenario is less common in practice since population variances are rarely known, but it's important in theoretical or simulated studies where such parameters can be controlled."
   ]
  },
  {
   "cell_type": "markdown",
   "metadata": {
    "id": "zfMSKXBNAG-3"
   },
   "source": [
    "### Example Code below:<br>\n",
    "* Explanation: This code calculates the Z-score for two independent samples using known population variances.\n",
    " * The Z-score represents how many standard errors the sample means are apart.<br>\n",
    " * The p-value, derived from the Z-score, indicates whether the observed difference between sample means is statistically significant."
   ]
  },
  {
   "cell_type": "code",
   "execution_count": null,
   "metadata": {
    "colab": {
     "base_uri": "https://localhost:8080/"
    },
    "id": "nfoR5w-HAG-3",
    "outputId": "19f2c5ae-8dd3-42c1-bd69-61346723d511"
   },
   "outputs": [
    {
     "name": "stdout",
     "output_type": "stream",
     "text": [
      "Z-score: -6.201736729460422, P-value: 5.584344098252814e-10\n"
     ]
    }
   ],
   "source": [
    "import numpy as np\n",
    "from scipy.stats import norm\n",
    "\n",
    "# Hypothetical data\n",
    "mean_a = 100\n",
    "mean_b = 105\n",
    "variance_a = 15\n",
    "variance_b = 20\n",
    "n_a = 60\n",
    "n_b = 50\n",
    "\n",
    "# Known population variances, calculating the standard error and Z-score\n",
    "std_error = np.sqrt(variance_a/n_a + variance_b/n_b)\n",
    "z_score = (mean_a - mean_b) / std_error\n",
    "\n",
    "# Calculate the p-value\n",
    "p_value = 2 * (1 - norm.cdf(np.abs(z_score)))\n",
    "\n",
    "print(f\"Z-score: {z_score}, P-value: {p_value}\")"
   ]
  },
  {
   "cell_type": "markdown",
   "metadata": {
    "id": "fcdMytkSAG-3"
   },
   "source": [
    "**Practice task:** <nbsp>\n",
    "Print your output with the following adjustments:\n",
    "> Experiment with different means and variances for the two groups to see how it affects the Z-score and p-value.<br>\n",
    "> Change the sample sizes (`n_a` and `n_b`) to explore their impact on the standard error and test outcomes.<br>\n",
    "\n",
    "Compare and comment on the differences between the example and new output\n",
    "    \n",
    "Show the new code and include the comments below"
   ]
  },
  {
   "cell_type": "code",
   "execution_count": null,
   "metadata": {
    "id": "a2v_8dazAG-3"
   },
   "outputs": [],
   "source": [
    "# Practice Task here"
   ]
  },
  {
   "cell_type": "markdown",
   "metadata": {
    "id": "n87QSBGN3R93"
   },
   "source": [
    "## <ins>Unveiling Uncertainty: Testing the Mean with Unknown Sample Variances<ins>\n",
    "This is the more common scenario encountered in practical research, where the variances of the populations are unknown. In such cases, the t-test for independent samples is used, which accounts for the uncertainty in estimating the variance from the sample data."
   ]
  },
  {
   "cell_type": "markdown",
   "metadata": {
    "id": "3Gb5eN1v3R-D"
   },
   "source": [
    "### Example Code below:<br>\n",
    "* Explanation: This code snippet performs Welch's t-test between two samples where the population variances are unknown and not assumed to be equal.\n",
    " * The function ttest_ind with equal_var=False conducts the test appropriately, providing the t-statistic and p-value.\n",
    " * The p-value helps determine if the difference in means between the two groups is statistically significant, considering the uncertainty in variance estimation."
   ]
  },
  {
   "cell_type": "code",
   "execution_count": null,
   "metadata": {
    "colab": {
     "base_uri": "https://localhost:8080/"
    },
    "id": "q48-l8QM3R-E",
    "outputId": "eb4f5074-4525-4805-c8b9-668ddc18e4be"
   },
   "outputs": [
    {
     "name": "stdout",
     "output_type": "stream",
     "text": [
      "T-statistic: -5.464095373503295, P-value: 5.222420376952688e-07\n"
     ]
    }
   ],
   "source": [
    "import numpy as np\n",
    "from scipy.stats import ttest_ind\n",
    "\n",
    "# Hypothetical sample data\n",
    "sample_a = np.random.normal(100, 10, size=60)\n",
    "sample_b = np.random.normal(105, 15, size=50)\n",
    "\n",
    "# Perform Welch's t-test\n",
    "t_statistic, p_value = ttest_ind(sample_a, sample_b, equal_var=False)\n",
    "\n",
    "print(f\"T-statistic: {t_statistic}, P-value: {p_value}\")"
   ]
  },
  {
   "cell_type": "markdown",
   "metadata": {
    "id": "4HgU077T3R-F"
   },
   "source": [
    "**Practice task:** <nbsp>\n",
    "Print your output with the following adjustments:\n",
    "> Generate `sample_a` and `sample_b` with different means and standard deviations to observe how changes affect the t-statistic and p-value.<br>\n",
    "> Vary the sizes of `sample_a` and `sample_b` to understand the effect of sample size on Welch's t-test results.<br>\n",
    "\n",
    "Compare and comment on the differences between the example and new output\n",
    "    \n",
    "Show the new code and include the comments below"
   ]
  },
  {
   "cell_type": "code",
   "execution_count": null,
   "metadata": {
    "id": "vQpP05yl3R-F"
   },
   "outputs": [],
   "source": [
    "# Practice Task here"
   ]
  },
  {
   "cell_type": "markdown",
   "metadata": {
    "id": "wWSTc2vt0p3Z"
   },
   "source": [
    "## <ins>Putting Theory into Practice: Real-World Examples of Hypothesis Testing<ins>\n",
    "Applying hypothesis testing to a practical example helps solidify the understanding of when and how to use this statistical method."
   ]
  },
  {
   "cell_type": "markdown",
   "metadata": {
    "id": "TpuauwFl0p3v"
   },
   "source": [
    "### Example Code below:<br>\n",
    "* Explanation: This code uses an independent samples t-test to compare the effectiveness of two different teaching methods. The t-statistic and p-value inform whether there is a statistically significant difference in student performance between the two methods."
   ]
  },
  {
   "cell_type": "code",
   "execution_count": null,
   "metadata": {
    "colab": {
     "base_uri": "https://localhost:8080/"
    },
    "id": "691K_4t70p3v",
    "outputId": "de103bdc-ff39-44a5-bca7-64d867d8fc66"
   },
   "outputs": [
    {
     "name": "stdout",
     "output_type": "stream",
     "text": [
      "T-statistic: -0.7558251709200076, P-value: 0.45953170538369625\n",
      "Decision regarding the effectiveness of teaching methods: fail to reject H0\n"
     ]
    }
   ],
   "source": [
    "# Hypothetical scores from two groups of students taught by different methods\n",
    "method_a_scores = np.array([82, 85, 79, 90, 76, 85, 92, 78, 84, 88])\n",
    "method_b_scores = np.array([91, 89, 77, 88, 82, 80, 91, 84, 89, 85])\n",
    "\n",
    "# Perform an independent t-test\n",
    "t_stat, p_val = stats.ttest_ind(method_a_scores, method_b_scores)\n",
    "\n",
    "print(f\"T-statistic: {t_stat}, P-value: {p_val}\")\n",
    "decision = \"reject H0\" if p_val < alpha else \"fail to reject H0\"\n",
    "print(f\"Decision regarding the effectiveness of teaching methods: {decision}\")\n"
   ]
  },
  {
   "cell_type": "markdown",
   "metadata": {
    "id": "xb1F223F0p3w"
   },
   "source": [
    "**Practice task:** <nbsp>\n",
    "Print your output with the following adjustments:\n",
    "> Alter the sample scores to explore how different data distributions affect the outcome of the hypothesis test.<br>\n",
    "(Pick a single value for both variable in your new output)<br>\n",
    "\n",
    "Compare and comment on the differences between the example and new output\n",
    "    \n",
    "Show the new code and include the comments below"
   ]
  },
  {
   "cell_type": "code",
   "execution_count": null,
   "metadata": {
    "id": "P2XHaf0c0p3w"
   },
   "outputs": [],
   "source": [
    "# Practice Task here"
   ]
  },
  {
   "cell_type": "markdown",
   "metadata": {
    "id": "zQTWcVgqSPO4"
   },
   "source": [
    "# **Final Discord submission Challenge**"
   ]
  },
  {
   "cell_type": "markdown",
   "metadata": {
    "id": "xHb6WNfsWgG-"
   },
   "source": [
    "This challenge tests your understanding of different visualizations, derive findings or trends in data and suggest recommendation\n",
    "\n",
    "**Instructions:**\n",
    "\n",
    "- Calculations: Carefully perform the following calculations.  Do not use a calculator for the calculations themselves – focus on understanding the Python code and its logic.\n",
    "\n",
    "- Discord Submission: Explained below"
   ]
  },
  {
   "cell_type": "markdown",
   "metadata": {
    "id": "2PjwMKtrXSo7"
   },
   "source": [
    "### Challenges\n",
    "\n",
    "- **Challenge 1:** Descriptive Analysis of a Dataset\n",
    " >* Analyze a dataset to compute descriptive statistics, including mean, median, mode, variance, and standard deviation.\n",
    " * Visualize the distribution of a numerical variable using a histogram and a categorical variable using a bar chart.\n",
    " * Provide the mode and standard deviation\n",
    " (no decimal figure)\n",
    "                \n",
    "- **Challenge 2:** Exploring Relationships <br>\n",
    "> * Use a dataset to calculate and interpret the covariance and correlation between two numerical variables.\n",
    " * Create a scatter plot to visualize their relationship.\n",
    " * Provide the covariance and correlation. (Round answer to the 1st decimal figure)\n",
    "                \n",
    "- **Challenge 3:** Normal Distribution and Central Limit Theorem <br>\n",
    "> * Generate a non-normally distributed dataset of a categorical variable.\n",
    " * Demonstrate the Central Limit Theorem by sampling and plotting the distribution of sample means.\n",
    " * Is the distribution normally distributed if the `sample_mean` size is 5\n",
    "\n",
    "- **Challenge 4:** Confidence Intervals <br>\n",
    "> * For a given sample, calculate a 95% confidence interval for the mean using the t-distribution. <br>\n",
    " (Round to 1 significant figure)<br>\n",
    "\n",
    "\n",
    "- **Challenge 5:** Hypothesis Testing for Independent Samples (Variance Unknown) <br>\n",
    "> * Use Welch’s t-test to compare the means of two independent samples where the variances are unknown and assumed to be unequal.\n",
    "> * Round the t-stat and p-value to the 3rd decimal figure"
   ]
  },
  {
   "cell_type": "code",
   "execution_count": null,
   "metadata": {
    "id": "I2UW0vvNQqeY"
   },
   "outputs": [],
   "source": [
    "# Print the results for each challenge\n",
    "# The starting code is provided for each challenge in the Output below:"
   ]
  },
  {
   "cell_type": "code",
   "execution_count": null,
   "metadata": {
    "id": "EL4hM6ZN0Bbr"
   },
   "outputs": [],
   "source": [
    "#Challenge 1\n",
    "import pandas as pd\n",
    "import numpy as np\n",
    "import matplotlib.pyplot as plt\n",
    "from scipy import stats\n",
    "\n",
    "# Sample dataset\n",
    "data = {'Age': [25, 35, 35, 40, 45, 50, 50, 60],\n",
    "        'Gender': ['Male', 'Female', 'Female', 'Male', 'Male', 'Male', 'Male', 'Male']}\n",
    "\n",
    "df = pd.DataFrame(data)"
   ]
  },
  {
   "cell_type": "code",
   "execution_count": null,
   "metadata": {
    "id": "eCFGxgkl0BZT"
   },
   "outputs": [],
   "source": [
    "#Challenge 2\n",
    "import matplotlib.pyplot as plt\n",
    "import numpy as np\n",
    "\n",
    "# Sample data\n",
    "height = np.array([160, 165, 170, 175, 180, 185])\n",
    "weight = np.array([55, 60, 65, 70, 75, 80])"
   ]
  },
  {
   "cell_type": "code",
   "execution_count": null,
   "metadata": {
    "id": "c6gJauro0BWn"
   },
   "outputs": [],
   "source": [
    "#Challenge 3\n",
    "import numpy as np\n",
    "import matplotlib.pyplot as plt\n",
    "\n",
    "# Generating a non-normally distributed dataset\n",
    "data = np.random.exponential(scale=2.0, size=100)"
   ]
  },
  {
   "cell_type": "code",
   "execution_count": null,
   "metadata": {
    "id": "Hx2KLT0Z0BT9"
   },
   "outputs": [],
   "source": [
    "#Challenge 4\n",
    "import numpy as np\n",
    "from scipy import stats\n",
    "\n",
    "# Sample data\n",
    "height = np.array([160, 165, 170, 175, 180, 185])\n",
    "weight = np.array([55, 60, 65, 70, 75, 80])"
   ]
  },
  {
   "cell_type": "code",
   "execution_count": null,
   "metadata": {
    "id": "DaQqh9130BRZ"
   },
   "outputs": [],
   "source": [
    "#Challenge 5\n",
    "from scipy import stats\n",
    "import numpy as np\n",
    "\n",
    "# Generating two samples\n",
    "sample_x = np.random.normal(100, 20, size=100)\n",
    "sample_y = np.random.normal(105, 25, size=100)"
   ]
  },
  {
   "cell_type": "markdown",
   "metadata": {
    "id": "CSGqqk0MZNkw"
   },
   "source": [
    "**Discord Submission:** Find the corresponding Discord answer. It will have a dropdown with the following answer format:\n",
    "\n",
    "Based on the example output above, if your calculated results are:\n",
    "> Challenge 1: 35, 11 <br>\n",
    "> Challenge 2: 87.5, 1.0<br>\n",
    "> Challenge 3: no<br>\n",
    "> Challenge 4: 95, 105<br>\n",
    "> Challenge 5: -2.07, 0.04 <br>\n",
    "\n",
    "Your dropdown selection on Discord should be:\n",
    "\n",
    "`35, 11, 87.5, 1.0, no, 95, 105, -2.07, 0.04`"
   ]
  },
  {
   "cell_type": "markdown",
   "metadata": {
    "id": "9tbtgwVVcdDM"
   },
   "source": [
    "<img style=\"display: block; margin: 0 auto\" src=\"https://favim.com/pd/s5/orig/151229/adorable-believe-can-cute-Favim.com-3820965.jpg\" alt=\"Lonely Octopus end\">"
   ]
  }
 ],
 "metadata": {
  "colab": {
   "collapsed_sections": [
    "CPl_h4k2pMNJ",
    "fnCnCJGEekSv",
    "gOfVxkR2Y9-d",
    "Txwa2F2mY3E4",
    "AxSCL6WxY4DA",
    "DZ4L9fAysnM9",
    "hA8UND2GsoRu",
    "SPrtuIdfslnY",
    "U84rMRniuRKL",
    "5QMnJQikuRUR",
    "TiUIo3vIuRb8",
    "i-xhGOUvuRi8",
    "sY62c57suRqF",
    "2qaiZpnXuRwf",
    "Sy0FTaMkuR27",
    "HvcIIV24uR9e",
    "oMweZimemFoq",
    "6Y2nZvJzAG-o",
    "7acgTBaLob8v"
   ],
   "provenance": []
  },
  "kernelspec": {
   "display_name": "Python 3 (ipykernel)",
   "language": "python",
   "name": "python3"
  },
  "language_info": {
   "codemirror_mode": {
    "name": "ipython",
    "version": 3
   },
   "file_extension": ".py",
   "mimetype": "text/x-python",
   "name": "python",
   "nbconvert_exporter": "python",
   "pygments_lexer": "ipython3",
   "version": "3.12.0"
  }
 },
 "nbformat": 4,
 "nbformat_minor": 4
}
