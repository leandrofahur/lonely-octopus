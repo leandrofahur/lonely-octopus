{
 "cells": [
  {
   "cell_type": "markdown",
   "id": "d79669dc",
   "metadata": {},
   "source": [
    "# Insurance"
   ]
  },
  {
   "cell_type": "code",
   "execution_count": null,
   "id": "b0450e2f",
   "metadata": {},
   "outputs": [],
   "source": [
    "import pandas as pd\n",
    "import statsmodels.api as sm\n",
    "import matplotlib.pyplot as plt\n",
    "import seaborn as sns\n",
    "from sklearn.linear_model import LinearRegression\n",
    "from sklearn.preprocessing import StandardScaler\n",
    "from sklearn.model_selection import train_test_split\n",
    "sns.set()"
   ]
  },
  {
   "cell_type": "markdown",
   "id": "c679a567",
   "metadata": {},
   "source": [
    "### Loading the raw data"
   ]
  },
  {
   "cell_type": "code",
   "execution_count": null,
   "id": "46b7034a",
   "metadata": {
    "scrolled": true
   },
   "outputs": [],
   "source": [
    "raw_data = pd.read_csv('Insurance.csv')\n",
    "raw_data.describe(include='all')"
   ]
  },
  {
   "cell_type": "code",
   "execution_count": null,
   "id": "5e6237e7",
   "metadata": {},
   "outputs": [],
   "source": [
    "raw_data.head()"
   ]
  },
  {
   "cell_type": "code",
   "execution_count": null,
   "id": "dfcf44cf",
   "metadata": {},
   "outputs": [],
   "source": [
    "raw_data.isnull().sum()"
   ]
  },
  {
   "cell_type": "markdown",
   "id": "66c4332d",
   "metadata": {},
   "source": [
    "### Preprocesing: Dealing with outliers"
   ]
  },
  {
   "cell_type": "code",
   "execution_count": null,
   "id": "2a64453c",
   "metadata": {},
   "outputs": [],
   "source": [
    "q = raw_data['Insurance Charges'].quantile(0.99)\n",
    "data_no_outliers = raw_data[raw_data['Insurance Charges']<q]\n",
    "data_no_outliers.describe(include='all')"
   ]
  },
  {
   "cell_type": "markdown",
   "id": "2ff13630",
   "metadata": {},
   "source": [
    "### Create dummy variables"
   ]
  },
  {
   "cell_type": "code",
   "execution_count": null,
   "id": "76d9ca3b",
   "metadata": {},
   "outputs": [],
   "source": [
    "data_with_dummies = pd.get_dummies(data_no_outliers, drop_first=True)\n",
    "data_with_dummies.columns.values"
   ]
  },
  {
   "cell_type": "code",
   "execution_count": null,
   "id": "61b7fc3b",
   "metadata": {},
   "outputs": [],
   "source": [
    "cols = ['Insurance Charges', 'Age', 'BMI', 'Sex_male', 'Smoker_yes',\n",
    "       'Region_northwest', 'Region_southeast', 'Region_southwest']"
   ]
  },
  {
   "cell_type": "code",
   "execution_count": null,
   "id": "db00237b",
   "metadata": {},
   "outputs": [],
   "source": [
    "data_preprocessed = data_with_dummies[cols]\n",
    "data_preprocessed.head()"
   ]
  },
  {
   "cell_type": "markdown",
   "id": "dd2befa4",
   "metadata": {},
   "source": [
    "## Question 2 "
   ]
  },
  {
   "cell_type": "markdown",
   "id": "3cafc088",
   "metadata": {},
   "source": [
    "### Linear regression model"
   ]
  },
  {
   "cell_type": "code",
   "execution_count": null,
   "id": "936f7c34",
   "metadata": {},
   "outputs": [],
   "source": [
    "targets = data_preprocessed['Insurance Charges']\n",
    "inputs = data_preprocessed.drop(['Insurance Charges'],axis=1)"
   ]
  },
  {
   "cell_type": "code",
   "execution_count": null,
   "id": "695f74a9",
   "metadata": {},
   "outputs": [],
   "source": [
    "scaler = StandardScaler()\n",
    "scaler.fit(inputs)"
   ]
  },
  {
   "cell_type": "code",
   "execution_count": null,
   "id": "6c29dab3",
   "metadata": {},
   "outputs": [],
   "source": [
    "inputs_scaled = scaler.transform(inputs)"
   ]
  },
  {
   "cell_type": "markdown",
   "id": "e19a2d7a",
   "metadata": {},
   "source": [
    "## Question 3"
   ]
  },
  {
   "cell_type": "markdown",
   "id": "e178651e",
   "metadata": {},
   "source": [
    "### Step 1: Train and Test Split"
   ]
  },
  {
   "cell_type": "code",
   "execution_count": null,
   "id": "7ea6e28e",
   "metadata": {},
   "outputs": [],
   "source": []
  },
  {
   "cell_type": "markdown",
   "id": "33e64a01",
   "metadata": {},
   "source": [
    "### Step 2: Create an instance of the LinearRegression() class"
   ]
  },
  {
   "cell_type": "code",
   "execution_count": null,
   "id": "a3a76037",
   "metadata": {},
   "outputs": [],
   "source": []
  },
  {
   "cell_type": "markdown",
   "id": "e5659e76",
   "metadata": {},
   "source": [
    "### Step 3: Fit the training data to the model"
   ]
  },
  {
   "cell_type": "code",
   "execution_count": null,
   "id": "65708991",
   "metadata": {},
   "outputs": [],
   "source": []
  },
  {
   "cell_type": "markdown",
   "id": "fe797590",
   "metadata": {},
   "source": [
    "### Step 4: Store your predictions"
   ]
  },
  {
   "cell_type": "code",
   "execution_count": null,
   "id": "b42dcd09",
   "metadata": {},
   "outputs": [],
   "source": []
  },
  {
   "cell_type": "markdown",
   "id": "ed66dd93",
   "metadata": {},
   "source": [
    "### Step 5: Plot the predicted versus the actual outputs"
   ]
  },
  {
   "cell_type": "code",
   "execution_count": null,
   "id": "507c7625",
   "metadata": {},
   "outputs": [],
   "source": [
    "fig = plt.figure()\n",
    "ax = fig.add_subplot()\n",
    "\n",
    "ax.scatter(y_train, y_hat, alpha = 0.2)\n",
    "plt.xlabel('Targets (y_train)',size=18)\n",
    "plt.ylabel('Predictions (y_hat)',size=18)\n",
    "\n",
    "plt.show()"
   ]
  },
  {
   "cell_type": "markdown",
   "id": "f37a967d",
   "metadata": {},
   "source": [
    "## Question 5"
   ]
  },
  {
   "cell_type": "code",
   "execution_count": null,
   "id": "d8e927ce",
   "metadata": {},
   "outputs": [],
   "source": []
  }
 ],
 "metadata": {
  "kernelspec": {
   "display_name": "Python 3",
   "language": "python",
   "name": "python3"
  },
  "language_info": {
   "codemirror_mode": {
    "name": "ipython",
    "version": 3
   },
   "file_extension": ".py",
   "mimetype": "text/x-python",
   "name": "python",
   "nbconvert_exporter": "python",
   "pygments_lexer": "ipython3",
   "version": "3.8.8"
  }
 },
 "nbformat": 4,
 "nbformat_minor": 5
}
