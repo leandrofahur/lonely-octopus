{
  "cells": [
    {
      "cell_type": "markdown",
      "source": [
        "# **Data Journalism** - Navigating Future Opportunities: An Insightful Exploration of Canadian Employment Wages and Trends\n",
        "\n",
        "In an era where industry landscapes are rapidly evolving, understanding the dynamics of occupational trends and wages becomes pivotal for aspiring professionals and students aiming to position themselves advantageously in the job market. \"Navigating Future Opportunities\" delves deep into the fabric of Canada's employment sectors, employing a comprehensive exploratory data analysis (EDA) of recent wage statistics to unravel the nuances of various occupations and industries.\n",
        "\n",
        "> 1) **Exploratory Data Analysis** <br>\n",
        "> 2) **Generative AI**<br>\n",
        "\n",
        "This project is structured into two main parts: an in-depth EDA segment, which leverages data visualization to highlight key trends, disparities, and insights within Canadian employment wages across different sectors, and a generative AI segment, aimed at interpreting these findings through the lens of data journalism. The primary objective of our analysis is to offer a granular look at which industries and occupations hold the promise of prosperity, growth, and stability. By identifying sectors that are leading in wage trends and those that lag, we aim to provide a roadmap for individuals to make informed decisions about their careers and educational paths, ultimately getting ahead in the game."
      ],
      "metadata": {
        "id": "-_3wv8jZYTcC"
      },
      "id": "-_3wv8jZYTcC"
    },
    {
      "cell_type": "markdown",
      "source": [
        "## **Pre-requisite Actions**"
      ],
      "metadata": {
        "id": "Hi2rbVK1Q0Kk"
      },
      "id": "Hi2rbVK1Q0Kk"
    },
    {
      "cell_type": "code",
      "source": [
        "# Import necessary packages\n",
        "!pip install openai --quiet\n",
        "import pandas as pd\n",
        "import numpy as np\n",
        "import seaborn as sns\n",
        "import matplotlib.pyplot as plt\n",
        "from openai import OpenAI\n",
        "import os"
      ],
      "metadata": {
        "id": "3NUVwcEE1dlR",
        "colab": {
          "base_uri": "https://localhost:8080/"
        },
        "outputId": "438a1bc5-890a-4b70-a5b1-97bb47601c32"
      },
      "execution_count": null,
      "outputs": [
        {
          "output_type": "stream",
          "name": "stdout",
          "text": [
            "\n",
            "Usage:   \n",
            "  pip3 install [options] <requirement specifier> [package-index-options] ...\n",
            "  pip3 install [options] -r <requirements file> [package-index-options] ...\n",
            "  pip3 install [options] [-e] <vcs project url> ...\n",
            "  pip3 install [options] [-e] <local project path> ...\n",
            "  pip3 install [options] <archive url/path> ...\n",
            "\n",
            "no such option: -u\n"
          ]
        }
      ],
      "id": "3NUVwcEE1dlR"
    },
    {
      "cell_type": "markdown",
      "source": [
        "## **Download the Dataset:**\n",
        "\n",
        " >* **Folder Access**: [Click to download the Employee Wages Data](https://drive.google.com/drive/folders/19z4KBZxFu6g4Hgmw9jkYU-WBBHzxFrnh?usp=sharing) <br>\n",
        " Sourced from: [Statistics Canada](https://www150.statcan.gc.ca/t1/tbl1/en/tv.action?pid=1410041701&pickMembers%5B0%5D=1.1&pickMembers%5B1%5D=2.1&pickMembers%5B2%5D=3.1&pickMembers%5B3%5D=5.1&pickMembers%5B4%5D=6.1&cubeTimeFrame.startYear=2018&cubeTimeFrame.endYear=2023&referencePeriods=20180101%2C20230101)"
      ],
      "metadata": {
        "id": "ZiOAlOzOkJ2G"
      },
      "id": "ZiOAlOzOkJ2G"
    },
    {
      "cell_type": "markdown",
      "source": [
        "## **Get to know the Data**\n",
        "\n",
        "\n"
      ],
      "metadata": {
        "id": "SRWg0W7Z0Bh_"
      },
      "id": "SRWg0W7Z0Bh_"
    },
    {
      "cell_type": "code",
      "source": [
        "# Check data types, row/column headers\n",
        "# Check the csv delimeter types (\\t or ; or ,) to specify the separation between data\n",
        "# Pick the correct csv file for each task where relevant"
      ],
      "metadata": {
        "id": "KTc_FOp6-PXI"
      },
      "execution_count": null,
      "outputs": [],
      "id": "KTc_FOp6-PXI"
    },
    {
      "cell_type": "markdown",
      "source": [
        "# **Exploratory Data Analysis**\n"
      ],
      "metadata": {
        "id": "78-OC9_RB4vr"
      },
      "id": "78-OC9_RB4vr"
    },
    {
      "cell_type": "markdown",
      "source": [
        "### **The Recent Evolution of Wages: A Historical Perspective**"
      ],
      "metadata": {
        "id": "NsOJp0cxQcAy"
      },
      "id": "NsOJp0cxQcAy"
    },
    {
      "cell_type": "code",
      "source": [
        "# Task: Create a line plot that shows the overall hourly wage trend over time\n",
        "\n",
        "# Pick the correct dataset from the folder\n",
        "# Example:\n",
        "from google.colab import files\n",
        "uploaded = files.upload()\n",
        "df = pd.read_csv('Average_Hourly_Wages_Overall_Canadian.csv', sep='\\t')\n",
        "df.head()\n",
        "\n",
        "# Compare the overall hourly wage trend (total employees) against health and engineering professionals\n",
        "# Filter the DataFrame for the selected occupations\n",
        "selected_occupations = df[df['National Occupational Classification (NOC)'].isin(['Professional occupations in engineering [213]', 'Professional occupations in health [31]', 'Total employees, all occupations [00-95]'])]\n",
        "\n",
        "# Visualize your findings and make inferences from the outcomes observed\n",
        " # (For the text analysis in the Generational AI section)"
      ],
      "metadata": {
        "id": "rlztl4JyQcqs"
      },
      "execution_count": null,
      "outputs": [],
      "id": "rlztl4JyQcqs"
    },
    {
      "cell_type": "markdown",
      "source": [
        "### **Job and Financial Security: Choosing Between Casual and Permanent Employment**"
      ],
      "metadata": {
        "id": "TNEPJlkpQiIR"
      },
      "id": "TNEPJlkpQiIR"
    },
    {
      "cell_type": "code",
      "source": [
        "# Compare the average weekly wage between full-time and part-time employees. Use a bar chart to for visualization\n",
        "# Hint: You may need to filter the dataframe based on the 'Type of work' column and then use groupby and mean to calculate the average wages.\n",
        "# Calculation method: Find the average between all the available years in the dataset for both type of work\n",
        "\n",
        "# Visualize your findings and identify if it is better to be a casual or permanent employee\n",
        " # (For the text analysis in the Generational AI section)"
      ],
      "metadata": {
        "id": "Dl7TOgUMQi1o"
      },
      "execution_count": null,
      "outputs": [],
      "id": "Dl7TOgUMQi1o"
    },
    {
      "cell_type": "markdown",
      "source": [
        "###**Wage Disparity: A Comparison by Occupation and Gender\"**"
      ],
      "metadata": {
        "id": "WSP-WMhNJWik"
      },
      "id": "WSP-WMhNJWik"
    },
    {
      "cell_type": "code",
      "source": [
        "# Identify the top 5 occupations with the highest average wage\n",
        "# Plot a heatmap of those top 5 occupations average wages by occupation and age group to visualize the distribution across these dimensions.\n",
        "# Hint: Group the data by 'National Occupational Classification (NOC)' and calculate the mean wage. Then sort the results and use head() to get the top 5 occupations.\n",
        "\n",
        "# Compare the bottom 3 and top 3 occupations for the average hourly wage between sexes. Provide 2 boxplots, separating the top and bottom occupations\n",
        "# Hint: The boxplot should indicate the distributions over time, and make inferences about the\n",
        "\n",
        "# Visualize your findings and make inferences from the outcomes observed\n",
        " # (For the text analysis in the Generational AI section)"
      ],
      "metadata": {
        "id": "aFYEtfwfJWik"
      },
      "execution_count": null,
      "outputs": [],
      "id": "aFYEtfwfJWik"
    },
    {
      "cell_type": "markdown",
      "source": [
        "# **Generative AI**\n",
        "\n",
        "To load the **OPENAI API KEY**: <br>\n",
        "1.   Please reach out to admins on Discord to receive an API KEY<br>\n",
        "2.   Input the Key into the a .txt file\n",
        "3.   Load the .txt file\n"
      ],
      "metadata": {
        "id": "vLZoae1hIxlR"
      },
      "id": "vLZoae1hIxlR"
    },
    {
      "cell_type": "code",
      "source": [
        "from google.colab import files\n",
        "uploaded = files.upload()\n",
        "api_key_path = 'openai.txt'"
      ],
      "metadata": {
        "id": "0v0fdXO_XmVG"
      },
      "id": "0v0fdXO_XmVG",
      "execution_count": null,
      "outputs": []
    },
    {
      "cell_type": "code",
      "source": [
        "# Read the API key\n",
        "with open('openai.txt', 'r') as file:\n",
        "    api_key = file.readline().strip()\n",
        "\n",
        "# Set the API key in the environment (optional if you pass the key directly to the client)\n",
        "os.environ['OPENAI_API_KEY'] = api_key\n",
        "\n",
        "# Initialize the OpenAI client\n",
        "client = OpenAI(api_key=api_key)\n",
        "\n",
        "# Specify the model\n",
        "model = \"gpt-3.5-turbo\"\n",
        "\n",
        "# The text for analysis, Include both data and its description for context\n",
        "text = \"\"\"\n",
        "Analyze and discuss the data on Canadian wages with a focus on three key aspects.\n",
        "\n",
        "1. First, provide insight into overall wage trends over time, considering economic factors and policy impacts that have influenced these trends.\n",
        "(Insert inferences and observations from EDA)\n",
        "\n",
        "2. Second, detail the gender wage difference, highlighting the ongoing issue of pay equity between men and women across different sectors.\n",
        "(Insert inferences and observations from EDA)\n",
        "\n",
        "3. Lastly, explore the employment types to uncover disparities in earnings, especially focusing on how financial stability affects the hourly rates\n",
        "(Insert inferences and observations from EDA)\n",
        "\n",
        "Each of these points should form a separate paragraph, together building a coherent narrative for a data journalism piece.\n",
        "\"\"\"\n",
        "\n",
        "# Preparing messages for the model\n",
        "messages = [\n",
        "    {\"role\": \"system\", \"content\": \"You are a data journalism assistant\"},\n",
        "    {\"role\": \"user\", \"content\": f\"Write a small paragraph here to analyze this data:\\n{text}. The goal is to interpret it in a way that's interesting for a Data journalism piece.\"}\n",
        "]\n",
        "\n",
        "# Sending the request to the model\n",
        "response = client.chat.completions.create(\n",
        "    model=model,\n",
        "    messages=messages,\n",
        "    temperature=0\n",
        ")\n",
        "\n",
        "# Extracting and printing the response\n",
        "response_message = response.choices[0].message.content\n",
        "print(response_message)"
      ],
      "metadata": {
        "id": "CU7RR2_p1Ls5",
        "colab": {
          "base_uri": "https://localhost:8080/"
        },
        "outputId": "e4bcecd2-5b2f-4cdb-a556-ebaeb8299d19"
      },
      "id": "CU7RR2_p1Ls5",
      "execution_count": null,
      "outputs": [
        {
          "output_type": "stream",
          "name": "stdout",
          "text": [
            "In analyzing the data on Canadian wages, it is evident that there have been fluctuations in overall wage trends over time. Economic factors such as inflation, unemployment rates, and government policies have played a significant role in shaping these trends. For instance, during periods of economic growth, wages tend to increase as demand for labor rises, while during economic downturns, wages may stagnate or even decrease. Policy impacts, such as minimum wage adjustments and labor market regulations, also influence wage levels. Understanding these factors is crucial in predicting future wage trends and ensuring fair compensation for workers.\n",
            "\n",
            "When examining the gender wage difference in Canada, it is clear that pay equity remains a pressing issue. Despite efforts to promote gender equality in the workforce, women continue to earn less than men across various sectors. Factors such as occupational segregation, discrimination, and lack of representation in higher-paying roles contribute to this disparity. Addressing these systemic issues requires proactive measures to close the gender wage gap and ensure equal pay for equal work. By highlighting these challenges, it becomes apparent that more work needs to be done to achieve true pay equity in Canadian workplaces.\n",
            "\n",
            "Exploring the different employment types in Canada reveals disparities in earnings, particularly in how financial stability affects hourly rates. Full-time employees generally earn higher wages compared to part-time or contract workers, reflecting the importance of job security and benefits in determining overall compensation. Additionally, certain industries or occupations may offer higher wages based on skill level, demand, and market conditions. Understanding these disparities is crucial for policymakers and employers to address wage inequality and promote financial well-being for all workers. By delving into the nuances of employment types and their impact on earnings, a more comprehensive approach can be taken to ensure fair wages and economic stability for Canadians.\n"
          ]
        }
      ]
    },
    {
      "cell_type": "markdown",
      "source": [
        "## **Important**"
      ],
      "metadata": {
        "id": "oT2wwoDt4HhL"
      },
      "id": "oT2wwoDt4HhL"
    },
    {
      "cell_type": "code",
      "source": [
        "# Structure the generative ai response along with the visuals developed in the EDA section. Example article: https://www.yourmove.ai/post/data"
      ],
      "metadata": {
        "id": "Ax4FtZLVxNai"
      },
      "id": "Ax4FtZLVxNai",
      "execution_count": null,
      "outputs": []
    }
  ],
  "metadata": {
    "kernelspec": {
      "display_name": "Python 3 (ipykernel)",
      "language": "python",
      "name": "python3"
    },
    "language_info": {
      "codemirror_mode": {
        "name": "ipython",
        "version": 3
      },
      "file_extension": ".py",
      "mimetype": "text/x-python",
      "name": "python",
      "nbconvert_exporter": "python",
      "pygments_lexer": "ipython3",
      "version": "3.9.12"
    },
    "colab": {
      "provenance": []
    }
  },
  "nbformat": 4,
  "nbformat_minor": 5
}