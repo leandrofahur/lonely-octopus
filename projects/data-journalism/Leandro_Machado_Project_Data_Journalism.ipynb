{
  "cells": [
    {
      "cell_type": "markdown",
      "source": [
        "# **Data Journalism** - Navigating Future Opportunities: An Insightful Exploration of Canadian Employment Wages and Trends\n",
        "\n",
        "In an era where industry landscapes are rapidly evolving, understanding the dynamics of occupational trends and wages becomes pivotal for aspiring professionals and students aiming to position themselves advantageously in the job market. \"Navigating Future Opportunities\" delves deep into the fabric of Canada's employment sectors, employing a comprehensive exploratory data analysis (EDA) of recent wage statistics to unravel the nuances of various occupations and industries.\n",
        "\n",
        "> 1) **Exploratory Data Analysis** <br>\n",
        "> 2) **Generative AI**<br>\n",
        "\n",
        "This project is structured into two main parts: an in-depth EDA segment, which leverages data visualization to highlight key trends, disparities, and insights within Canadian employment wages across different sectors, and a generative AI segment, aimed at interpreting these findings through the lens of data journalism. The primary objective of our analysis is to offer a granular look at which industries and occupations hold the promise of prosperity, growth, and stability. By identifying sectors that are leading in wage trends and those that lag, we aim to provide a roadmap for individuals to make informed decisions about their careers and educational paths, ultimately getting ahead in the game."
      ],
      "metadata": {
        "id": "-_3wv8jZYTcC"
      },
      "id": "-_3wv8jZYTcC"
    },
    {
      "cell_type": "markdown",
      "source": [
        "## **Pre-requisite Actions**"
      ],
      "metadata": {
        "id": "Hi2rbVK1Q0Kk"
      },
      "id": "Hi2rbVK1Q0Kk"
    },
    {
      "cell_type": "code",
      "source": [
        "# Import necessary packages\n",
        "!pip install openai --quiet\n",
        "import pandas as pd\n",
        "import numpy as np\n",
        "import seaborn as sns\n",
        "import matplotlib.pyplot as plt\n",
        "from openai import OpenAI\n",
        "import os\n",
        "\n",
        "# added this pkg to implement a csv sniffer:\n",
        "import csv"
      ],
      "metadata": {
        "id": "3NUVwcEE1dlR",
        "colab": {
          "base_uri": "https://localhost:8080/"
        },
        "outputId": "fdc587a8-9918-4dd9-94ce-f53cede33d46"
      },
      "execution_count": 2,
      "outputs": [
        {
          "output_type": "stream",
          "name": "stdout",
          "text": [
            "\u001b[2K     \u001b[90m━━━━━━━━━━━━━━━━━━━━━━━━━━━━━━━━━━━━━━━━\u001b[0m \u001b[32m268.3/268.3 kB\u001b[0m \u001b[31m4.2 MB/s\u001b[0m eta \u001b[36m0:00:00\u001b[0m\n",
            "\u001b[2K     \u001b[90m━━━━━━━━━━━━━━━━━━━━━━━━━━━━━━━━━━━━━━━━\u001b[0m \u001b[32m75.6/75.6 kB\u001b[0m \u001b[31m5.2 MB/s\u001b[0m eta \u001b[36m0:00:00\u001b[0m\n",
            "\u001b[2K     \u001b[90m━━━━━━━━━━━━━━━━━━━━━━━━━━━━━━━━━━━━━━━━\u001b[0m \u001b[32m77.9/77.9 kB\u001b[0m \u001b[31m6.1 MB/s\u001b[0m eta \u001b[36m0:00:00\u001b[0m\n",
            "\u001b[2K     \u001b[90m━━━━━━━━━━━━━━━━━━━━━━━━━━━━━━━━━━━━━━━━\u001b[0m \u001b[32m58.3/58.3 kB\u001b[0m \u001b[31m2.3 MB/s\u001b[0m eta \u001b[36m0:00:00\u001b[0m\n",
            "\u001b[?25h"
          ]
        }
      ],
      "id": "3NUVwcEE1dlR"
    },
    {
      "cell_type": "markdown",
      "source": [
        "## **Download the Dataset:**\n",
        "\n",
        " >* **Folder Access**: [Click to download the Employee Wages Data](https://drive.google.com/drive/folders/19z4KBZxFu6g4Hgmw9jkYU-WBBHzxFrnh?usp=sharing) <br>\n",
        " Sourced from: [Statistics Canada](https://www150.statcan.gc.ca/t1/tbl1/en/tv.action?pid=1410041701&pickMembers%5B0%5D=1.1&pickMembers%5B1%5D=2.1&pickMembers%5B2%5D=3.1&pickMembers%5B3%5D=5.1&pickMembers%5B4%5D=6.1&cubeTimeFrame.startYear=2018&cubeTimeFrame.endYear=2023&referencePeriods=20180101%2C20230101)"
      ],
      "metadata": {
        "id": "ZiOAlOzOkJ2G"
      },
      "id": "ZiOAlOzOkJ2G"
    },
    {
      "cell_type": "markdown",
      "source": [
        "## **Get to know the Data**\n",
        "\n",
        "\n"
      ],
      "metadata": {
        "id": "SRWg0W7Z0Bh_"
      },
      "id": "SRWg0W7Z0Bh_"
    },
    {
      "cell_type": "code",
      "source": [
        "# Check data types, row/column headers\n",
        "# Check the csv delimeter types (\\t or ; or ,) to specify the separation between data\n",
        "# Pick the correct csv file for each task where relevant\n",
        "\n",
        "# reference url: https://docs.python.org/3/library/csv.html\n",
        "# csv delimeter function to reuse:\n",
        "def sniff_csv_delimiter(csv_file):\n",
        "    with open(csv_file, newline='') as csv_file_to_sniff:\n",
        "        try:\n",
        "            dialect = csv.Sniffer().sniff(csv_file_to_sniff.read(1024))\n",
        "            csv_file_to_sniff.seek(0)  # Return to the start of the file after reading\n",
        "            return dialect.delimiter\n",
        "        except csv.Error:\n",
        "            print(\"Could not determine the delimiter. Please inspect the file manually.\")"
      ],
      "metadata": {
        "id": "KTc_FOp6-PXI"
      },
      "execution_count": 3,
      "outputs": [],
      "id": "KTc_FOp6-PXI"
    },
    {
      "cell_type": "code",
      "source": [
        "# upload all datasets and add them into a dict to make it easy for selecting the\n",
        "# correct data and delimiter later on:\n",
        "from google.colab import files\n",
        "uploaded = files.upload()\n",
        "\n",
        "# create a dictionary for the delimeters:\n",
        "file_and_delimeter_dict = {}\n",
        "\n",
        "# loop through the files uploaded, sniff it, and update the dictionary:\n",
        "for file_name, data in uploaded.items():\n",
        "    try:\n",
        "        with open(file_name, 'r', encoding='utf-8') as f:\n",
        "            first_line = f.readline()\n",
        "            sniffer = csv.Sniffer()\n",
        "            dialect = sniffer.sniff(first_line)\n",
        "            file_and_delimeter_dict[file_name] = dialect.delimiter\n",
        "\n",
        "            print(f\"Detected delimiter for '{file_name}': {dialect.delimiter}\")\n",
        "    except Exception as e:\n",
        "        print(f\"Error processing file {file_name}: {e}\")\n",
        "\n",
        "# caveat: the delimeter '\\t' is literally a tab! The sniffer display a tab space,\n",
        "# therefore, you will not see '\\t' in the dict"
      ],
      "metadata": {
        "colab": {
          "base_uri": "https://localhost:8080/",
          "height": 350
        },
        "id": "RqfwIL1OqxWj",
        "outputId": "df546390-98d7-49fd-c2a3-c3951608e56f"
      },
      "id": "RqfwIL1OqxWj",
      "execution_count": 4,
      "outputs": [
        {
          "output_type": "display_data",
          "data": {
            "text/plain": [
              "<IPython.core.display.HTML object>"
            ],
            "text/html": [
              "\n",
              "     <input type=\"file\" id=\"files-9c22c810-95cb-4a2a-8ee3-30dcf6f70773\" name=\"files[]\" multiple disabled\n",
              "        style=\"border:none\" />\n",
              "     <output id=\"result-9c22c810-95cb-4a2a-8ee3-30dcf6f70773\">\n",
              "      Upload widget is only available when the cell has been executed in the\n",
              "      current browser session. Please rerun this cell to enable.\n",
              "      </output>\n",
              "      <script>// Copyright 2017 Google LLC\n",
              "//\n",
              "// Licensed under the Apache License, Version 2.0 (the \"License\");\n",
              "// you may not use this file except in compliance with the License.\n",
              "// You may obtain a copy of the License at\n",
              "//\n",
              "//      http://www.apache.org/licenses/LICENSE-2.0\n",
              "//\n",
              "// Unless required by applicable law or agreed to in writing, software\n",
              "// distributed under the License is distributed on an \"AS IS\" BASIS,\n",
              "// WITHOUT WARRANTIES OR CONDITIONS OF ANY KIND, either express or implied.\n",
              "// See the License for the specific language governing permissions and\n",
              "// limitations under the License.\n",
              "\n",
              "/**\n",
              " * @fileoverview Helpers for google.colab Python module.\n",
              " */\n",
              "(function(scope) {\n",
              "function span(text, styleAttributes = {}) {\n",
              "  const element = document.createElement('span');\n",
              "  element.textContent = text;\n",
              "  for (const key of Object.keys(styleAttributes)) {\n",
              "    element.style[key] = styleAttributes[key];\n",
              "  }\n",
              "  return element;\n",
              "}\n",
              "\n",
              "// Max number of bytes which will be uploaded at a time.\n",
              "const MAX_PAYLOAD_SIZE = 100 * 1024;\n",
              "\n",
              "function _uploadFiles(inputId, outputId) {\n",
              "  const steps = uploadFilesStep(inputId, outputId);\n",
              "  const outputElement = document.getElementById(outputId);\n",
              "  // Cache steps on the outputElement to make it available for the next call\n",
              "  // to uploadFilesContinue from Python.\n",
              "  outputElement.steps = steps;\n",
              "\n",
              "  return _uploadFilesContinue(outputId);\n",
              "}\n",
              "\n",
              "// This is roughly an async generator (not supported in the browser yet),\n",
              "// where there are multiple asynchronous steps and the Python side is going\n",
              "// to poll for completion of each step.\n",
              "// This uses a Promise to block the python side on completion of each step,\n",
              "// then passes the result of the previous step as the input to the next step.\n",
              "function _uploadFilesContinue(outputId) {\n",
              "  const outputElement = document.getElementById(outputId);\n",
              "  const steps = outputElement.steps;\n",
              "\n",
              "  const next = steps.next(outputElement.lastPromiseValue);\n",
              "  return Promise.resolve(next.value.promise).then((value) => {\n",
              "    // Cache the last promise value to make it available to the next\n",
              "    // step of the generator.\n",
              "    outputElement.lastPromiseValue = value;\n",
              "    return next.value.response;\n",
              "  });\n",
              "}\n",
              "\n",
              "/**\n",
              " * Generator function which is called between each async step of the upload\n",
              " * process.\n",
              " * @param {string} inputId Element ID of the input file picker element.\n",
              " * @param {string} outputId Element ID of the output display.\n",
              " * @return {!Iterable<!Object>} Iterable of next steps.\n",
              " */\n",
              "function* uploadFilesStep(inputId, outputId) {\n",
              "  const inputElement = document.getElementById(inputId);\n",
              "  inputElement.disabled = false;\n",
              "\n",
              "  const outputElement = document.getElementById(outputId);\n",
              "  outputElement.innerHTML = '';\n",
              "\n",
              "  const pickedPromise = new Promise((resolve) => {\n",
              "    inputElement.addEventListener('change', (e) => {\n",
              "      resolve(e.target.files);\n",
              "    });\n",
              "  });\n",
              "\n",
              "  const cancel = document.createElement('button');\n",
              "  inputElement.parentElement.appendChild(cancel);\n",
              "  cancel.textContent = 'Cancel upload';\n",
              "  const cancelPromise = new Promise((resolve) => {\n",
              "    cancel.onclick = () => {\n",
              "      resolve(null);\n",
              "    };\n",
              "  });\n",
              "\n",
              "  // Wait for the user to pick the files.\n",
              "  const files = yield {\n",
              "    promise: Promise.race([pickedPromise, cancelPromise]),\n",
              "    response: {\n",
              "      action: 'starting',\n",
              "    }\n",
              "  };\n",
              "\n",
              "  cancel.remove();\n",
              "\n",
              "  // Disable the input element since further picks are not allowed.\n",
              "  inputElement.disabled = true;\n",
              "\n",
              "  if (!files) {\n",
              "    return {\n",
              "      response: {\n",
              "        action: 'complete',\n",
              "      }\n",
              "    };\n",
              "  }\n",
              "\n",
              "  for (const file of files) {\n",
              "    const li = document.createElement('li');\n",
              "    li.append(span(file.name, {fontWeight: 'bold'}));\n",
              "    li.append(span(\n",
              "        `(${file.type || 'n/a'}) - ${file.size} bytes, ` +\n",
              "        `last modified: ${\n",
              "            file.lastModifiedDate ? file.lastModifiedDate.toLocaleDateString() :\n",
              "                                    'n/a'} - `));\n",
              "    const percent = span('0% done');\n",
              "    li.appendChild(percent);\n",
              "\n",
              "    outputElement.appendChild(li);\n",
              "\n",
              "    const fileDataPromise = new Promise((resolve) => {\n",
              "      const reader = new FileReader();\n",
              "      reader.onload = (e) => {\n",
              "        resolve(e.target.result);\n",
              "      };\n",
              "      reader.readAsArrayBuffer(file);\n",
              "    });\n",
              "    // Wait for the data to be ready.\n",
              "    let fileData = yield {\n",
              "      promise: fileDataPromise,\n",
              "      response: {\n",
              "        action: 'continue',\n",
              "      }\n",
              "    };\n",
              "\n",
              "    // Use a chunked sending to avoid message size limits. See b/62115660.\n",
              "    let position = 0;\n",
              "    do {\n",
              "      const length = Math.min(fileData.byteLength - position, MAX_PAYLOAD_SIZE);\n",
              "      const chunk = new Uint8Array(fileData, position, length);\n",
              "      position += length;\n",
              "\n",
              "      const base64 = btoa(String.fromCharCode.apply(null, chunk));\n",
              "      yield {\n",
              "        response: {\n",
              "          action: 'append',\n",
              "          file: file.name,\n",
              "          data: base64,\n",
              "        },\n",
              "      };\n",
              "\n",
              "      let percentDone = fileData.byteLength === 0 ?\n",
              "          100 :\n",
              "          Math.round((position / fileData.byteLength) * 100);\n",
              "      percent.textContent = `${percentDone}% done`;\n",
              "\n",
              "    } while (position < fileData.byteLength);\n",
              "  }\n",
              "\n",
              "  // All done.\n",
              "  yield {\n",
              "    response: {\n",
              "      action: 'complete',\n",
              "    }\n",
              "  };\n",
              "}\n",
              "\n",
              "scope.google = scope.google || {};\n",
              "scope.google.colab = scope.google.colab || {};\n",
              "scope.google.colab._files = {\n",
              "  _uploadFiles,\n",
              "  _uploadFilesContinue,\n",
              "};\n",
              "})(self);\n",
              "</script> "
            ]
          },
          "metadata": {}
        },
        {
          "output_type": "stream",
          "name": "stdout",
          "text": [
            "Saving Average_Hourly_Wages_Female_Canadian.csv to Average_Hourly_Wages_Female_Canadian.csv\n",
            "Saving Average_Hourly_Wages_Male_Canadian.csv to Average_Hourly_Wages_Male_Canadian.csv\n",
            "Saving Average_Hourly_Wages_Overall_Canadian.csv to Average_Hourly_Wages_Overall_Canadian.csv\n",
            "Saving Average_Weekly_Wages_Full-time_Canadian.csv to Average_Weekly_Wages_Full-time_Canadian.csv\n",
            "Saving Average_Weekly_Wages_Part-time_Canadian.csv to Average_Weekly_Wages_Part-time_Canadian.csv\n",
            "Saving Total_Employee_Wages_Canadian.csv to Total_Employee_Wages_Canadian.csv\n",
            "Detected delimiter for 'Average_Hourly_Wages_Female_Canadian.csv': ,\n",
            "Detected delimiter for 'Average_Hourly_Wages_Male_Canadian.csv': ,\n",
            "Detected delimiter for 'Average_Hourly_Wages_Overall_Canadian.csv': \t\n",
            "Detected delimiter for 'Average_Weekly_Wages_Full-time_Canadian.csv': ,\n",
            "Detected delimiter for 'Average_Weekly_Wages_Part-time_Canadian.csv': ,\n",
            "Detected delimiter for 'Total_Employee_Wages_Canadian.csv': ,\n"
          ]
        }
      ]
    },
    {
      "cell_type": "code",
      "source": [
        "# get to know the Average_Hourly_Wages_Female_Canadian.csv file:\n",
        "file_female_canadian = list(file_and_delimeter_dict)[0]\n",
        "file_delimeter_female_canadian = file_and_delimeter_dict[file_female_canadian]\n",
        "df_female_canadian = pd.read_csv(file_female_canadian, sep=file_delimeter_female_canadian)\n",
        "\n",
        "print(f\"File {file_female_canadian} info\")\n",
        "df_female_canadian.info()"
      ],
      "metadata": {
        "colab": {
          "base_uri": "https://localhost:8080/"
        },
        "id": "ekVXpi4RsHFU",
        "outputId": "939cf20a-cfa3-4fcd-cb0c-21acc4b62822"
      },
      "id": "ekVXpi4RsHFU",
      "execution_count": 8,
      "outputs": [
        {
          "output_type": "stream",
          "name": "stdout",
          "text": [
            "File Average_Hourly_Wages_Female_Canadian.csv info\n",
            "<class 'pandas.core.frame.DataFrame'>\n",
            "RangeIndex: 354 entries, 0 to 353\n",
            "Data columns (total 19 columns):\n",
            " #   Column                                      Non-Null Count  Dtype  \n",
            "---  ------                                      --------------  -----  \n",
            " 0   REF_DATE                                    354 non-null    int64  \n",
            " 1   GEO                                         354 non-null    object \n",
            " 2   DGUID                                       354 non-null    object \n",
            " 3   Wages                                       354 non-null    object \n",
            " 4   Type of work                                354 non-null    object \n",
            " 5   National Occupational Classification (NOC)  354 non-null    object \n",
            " 6   Sex                                         354 non-null    object \n",
            " 7   Age group                                   354 non-null    object \n",
            " 8   UOM                                         354 non-null    object \n",
            " 9   UOM_ID                                      354 non-null    int64  \n",
            " 10  SCALAR_FACTOR                               354 non-null    object \n",
            " 11  SCALAR_ID                                   354 non-null    int64  \n",
            " 12  VECTOR                                      354 non-null    object \n",
            " 13  COORDINATE                                  354 non-null    object \n",
            " 14  VALUE                                       354 non-null    float64\n",
            " 15  STATUS                                      0 non-null      float64\n",
            " 16  SYMBOL                                      0 non-null      float64\n",
            " 17  TERMINATED                                  0 non-null      float64\n",
            " 18  DECIMALS                                    354 non-null    int64  \n",
            "dtypes: float64(4), int64(4), object(11)\n",
            "memory usage: 52.7+ KB\n"
          ]
        }
      ]
    },
    {
      "cell_type": "code",
      "source": [
        "# get to know the Average_Hourly_Wages_Male_Canadian.csv file:\n",
        "file_male_canadian = list(file_and_delimeter_dict)[1]\n",
        "file_delimeter_male_canadian = file_and_delimeter_dict[file_male_canadian]\n",
        "df_male_canadian = pd.read_csv(file_male_canadian, sep=file_delimeter_male_canadian)\n",
        "\n",
        "print(f\"File {file_male_canadian} info\")\n",
        "df_male_canadian.info()"
      ],
      "metadata": {
        "colab": {
          "base_uri": "https://localhost:8080/"
        },
        "id": "lj_sD4fXsi3O",
        "outputId": "936f283c-0622-44dd-e47b-6f08e3b1b37a"
      },
      "id": "lj_sD4fXsi3O",
      "execution_count": 9,
      "outputs": [
        {
          "output_type": "stream",
          "name": "stdout",
          "text": [
            "File Average_Hourly_Wages_Male_Canadian.csv info\n",
            "<class 'pandas.core.frame.DataFrame'>\n",
            "RangeIndex: 354 entries, 0 to 353\n",
            "Data columns (total 19 columns):\n",
            " #   Column                                      Non-Null Count  Dtype  \n",
            "---  ------                                      --------------  -----  \n",
            " 0   REF_DATE                                    354 non-null    int64  \n",
            " 1   GEO                                         354 non-null    object \n",
            " 2   DGUID                                       354 non-null    object \n",
            " 3   Wages                                       354 non-null    object \n",
            " 4   Type of work                                354 non-null    object \n",
            " 5   National Occupational Classification (NOC)  354 non-null    object \n",
            " 6   Sex                                         354 non-null    object \n",
            " 7   Age group                                   354 non-null    object \n",
            " 8   UOM                                         354 non-null    object \n",
            " 9   UOM_ID                                      354 non-null    int64  \n",
            " 10  SCALAR_FACTOR                               354 non-null    object \n",
            " 11  SCALAR_ID                                   354 non-null    int64  \n",
            " 12  VECTOR                                      354 non-null    object \n",
            " 13  COORDINATE                                  354 non-null    object \n",
            " 14  VALUE                                       354 non-null    float64\n",
            " 15  STATUS                                      0 non-null      float64\n",
            " 16  SYMBOL                                      0 non-null      float64\n",
            " 17  TERMINATED                                  0 non-null      float64\n",
            " 18  DECIMALS                                    354 non-null    int64  \n",
            "dtypes: float64(4), int64(4), object(11)\n",
            "memory usage: 52.7+ KB\n"
          ]
        }
      ]
    },
    {
      "cell_type": "code",
      "source": [
        "# get to know the Average_Hourly_Wages_Overall_Canadian.csv file:\n",
        "file_overall_canadian = list(file_and_delimeter_dict)[2]\n",
        "file_delimeter_overall_canadian = file_and_delimeter_dict[file_overall_canadian]\n",
        "df_overall_canadian = pd.read_csv(file_overall_canadian, sep=file_delimeter_overall_canadian)\n",
        "\n",
        "print(f\"File {file_overall_canadian} info\")\n",
        "df_overall_canadian.info()"
      ],
      "metadata": {
        "colab": {
          "base_uri": "https://localhost:8080/"
        },
        "id": "L0sQc_i4mx2l",
        "outputId": "0026030e-906f-456e-db49-1d5c9eb8f32c"
      },
      "id": "L0sQc_i4mx2l",
      "execution_count": 10,
      "outputs": [
        {
          "output_type": "stream",
          "name": "stdout",
          "text": [
            "File Average_Hourly_Wages_Overall_Canadian.csv info\n",
            "<class 'pandas.core.frame.DataFrame'>\n",
            "RangeIndex: 708 entries, 0 to 707\n",
            "Data columns (total 19 columns):\n",
            " #   Column                                      Non-Null Count  Dtype  \n",
            "---  ------                                      --------------  -----  \n",
            " 0   REF_DATE                                    708 non-null    int64  \n",
            " 1   GEO                                         708 non-null    object \n",
            " 2   DGUID                                       708 non-null    object \n",
            " 3   Wages                                       708 non-null    object \n",
            " 4   Type of work                                708 non-null    object \n",
            " 5   National Occupational Classification (NOC)  708 non-null    object \n",
            " 6   Sex                                         708 non-null    object \n",
            " 7   Age group                                   708 non-null    object \n",
            " 8   UOM                                         708 non-null    object \n",
            " 9   UOM_ID                                      708 non-null    int64  \n",
            " 10  SCALAR_FACTOR                               708 non-null    object \n",
            " 11  SCALAR_ID                                   708 non-null    int64  \n",
            " 12  VECTOR                                      708 non-null    object \n",
            " 13  COORDINATE                                  708 non-null    object \n",
            " 14  VALUE                                       708 non-null    float64\n",
            " 15  STATUS                                      0 non-null      float64\n",
            " 16  SYMBOL                                      0 non-null      float64\n",
            " 17  TERMINATED                                  0 non-null      float64\n",
            " 18  DECIMALS                                    708 non-null    int64  \n",
            "dtypes: float64(4), int64(4), object(11)\n",
            "memory usage: 105.2+ KB\n"
          ]
        }
      ]
    },
    {
      "cell_type": "code",
      "source": [
        "# get to know the Average_Weekly_Wages_Full-time_Canadian.csv.csv file:\n",
        "file_full_time_canadian = list(file_and_delimeter_dict)[3]\n",
        "file_delimeter_full_time_canadian = file_and_delimeter_dict[file_full_time_canadian]\n",
        "df_full_time_canadian = pd.read_csv(file_full_time_canadian, sep=file_delimeter_full_time_canadian)\n",
        "\n",
        "print(f\"File {file_full_time_canadian} info\")\n",
        "df_full_time_canadian.info()"
      ],
      "metadata": {
        "colab": {
          "base_uri": "https://localhost:8080/"
        },
        "id": "RQCcjQsJnyCh",
        "outputId": "76966875-085f-4b91-dc9c-295a56cf6e05"
      },
      "id": "RQCcjQsJnyCh",
      "execution_count": 11,
      "outputs": [
        {
          "output_type": "stream",
          "name": "stdout",
          "text": [
            "File Average_Weekly_Wages_Full-time_Canadian.csv info\n",
            "<class 'pandas.core.frame.DataFrame'>\n",
            "RangeIndex: 354 entries, 0 to 353\n",
            "Data columns (total 19 columns):\n",
            " #   Column                                      Non-Null Count  Dtype  \n",
            "---  ------                                      --------------  -----  \n",
            " 0   REF_DATE                                    354 non-null    int64  \n",
            " 1   GEO                                         354 non-null    object \n",
            " 2   DGUID                                       354 non-null    object \n",
            " 3   Wages                                       354 non-null    object \n",
            " 4   Type of work                                354 non-null    object \n",
            " 5   National Occupational Classification (NOC)  354 non-null    object \n",
            " 6   Sex                                         354 non-null    object \n",
            " 7   Age group                                   354 non-null    object \n",
            " 8   UOM                                         354 non-null    object \n",
            " 9   UOM_ID                                      354 non-null    int64  \n",
            " 10  SCALAR_FACTOR                               354 non-null    object \n",
            " 11  SCALAR_ID                                   354 non-null    int64  \n",
            " 12  VECTOR                                      354 non-null    object \n",
            " 13  COORDINATE                                  354 non-null    object \n",
            " 14  VALUE                                       354 non-null    float64\n",
            " 15  STATUS                                      0 non-null      float64\n",
            " 16  SYMBOL                                      0 non-null      float64\n",
            " 17  TERMINATED                                  0 non-null      float64\n",
            " 18  DECIMALS                                    354 non-null    int64  \n",
            "dtypes: float64(4), int64(4), object(11)\n",
            "memory usage: 52.7+ KB\n"
          ]
        }
      ]
    },
    {
      "cell_type": "code",
      "source": [
        "# get to know the Average_Weekly_Wages_Part-time_Canadian.csv file:\n",
        "file_part_time_canadian = list(file_and_delimeter_dict)[4]\n",
        "file_delimeter_part_time_canadian = file_and_delimeter_dict[file_part_time_canadian]\n",
        "df_part_time_canadian = pd.read_csv(file_part_time_canadian, sep=file_delimeter_part_time_canadian)\n",
        "\n",
        "print(f\"File {file_part_time_canadian} info\")\n",
        "df_part_time_canadian.info()"
      ],
      "metadata": {
        "colab": {
          "base_uri": "https://localhost:8080/"
        },
        "id": "_u9i0X0IogjG",
        "outputId": "77a6d75c-3719-4ef6-9209-7b7cd22935f6"
      },
      "id": "_u9i0X0IogjG",
      "execution_count": 13,
      "outputs": [
        {
          "output_type": "stream",
          "name": "stdout",
          "text": [
            "File Average_Weekly_Wages_Part-time_Canadian.csv info\n",
            "<class 'pandas.core.frame.DataFrame'>\n",
            "RangeIndex: 354 entries, 0 to 353\n",
            "Data columns (total 19 columns):\n",
            " #   Column                                      Non-Null Count  Dtype  \n",
            "---  ------                                      --------------  -----  \n",
            " 0   REF_DATE                                    354 non-null    int64  \n",
            " 1   GEO                                         354 non-null    object \n",
            " 2   DGUID                                       354 non-null    object \n",
            " 3   Wages                                       354 non-null    object \n",
            " 4   Type of work                                354 non-null    object \n",
            " 5   National Occupational Classification (NOC)  354 non-null    object \n",
            " 6   Sex                                         354 non-null    object \n",
            " 7   Age group                                   354 non-null    object \n",
            " 8   UOM                                         354 non-null    object \n",
            " 9   UOM_ID                                      354 non-null    int64  \n",
            " 10  SCALAR_FACTOR                               354 non-null    object \n",
            " 11  SCALAR_ID                                   354 non-null    int64  \n",
            " 12  VECTOR                                      354 non-null    object \n",
            " 13  COORDINATE                                  354 non-null    object \n",
            " 14  VALUE                                       351 non-null    float64\n",
            " 15  STATUS                                      3 non-null      object \n",
            " 16  SYMBOL                                      0 non-null      float64\n",
            " 17  TERMINATED                                  0 non-null      float64\n",
            " 18  DECIMALS                                    354 non-null    int64  \n",
            "dtypes: float64(3), int64(4), object(12)\n",
            "memory usage: 52.7+ KB\n"
          ]
        }
      ]
    },
    {
      "cell_type": "code",
      "source": [
        "# get to know the Total_Employee_Wages_Canadian.csv file:\n",
        "file_total_employee_canadian = list(file_and_delimeter_dict)[5]\n",
        "file_delimeter_total_employee_canadian = file_and_delimeter_dict[file_total_employee_canadian]\n",
        "df_total_employee_canadian = pd.read_csv(file_total_employee_canadian, sep=file_delimeter_total_employee_canadian)\n",
        "\n",
        "print(f\"File {file_total_employee_canadian} info\")\n",
        "df_total_employee_canadian.info()"
      ],
      "metadata": {
        "colab": {
          "base_uri": "https://localhost:8080/"
        },
        "id": "oOWoQqWGpInL",
        "outputId": "b4891da4-cf3d-46b7-fc3e-a998cb62cccd"
      },
      "id": "oOWoQqWGpInL",
      "execution_count": 15,
      "outputs": [
        {
          "output_type": "stream",
          "name": "stdout",
          "text": [
            "File Total_Employee_Wages_Canadian.csv info\n",
            "<class 'pandas.core.frame.DataFrame'>\n",
            "RangeIndex: 354 entries, 0 to 353\n",
            "Data columns (total 19 columns):\n",
            " #   Column                                      Non-Null Count  Dtype  \n",
            "---  ------                                      --------------  -----  \n",
            " 0   REF_DATE                                    354 non-null    int64  \n",
            " 1   GEO                                         354 non-null    object \n",
            " 2   DGUID                                       354 non-null    object \n",
            " 3   Wages                                       354 non-null    object \n",
            " 4   Type of work                                354 non-null    object \n",
            " 5   National Occupational Classification (NOC)  354 non-null    object \n",
            " 6   Sex                                         354 non-null    object \n",
            " 7   Age group                                   354 non-null    object \n",
            " 8   UOM                                         354 non-null    object \n",
            " 9   UOM_ID                                      354 non-null    int64  \n",
            " 10  SCALAR_FACTOR                               354 non-null    object \n",
            " 11  SCALAR_ID                                   354 non-null    int64  \n",
            " 12  VECTOR                                      354 non-null    object \n",
            " 13  COORDINATE                                  354 non-null    object \n",
            " 14  VALUE                                       354 non-null    float64\n",
            " 15  STATUS                                      0 non-null      float64\n",
            " 16  SYMBOL                                      0 non-null      float64\n",
            " 17  TERMINATED                                  0 non-null      float64\n",
            " 18  DECIMALS                                    354 non-null    int64  \n",
            "dtypes: float64(4), int64(4), object(11)\n",
            "memory usage: 52.7+ KB\n"
          ]
        }
      ]
    },
    {
      "cell_type": "markdown",
      "source": [
        "# **Exploratory Data Analysis**\n"
      ],
      "metadata": {
        "id": "78-OC9_RB4vr"
      },
      "id": "78-OC9_RB4vr"
    },
    {
      "cell_type": "markdown",
      "source": [
        "### **The Recent Evolution of Wages: A Historical Perspective**"
      ],
      "metadata": {
        "id": "NsOJp0cxQcAy"
      },
      "id": "NsOJp0cxQcAy"
    },
    {
      "cell_type": "code",
      "source": [
        "# Task: Create a line plot that shows the overall hourly wage trend over time\n",
        "\n",
        "# Pick the correct dataset from the folder\n",
        "# Example:\n",
        "from google.colab import files\n",
        "uploaded = files.upload()\n",
        "df = pd.read_csv('Average_Hourly_Wages_Overall_Canadian.csv', sep='\\t')\n",
        "df.head()\n",
        "\n",
        "# Compare the overall hourly wage trend (total employees) against health and engineering professionals\n",
        "# Filter the DataFrame for the selected occupations\n",
        "selected_occupations = df[df['National Occupational Classification (NOC)'].isin(['Professional occupations in engineering [213]', 'Professional occupations in health [31]', 'Total employees, all occupations [00-95]'])]\n",
        "\n",
        "# Visualize your findings and make inferences from the outcomes observed\n",
        " # (For the text analysis in the Generational AI section)"
      ],
      "metadata": {
        "id": "rlztl4JyQcqs"
      },
      "execution_count": null,
      "outputs": [],
      "id": "rlztl4JyQcqs"
    },
    {
      "cell_type": "markdown",
      "source": [
        "### **Job and Financial Security: Choosing Between Casual and Permanent Employment**"
      ],
      "metadata": {
        "id": "TNEPJlkpQiIR"
      },
      "id": "TNEPJlkpQiIR"
    },
    {
      "cell_type": "code",
      "source": [
        "# Compare the average weekly wage between full-time and part-time employees. Use a bar chart to for visualization\n",
        "# Hint: You may need to filter the dataframe based on the 'Type of work' column and then use groupby and mean to calculate the average wages.\n",
        "# Calculation method: Find the average between all the available years in the dataset for both type of work\n",
        "\n",
        "# Visualize your findings and identify if it is better to be a casual or permanent employee\n",
        " # (For the text analysis in the Generational AI section)"
      ],
      "metadata": {
        "id": "Dl7TOgUMQi1o"
      },
      "execution_count": null,
      "outputs": [],
      "id": "Dl7TOgUMQi1o"
    },
    {
      "cell_type": "markdown",
      "source": [
        "###**Wage Disparity: A Comparison by Occupation and Gender\"**"
      ],
      "metadata": {
        "id": "WSP-WMhNJWik"
      },
      "id": "WSP-WMhNJWik"
    },
    {
      "cell_type": "code",
      "source": [
        "# Identify the top 5 occupations with the highest average wage\n",
        "# Plot a heatmap of those top 5 occupations average wages by occupation and age group to visualize the distribution across these dimensions.\n",
        "# Hint: Group the data by 'National Occupational Classification (NOC)' and calculate the mean wage. Then sort the results and use head() to get the top 5 occupations.\n",
        "\n",
        "# Compare the bottom 3 and top 3 occupations for the average hourly wage between sexes. Provide 2 boxplots, separating the top and bottom occupations\n",
        "# Hint: The boxplot should indicate the distributions over time, and make inferences about the\n",
        "\n",
        "# Visualize your findings and make inferences from the outcomes observed\n",
        " # (For the text analysis in the Generational AI section)"
      ],
      "metadata": {
        "id": "aFYEtfwfJWik"
      },
      "execution_count": null,
      "outputs": [],
      "id": "aFYEtfwfJWik"
    },
    {
      "cell_type": "markdown",
      "source": [
        "# **Generative AI**\n",
        "\n",
        "To load the **OPENAI API KEY**: <br>\n",
        "1.   Please reach out to admins on Discord to receive an API KEY<br>\n",
        "2.   Input the Key into the a .txt file\n",
        "3.   Load the .txt file\n"
      ],
      "metadata": {
        "id": "vLZoae1hIxlR"
      },
      "id": "vLZoae1hIxlR"
    },
    {
      "cell_type": "code",
      "source": [
        "from google.colab import files\n",
        "uploaded = files.upload()\n",
        "api_key_path = 'openai.txt'"
      ],
      "metadata": {
        "id": "0v0fdXO_XmVG"
      },
      "id": "0v0fdXO_XmVG",
      "execution_count": null,
      "outputs": []
    },
    {
      "cell_type": "code",
      "source": [
        "# Read the API key\n",
        "with open('openai.txt', 'r') as file:\n",
        "    api_key = file.readline().strip()\n",
        "\n",
        "# Set the API key in the environment (optional if you pass the key directly to the client)\n",
        "os.environ['OPENAI_API_KEY'] = api_key\n",
        "\n",
        "# Initialize the OpenAI client\n",
        "client = OpenAI(api_key=api_key)\n",
        "\n",
        "# Specify the model\n",
        "model = \"gpt-3.5-turbo\"\n",
        "\n",
        "# The text for analysis, Include both data and its description for context\n",
        "text = \"\"\"\n",
        "Analyze and discuss the data on Canadian wages with a focus on three key aspects.\n",
        "\n",
        "1. First, provide insight into overall wage trends over time, considering economic factors and policy impacts that have influenced these trends.\n",
        "(Insert inferences and observations from EDA)\n",
        "\n",
        "2. Second, detail the gender wage difference, highlighting the ongoing issue of pay equity between men and women across different sectors.\n",
        "(Insert inferences and observations from EDA)\n",
        "\n",
        "3. Lastly, explore the employment types to uncover disparities in earnings, especially focusing on how financial stability affects the hourly rates\n",
        "(Insert inferences and observations from EDA)\n",
        "\n",
        "Each of these points should form a separate paragraph, together building a coherent narrative for a data journalism piece.\n",
        "\"\"\"\n",
        "\n",
        "# Preparing messages for the model\n",
        "messages = [\n",
        "    {\"role\": \"system\", \"content\": \"You are a data journalism assistant\"},\n",
        "    {\"role\": \"user\", \"content\": f\"Write a small paragraph here to analyze this data:\\n{text}. The goal is to interpret it in a way that's interesting for a Data journalism piece.\"}\n",
        "]\n",
        "\n",
        "# Sending the request to the model\n",
        "response = client.chat.completions.create(\n",
        "    model=model,\n",
        "    messages=messages,\n",
        "    temperature=0\n",
        ")\n",
        "\n",
        "# Extracting and printing the response\n",
        "response_message = response.choices[0].message.content\n",
        "print(response_message)"
      ],
      "metadata": {
        "id": "CU7RR2_p1Ls5",
        "colab": {
          "base_uri": "https://localhost:8080/"
        },
        "outputId": "e4bcecd2-5b2f-4cdb-a556-ebaeb8299d19"
      },
      "id": "CU7RR2_p1Ls5",
      "execution_count": null,
      "outputs": [
        {
          "output_type": "stream",
          "name": "stdout",
          "text": [
            "In analyzing the data on Canadian wages, it is evident that there have been fluctuations in overall wage trends over time. Economic factors such as inflation, unemployment rates, and government policies have played a significant role in shaping these trends. For instance, during periods of economic growth, wages tend to increase as demand for labor rises, while during economic downturns, wages may stagnate or even decrease. Policy impacts, such as minimum wage adjustments and labor market regulations, also influence wage levels. Understanding these factors is crucial in predicting future wage trends and ensuring fair compensation for workers.\n",
            "\n",
            "When examining the gender wage difference in Canada, it is clear that pay equity remains a pressing issue. Despite efforts to promote gender equality in the workforce, women continue to earn less than men across various sectors. Factors such as occupational segregation, discrimination, and lack of representation in higher-paying roles contribute to this disparity. Addressing these systemic issues requires proactive measures to close the gender wage gap and ensure equal pay for equal work. By highlighting these challenges, it becomes apparent that more work needs to be done to achieve true pay equity in Canadian workplaces.\n",
            "\n",
            "Exploring the different employment types in Canada reveals disparities in earnings, particularly in how financial stability affects hourly rates. Full-time employees generally earn higher wages compared to part-time or contract workers, reflecting the importance of job security and benefits in determining overall compensation. Additionally, certain industries or occupations may offer higher wages based on skill level, demand, and market conditions. Understanding these disparities is crucial for policymakers and employers to address wage inequality and promote financial well-being for all workers. By delving into the nuances of employment types and their impact on earnings, a more comprehensive approach can be taken to ensure fair wages and economic stability for Canadians.\n"
          ]
        }
      ]
    },
    {
      "cell_type": "markdown",
      "source": [
        "## **Important**"
      ],
      "metadata": {
        "id": "oT2wwoDt4HhL"
      },
      "id": "oT2wwoDt4HhL"
    },
    {
      "cell_type": "code",
      "source": [
        "# Structure the generative ai response along with the visuals developed in the EDA section. Example article: https://www.yourmove.ai/post/data"
      ],
      "metadata": {
        "id": "Ax4FtZLVxNai"
      },
      "id": "Ax4FtZLVxNai",
      "execution_count": null,
      "outputs": []
    }
  ],
  "metadata": {
    "kernelspec": {
      "display_name": "Python 3 (ipykernel)",
      "language": "python",
      "name": "python3"
    },
    "language_info": {
      "codemirror_mode": {
        "name": "ipython",
        "version": 3
      },
      "file_extension": ".py",
      "mimetype": "text/x-python",
      "name": "python",
      "nbconvert_exporter": "python",
      "pygments_lexer": "ipython3",
      "version": "3.9.12"
    },
    "colab": {
      "provenance": []
    }
  },
  "nbformat": 4,
  "nbformat_minor": 5
}