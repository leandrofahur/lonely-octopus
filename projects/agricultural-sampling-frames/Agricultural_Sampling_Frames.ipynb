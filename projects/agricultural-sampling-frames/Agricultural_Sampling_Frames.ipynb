{
  "cells": [
    {
      "cell_type": "markdown",
      "source": [
        "<img style=\"display: block; margin: 0 auto\" src=\"https://images.squarespace-cdn.com/content/v1/645a878d9740963714b8f343/3efb24e3-9fb9-4bc7-b41e-7f36742ae747/2-2.jpg?format=1500w\" alt=\"Lonely Octopus Logo\">"
      ],
      "metadata": {
        "id": "GyApF_QjkhVQ"
      },
      "id": "GyApF_QjkhVQ"
    },
    {
      "cell_type": "markdown",
      "source": [
        "**Please create a copy of the notebook in your gdrive to be able to edit it.**\n",
        "\n",
        "**You can make a copy from the menu: File > Save a copy in Drive**"
      ],
      "metadata": {
        "id": "LWFBr20Mkmix"
      },
      "id": "LWFBr20Mkmix"
    },
    {
      "cell_type": "markdown",
      "source": [
        "#Agricultural Sampling Frames <br>\n",
        "\n",
        "Your Ministry of Agriculture is establishing a multiyear regional development plan that aims to support farmers financially. In the upcoming years they will need to carry out different field studies and analyses that impact hundreds of farmers. For example, they might decide to sponsor only one mode of irrigation and provide improved seeds for some selected crops. It is very costly to conduct an exhaustive census at different points in the development plan, which is where we need your help.\n",
        "\n",
        "As an Analyst in the Department of Strategy and Statistics, you have to decide which method do we use to sample farmers. This is very important because the method you decide to use will be implemented multiple times by the data collection team whenever they're on the field and we need to capture the whole agricultural situation of the concerned region.\n",
        "\n",
        "#### **Sampling and Inference**\n",
        "During our last census, we have collected data for 606 farmers specialized in growing vegetables. You're tasked with taking samples from this dataset and comparing them against each other and the exhaustive dataset using 5 different methods:\n",
        "\n",
        "1. Simple Random Sampling\n",
        "2. Systematic Sampling\n",
        "3. Replicated Sampling\n",
        "4. Probability Proportional to Size Sampling\n",
        "5. Stratified Sampling\n",
        "\n",
        "<img src='https://hotcubator.com.au/wp-content/uploads/2020/07/Copy-of-Social-Business-1.png'> <br>\n",
        "\n",
        "Be warned! This analysis will be rather lengthly, detailed and repetitive in some cases, which is because it is actually a real project! Sampling is a very practical thing and picking a good sampling method is a common problem relevant to almost all fields and industries. We're counting on you to help us choose an adequate method!\n",
        "\n",
        "\n",
        "\n",
        "\n",
        "#### **Get to know the data!**\n",
        "\n",
        "The Dataset contains 6 variables, among which 5 are categorical (qualitative) and 1 is numerical (quantitative):\n",
        "\n",
        "1. **Production mode:**\n",
        "  1. **Primary:** The same crop is planted year after year\n",
        "  2. **In succession:** A different crop is planted each year (or each cycle)\n",
        "  3. **In association:** Multiple crops are planted on the same field at the same time\n",
        "  4. **Understory:** Crop is planted under trees (Can be in a forest)\n",
        "\n",
        "2. **Irrigation:**\n",
        "  1.   **Yes:** The farmer uses a water source besides rain\n",
        "  2.   **No:** The farmer is strictly relying on rain (Pluvial or Rainfed Irrigation mode)\n",
        "3. **Irrigation mode:**\n",
        "\n",
        "  1.   **Localized:** Farmer uses a drip irrigation system (continuous drops of water). This method is the most efficient in terms of water usage.\n",
        "  2.   **Gravity:** An open air canal linking the field to the water source (eg. river). This irrigation system uses a lot of water, especially since much of it is lost through land absorption on the way and evaporation.\n",
        "  3. **Aspersion:** Water is brought to the plants in the form of artificial rain using sprinklers fixed across the field.\n",
        "  4. **Pivot:** A mobile system that pumps water from a source to a long tube with sprinklers in the sky that crosses the entire field. This sky tube moves from one side to the other and irrigates the whole field.\n",
        "  5. **Gravity, Localized:** Mixed\n",
        "  6. **Localized, Pivot:** Mixed\n",
        "\n",
        "4. **Crop:**\n",
        "  1. Tomatoes\n",
        "  2. Potatoes\n",
        "  3. ...\n",
        "5. **Greenhouse:**\n",
        "  1. **No:** Not used\n",
        "  2. **Small tunel:** A tunnel that's small in width but high in length\n",
        "  3. **Big Tunel:** A tunnel that's high in width but small in length\n",
        "  4. **Canarian:** A structure made of only wires and films\n",
        "  5. **Multi-chapel:** Greenhouse with more than one chapel (curve)\n",
        "\n",
        "6. **Field area:**\n",
        "  - Planted field area in Ha (Hectares)\n",
        "\n",
        "\n"
      ],
      "metadata": {
        "id": "bdgp0ZzNfO_0"
      },
      "id": "bdgp0ZzNfO_0"
    },
    {
      "cell_type": "code",
      "execution_count": null,
      "id": "3f2518fe-8905-4b4e-ae7d-a899809513fa",
      "metadata": {
        "id": "3f2518fe-8905-4b4e-ae7d-a899809513fa"
      },
      "outputs": [],
      "source": [
        "# Import necessary packages\n",
        "import numpy as np\n",
        "import pandas as pd\n",
        "import matplotlib.pyplot as plt\n",
        "import seaborn as sns\n",
        "# import altair as alt (Graphs look better in quality than matplotlib)\n",
        "import random\n",
        "import math"
      ]
    },
    {
      "cell_type": "code",
      "execution_count": null,
      "id": "4ac54546-aeb2-4995-a88e-a3b32ef2e4a8",
      "metadata": {
        "id": "4ac54546-aeb2-4995-a88e-a3b32ef2e4a8",
        "collapsed": true
      },
      "outputs": [],
      "source": [
        "# Import your data.\n",
        "# Add an argument specifying the index column so it doesn't get treated as a numerical variable\n",
        "df=pd.read_excel('Sampling Frame dataset.xlsx')"
      ]
    },
    {
      "cell_type": "code",
      "execution_count": null,
      "id": "10511953-1d3b-4ea1-8abd-1c4d15ed859a",
      "metadata": {
        "id": "10511953-1d3b-4ea1-8abd-1c4d15ed859a"
      },
      "outputs": [],
      "source": [
        "# Check variable types and null values\n",
        "# Read the variable descriptions well and fill the null values adequately"
      ]
    },
    {
      "cell_type": "markdown",
      "source": [
        "Describe your numerical variable (Field_area)"
      ],
      "metadata": {
        "id": "-Yx6YEfNJLBr"
      },
      "id": "-Yx6YEfNJLBr"
    },
    {
      "cell_type": "code",
      "execution_count": null,
      "id": "ed02f3e8-53d1-4839-868e-42067e310095",
      "metadata": {
        "id": "ed02f3e8-53d1-4839-868e-42067e310095"
      },
      "outputs": [],
      "source": [
        "# What is the average, minimum and maximum area planted ?\n",
        "# Is the distribution of the area planted equal across the whole population ?\n",
        "# What is the percentage of farmers holding 80% of the total area planted ?\n",
        "\n",
        "# Visualize your findings"
      ]
    },
    {
      "cell_type": "markdown",
      "source": [
        "Describe your categorial variables"
      ],
      "metadata": {
        "id": "gKvy9cpYJOrg"
      },
      "id": "gKvy9cpYJOrg"
    },
    {
      "cell_type": "code",
      "source": [
        "# How many times does each category occur in each variable ?\n",
        "# How much percentage does each category take in its variable ?\n",
        "\n",
        "# Visualize your findings"
      ],
      "metadata": {
        "id": "OzGWXQt-Jn3n"
      },
      "id": "OzGWXQt-Jn3n",
      "execution_count": null,
      "outputs": []
    },
    {
      "cell_type": "markdown",
      "source": [
        "Dig deeper into the data"
      ],
      "metadata": {
        "id": "314XRaGeKvdd"
      },
      "id": "314XRaGeKvdd"
    },
    {
      "cell_type": "code",
      "source": [
        "# Which crop has the highest Field area ?\n",
        "# Are the numbers of farmers planting the same crops correlated to the sum of their planted area ?\n",
        "# Is the Production mode used the same for the same crops ?\n",
        "# Is the Irrigation mode used the same for the same crop ?\n",
        "# Who uses Green houses and who doesn't ?\n",
        "# Which crops are relying only on rain ?\n",
        "# Does the Irrigation mode impact the planted area ?\n",
        "\n",
        "\n",
        "\n",
        "# Vizualize these findings. Unleash your imagination to come up with more interesting questions"
      ],
      "metadata": {
        "id": "bFxVmMplKnln"
      },
      "id": "bFxVmMplKnln",
      "execution_count": null,
      "outputs": []
    },
    {
      "cell_type": "markdown",
      "id": "8b38d5cb-574b-48e1-83dd-943af03684ff",
      "metadata": {
        "id": "8b38d5cb-574b-48e1-83dd-943af03684ff"
      },
      "source": [
        "# Sampling"
      ]
    },
    {
      "cell_type": "markdown",
      "source": [
        "Determining an accurate sample size is an intermediate and very detailed field in statistics. However if you would like to specify your own please do. <br>\n",
        "To start with the sampling immediately please use **200 observations** for all samples"
      ],
      "metadata": {
        "id": "JvcM1PuTPB7U"
      },
      "id": "JvcM1PuTPB7U"
    },
    {
      "cell_type": "markdown",
      "source": [
        "Create functions for each sampling method. <br>\n",
        "If it's easier to sample without using functions you can also do that"
      ],
      "metadata": {
        "id": "y2lN0wflM6pM"
      },
      "id": "y2lN0wflM6pM"
    },
    {
      "cell_type": "code",
      "execution_count": null,
      "id": "9db6c8ac-752a-47d6-893e-4ed5e3013c36",
      "metadata": {
        "id": "9db6c8ac-752a-47d6-893e-4ed5e3013c36"
      },
      "outputs": [],
      "source": [
        "# Simple Random Sampling\n",
        "def random_sampling(df, vector):\n",
        "    ... # Fill me in!\n",
        "\n",
        "# Systematic Sampling\n",
        "def systematic_sampling(df, step):\n",
        "    ... # Fill me in!\n",
        "\n",
        "# Replicated Sampling\n",
        "def replicated_sampling(df, step, vector):\n",
        "    ... # Fill me in!\n",
        "\n",
        "\n",
        "# Probability Proportional to Size Sampling\n",
        "def pps_sampling()):\n",
        "    ... # Fill me in!\n",
        "\n",
        "# Stratified Sampling\n",
        "def stratified_sampling():\n",
        "    ... # Fill me in!"
      ]
    },
    {
      "cell_type": "markdown",
      "source": [
        "**Simple Random Sampling:**\n",
        "This takes a totally random sample from the population. You should run this at least 3 times and compare the 3 against each other. You can also shuffle and sort the population as you run this sample. If you get consistent results it's a good sign.\n",
        "\n",
        "**Systematic Sampling:**\n",
        "This follows a *step* while sampling and skips rows equally.\n",
        "$step =  \\frac{N}{n}$ where $N$ is the Population size and $n$ the sample size. <br>\n",
        "This should also be implemented at least a second time by starting from the second row (0,4,8,...) and then (1,5,9,...). You can also shuffle and sort as mentioned above.\n",
        "\n",
        "**Replicated Sampling:**\n",
        "This combines both Random and Systematic sampling. Take equal samples of 100 each using each method and combine them. Do NOT take unequal samples, that's for the next sampling type.\n",
        "\n",
        "**Stratified Sampling:**\n",
        "A bit more advanced. With this method you choose a measure of size for one of your numerical variables. We recommend using the median. You then split the population into two subsets; one containing rows lower than the median and the other the rows higher or equal to the median. You will take samples from each following this formula:\n",
        "\n",
        "$ns_{h} = n \\frac{C_{h} X_h^q}{\\sum_{h}C_{h} X_h^q}$  with $q=\\frac{1}{2}$ and $C_{h}=\\frac{S_{h}}{\\bar{Y_{h}}}$\n",
        "\n",
        "Where:\n",
        "- $h$= ID of the dataset (1 or 2) <br>\n",
        "- $n$ = Sample size (200) <br>\n",
        "- $S$ = Standard deviation of your numerical variable in that specific data subset (Careful you will have two, $S_1$ and $S_2$) <br>\n",
        "- $\\bar{Y}$ = Mean of your numerical variable in that data subset (you will have two, $Y_1$ and $Y_2$) <br>\n",
        "- $X$ = Median of your numerical variable in that data subset (you will have two, $X_1$ and $X_2$) <br>\n",
        "\n",
        "In the end you will have two new \"mini sample sizes\" $ns_1$ and $ns_2$ that add up to $n$. Extract a random sample from each subset using its respective mini sample size and combine both in one dataframe. Your stratified sample is now ready !\n",
        "\n",
        "**Probability Proportional to Size Sampling (PPS):**\n",
        "This one is the most advanced (more than stratified) and cannot be explained in one page. We count on you to refer to this <a href=\"https://cdn.who.int/media/docs/default-source/hq-tuberculosis/global-task-force-on-tb-impact-measurement/meetings/2008-03/p20_probability_proportional_to_size.pdf?sfvrsn=51372782_3\">document</a>  to grasp the concept and implement it !\n"
      ],
      "metadata": {
        "id": "XXKHrvbSO-i8"
      },
      "id": "XXKHrvbSO-i8"
    },
    {
      "cell_type": "markdown",
      "source": [
        "**Analyze all samples**"
      ],
      "metadata": {
        "id": "4cQ6FW9xap_Q"
      },
      "id": "4cQ6FW9xap_Q"
    },
    {
      "cell_type": "markdown",
      "id": "bbf98847-0803-42b0-8b93-40939fcfb589",
      "metadata": {
        "id": "bbf98847-0803-42b0-8b93-40939fcfb589"
      },
      "source": [
        "- Were the results consistent when you implemented random sampling 3 times ? For eg, did your numerical variable still follow the same distribution ?\n",
        "- Were any crops nonexistent in the samples ?\n",
        "\n",
        "- Plot 6 distributions of your numerical variable next to each other or on the same graph, 5 for each sampling frame and one for the population.\n",
        "\n",
        "- Create a table where you compare your numerical variable characteristics against the same from other samples. For example, divide all sample means, medians and standard deviations by the population mean, median and standard deviation. The closest the division is to 1 the better the sample.\n",
        "\n",
        "- Plot the percentage each crop takes in dataset 6 times, 5 for each sampling frame and one for the population as mentioned above.\n",
        "\n",
        "**Answer the same questions you have answered earlier to analyze the samples and compare all the results. It is a lengthy exercise but extremely important. Determine which sampling method displays an accurate representation of the population.**\n",
        "\n"
      ]
    },
    {
      "cell_type": "markdown",
      "id": "4c821679-f049-4168-8b02-75c8f64e7452",
      "metadata": {
        "id": "4c821679-f049-4168-8b02-75c8f64e7452"
      },
      "source": [
        "# Inference"
      ]
    },
    {
      "cell_type": "markdown",
      "id": "0018029a-5cb4-4bd1-97ca-9e6d0023736c",
      "metadata": {
        "id": "0018029a-5cb4-4bd1-97ca-9e6d0023736c"
      },
      "source": [
        "Inference as a definition is straightforward. Create a population from each sample method. For clarity we'll provide the following example :"
      ]
    },
    {
      "cell_type": "markdown",
      "id": "f3eab8b6-bdd1-4500-b5b0-578095ba4514",
      "metadata": {
        "id": "f3eab8b6-bdd1-4500-b5b0-578095ba4514"
      },
      "source": [
        "Since we took a random sample of $200$ of the population, If we have for eg $100$ farmers planting potatoes in the sample, it would probably be $100*\\frac{606}{200} = 303$ for the population, where 606 is the population size and 200 the sample size"
      ]
    },
    {
      "cell_type": "code",
      "execution_count": null,
      "id": "36e5ba06-8ee1-4457-9768-d608f2c14c84",
      "metadata": {
        "id": "36e5ba06-8ee1-4457-9768-d608f2c14c84"
      },
      "outputs": [],
      "source": [
        "P = len(df)/len(df_random)\n",
        "Estimated_Population_Crop = df_random.Crop.value_counts() * P"
      ]
    },
    {
      "cell_type": "markdown",
      "source": [
        "- Carry out this same operation for all variables in all of the samples you took and compare them against the original population.\n",
        "\n",
        "- Note: Random, Systematic and Replicated sampling use the same Inference method ( multiply by a probability of $\\frac{N}{n}$ as mentioned above). This means that all 606 farmers have the same weight in the population. For Stratified and PPS sampling you **CANNOT** use the same method, you will use at least 2 different probabilities to form a population of the same size as the original. **Hint:** Try to exactly reverse gear the sampling process using the same mini sample sizes you used."
      ],
      "metadata": {
        "id": "aUkjNnRMishM"
      },
      "id": "aUkjNnRMishM"
    },
    {
      "cell_type": "markdown",
      "id": "58608ecf-db91-4cf4-b029-922ab85f5c48",
      "metadata": {
        "id": "58608ecf-db91-4cf4-b029-922ab85f5c48"
      },
      "source": [
        "# Dimensionality Reduction & Factor Analysis"
      ]
    },
    {
      "cell_type": "markdown",
      "source": [
        "**Note:** The following sections can be implemented with Python, but R may be even more suitable. Btw the debate between Python vs. R is fake! Python are R are good for different things and data analysts and data scientists often use both.\n",
        "\n",
        "Before you start, download [this file](https://drive.google.com/file/d/1VEUl4AqmvgqtPGGcnMxXE6E81tvNn3C4/view?usp=share_link) and read the entire analysis with interpretations. It's a simple analysis in R but the goal is not to understand the syntax if you will use Python, but the **graphs and conclusions** associated with each one."
      ],
      "metadata": {
        "id": "BWQCfl6Sl9D0"
      },
      "id": "BWQCfl6Sl9D0"
    },
    {
      "cell_type": "markdown",
      "id": "d34fc5aa-78bb-4b85-b6a0-228f4b4c5c82",
      "metadata": {
        "id": "d34fc5aa-78bb-4b85-b6a0-228f4b4c5c82"
      },
      "source": [
        "- Use **Multiple Correspondence Analysis (MCA)** to plot all 6 variables on a 2D plot. This is called Dimensionality reduction and it allows us to group individuals with similar profiles and check associations between variable categories.\n"
      ]
    },
    {
      "cell_type": "code",
      "source": [
        "# Convert your numerical variable (Field_area) to a categorial variable\n",
        "# Create intervals based on the variable's distribution\n",
        "\n",
        "V = []\n",
        "for i in range(0,len(df.Field_area)):\n",
        "  if df.Field_area[i] >= X and < Y :\n",
        "    # ... Fill me in!"
      ],
      "metadata": {
        "id": "6hTeEZY1qLUS"
      },
      "id": "6hTeEZY1qLUS",
      "execution_count": null,
      "outputs": []
    },
    {
      "cell_type": "markdown",
      "source": [
        "- Plot the MCA graph and be **descriptive** in your interpretations ! Which variables are closest to each other ? Which variable categories are closest to each other ? What does it mean ? For example, are farmers more likely to use the same production and irrigation modes if they plant the same or similar crops ?"
      ],
      "metadata": {
        "id": "cH5ixFS2suWJ"
      },
      "id": "cH5ixFS2suWJ"
    },
    {
      "cell_type": "markdown",
      "source": [
        "# Clustering"
      ],
      "metadata": {
        "id": "oFY1RKQdomW6"
      },
      "id": "oFY1RKQdomW6"
    },
    {
      "cell_type": "markdown",
      "source": [
        "Start with **Ascending Hierarchical Clustering (AHC) to cluster individual farmers**. Your goal is to cluster farmers in similar groups using a **Dendrogram**. Please refer to the tutorial above for context. You will use the Individuals' coordinates on the MCA's axes to plot this."
      ],
      "metadata": {
        "id": "iZlHVnHCuB5_"
      },
      "id": "iZlHVnHCuB5_"
    },
    {
      "cell_type": "markdown",
      "source": [
        "Example of Dendrogram clustering US states from online.visual-paradigm.com. Your graph should end with 606 leaves (ends of Dendrogram) ![image.png](https://online.visual-paradigm.com/repository/images/0fe81efd-c6f6-41af-98d5-d9b1f0d33f2f.png)\n"
      ],
      "metadata": {
        "id": "bkDcwuFaujo_"
      },
      "id": "bkDcwuFaujo_"
    },
    {
      "cell_type": "markdown",
      "source": [
        "Finish the analysis with **k-means clustering to cluster variables and their categories.** You will use the variables' coordinates on the MCA's axes to plot this. The Dendogram clusters individuals into groups automatically. In k-means we need to specify the number of clusters before creating the chart. This number of clusters is why we start with the Dendogram (In the above example it's 4 clusters).\n",
        "Using the number you find create a k-means chart ! Be **descriptive** in your interpretation."
      ],
      "metadata": {
        "id": "R3FDeClewfKZ"
      },
      "id": "R3FDeClewfKZ"
    },
    {
      "cell_type": "markdown",
      "source": [
        "# Go Beyond Plus Ultra !"
      ],
      "metadata": {
        "id": "R7ZITnhhxvjg"
      },
      "id": "R7ZITnhhxvjg"
    },
    {
      "cell_type": "markdown",
      "source": [
        "- Create a Dendogram for each sampling frame. Check if the individuals clustered in the sample are in the same group compared to the previous section on the population.\n",
        "\n",
        "- Check the same for the variables and categories clustered.\n",
        "\n",
        "- Does this align with your Sampling & Inference analysis on the best sampling frame ?\n",
        "\n",
        "- Summarize all findings to your stakeholder (Dashboard)"
      ],
      "metadata": {
        "id": "rChNwpK3x5s3"
      },
      "id": "rChNwpK3x5s3"
    },
    {
      "cell_type": "markdown",
      "source": [
        "<img src=\"https://i.pinimg.com/736x/f0/4a/08/f04a08853d407a93e6a06f1ce10c8173--poetry-inspiration-top-hats.jpg\">"
      ],
      "metadata": {
        "id": "O7QoCGPM5wpH"
      },
      "id": "O7QoCGPM5wpH"
    }
  ],
  "metadata": {
    "kernelspec": {
      "display_name": "Python 3 (ipykernel)",
      "language": "python",
      "name": "python3"
    },
    "language_info": {
      "codemirror_mode": {
        "name": "ipython",
        "version": 3
      },
      "file_extension": ".py",
      "mimetype": "text/x-python",
      "name": "python",
      "nbconvert_exporter": "python",
      "pygments_lexer": "ipython3",
      "version": "3.9.12"
    },
    "colab": {
      "provenance": []
    }
  },
  "nbformat": 4,
  "nbformat_minor": 5
}