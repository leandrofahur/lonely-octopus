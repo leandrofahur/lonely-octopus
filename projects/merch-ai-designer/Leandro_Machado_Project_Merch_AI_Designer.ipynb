{
  "nbformat": 4,
  "nbformat_minor": 0,
  "metadata": {
    "colab": {
      "provenance": []
    },
    "kernelspec": {
      "name": "python3",
      "display_name": "Python 3"
    },
    "language_info": {
      "name": "python"
    }
  },
  "cells": [
    {
      "cell_type": "markdown",
      "source": [
        "<img style=\"display: block; margin: 0 auto\" src=\"https://images.squarespace-cdn.com/content/v1/645a878d9740963714b8f343/3efb24e3-9fb9-4bc7-b41e-7f36742ae747/2-2.jpg?format=1500w\" alt=\"Lonely Octopus Logo\">"
      ],
      "metadata": {
        "id": "40UR89xl3xvS"
      }
    },
    {
      "cell_type": "markdown",
      "source": [
        "**Please create a copy of the notebook in your gdrive to be able to edit it.**\n",
        "\n",
        "**You can make a copy from the menu: File > Save a copy in Drive**"
      ],
      "metadata": {
        "id": "mONXzhVP3zkh"
      }
    },
    {
      "cell_type": "markdown",
      "source": [
        "## Step 1: Setting Up Your Notebook Environment"
      ],
      "metadata": {
        "id": "64nyV8eokdWq"
      }
    },
    {
      "cell_type": "code",
      "source": [
        "# Intall necessary libraries\n",
        "!pip install openai --quiet\n",
        "!pip install streamlit --quiet"
      ],
      "metadata": {
        "id": "JeH78NzAkcG7",
        "colab": {
          "base_uri": "https://localhost:8080/"
        },
        "outputId": "78950da5-7bd9-41bf-f1e7-1a7c596729a8"
      },
      "execution_count": 8,
      "outputs": [
        {
          "output_type": "stream",
          "name": "stdout",
          "text": [
            "\u001b[2K     \u001b[90m━━━━━━━━━━━━━━━━━━━━━━━━━━━━━━━━━━━━━━━━\u001b[0m \u001b[32m8.1/8.1 MB\u001b[0m \u001b[31m23.6 MB/s\u001b[0m eta \u001b[36m0:00:00\u001b[0m\n",
            "\u001b[2K     \u001b[90m━━━━━━━━━━━━━━━━━━━━━━━━━━━━━━━━━━━━━━━━\u001b[0m \u001b[32m207.3/207.3 kB\u001b[0m \u001b[31m19.5 MB/s\u001b[0m eta \u001b[36m0:00:00\u001b[0m\n",
            "\u001b[2K     \u001b[90m━━━━━━━━━━━━━━━━━━━━━━━━━━━━━━━━━━━━━━━━\u001b[0m \u001b[32m5.8/5.8 MB\u001b[0m \u001b[31m63.0 MB/s\u001b[0m eta \u001b[36m0:00:00\u001b[0m\n",
            "\u001b[2K     \u001b[90m━━━━━━━━━━━━━━━━━━━━━━━━━━━━━━━━━━━━━━━━\u001b[0m \u001b[32m83.0/83.0 kB\u001b[0m \u001b[31m11.1 MB/s\u001b[0m eta \u001b[36m0:00:00\u001b[0m\n",
            "\u001b[2K     \u001b[90m━━━━━━━━━━━━━━━━━━━━━━━━━━━━━━━━━━━━━━━━\u001b[0m \u001b[32m62.7/62.7 kB\u001b[0m \u001b[31m7.9 MB/s\u001b[0m eta \u001b[36m0:00:00\u001b[0m\n",
            "\u001b[?25h"
          ]
        }
      ]
    },
    {
      "cell_type": "markdown",
      "source": [
        "## Step 2: Set Up OpenAI API Key"
      ],
      "metadata": {
        "id": "RAeMvyWWlEYj"
      }
    },
    {
      "cell_type": "markdown",
      "source": [
        "Please reach out to admins to receive your OpenAI API key"
      ],
      "metadata": {
        "id": "V5Jsd1wQlHKx"
      }
    },
    {
      "cell_type": "code",
      "source": [
        "# Import necessary libraries\n",
        "import openai\n",
        "from getpass import getpass"
      ],
      "metadata": {
        "id": "P51sSxogksza"
      },
      "execution_count": 2,
      "outputs": []
    },
    {
      "cell_type": "code",
      "source": [
        "# Securely input your OpenAI API key\n",
        "api_key = getpass(\"Enter your OpenAI API Key: \")\n",
        "client = openai.OpenAI(api_key=api_key)"
      ],
      "metadata": {
        "id": "nhCPWRzilJsK",
        "colab": {
          "base_uri": "https://localhost:8080/"
        },
        "outputId": "74484813-9e18-40d8-f614-65b104895a42"
      },
      "execution_count": 3,
      "outputs": [
        {
          "name": "stdout",
          "output_type": "stream",
          "text": [
            "Enter your OpenAI API Key: ··········\n"
          ]
        }
      ]
    },
    {
      "cell_type": "markdown",
      "source": [
        "## Step 3: Writting the prompt for the image"
      ],
      "metadata": {
        "id": "hsidPipslf9R"
      }
    },
    {
      "cell_type": "code",
      "source": [
        "# Input field for the prompt\n",
        "image_description = input(\"Describe the image you'd like to generate here: \")"
      ],
      "metadata": {
        "id": "OkJW-4xrlVzY",
        "colab": {
          "base_uri": "https://localhost:8080/"
        },
        "outputId": "d9899f95-458c-41bf-ea78-f54e08814b69"
      },
      "execution_count": 4,
      "outputs": [
        {
          "name": "stdout",
          "output_type": "stream",
          "text": [
            "Describe the image you'd like to generate here: A red hair japanese woman wearing a kimono.\n"
          ]
        }
      ]
    },
    {
      "cell_type": "markdown",
      "source": [
        "## Step 4: Processing the Inputs with OpenAI"
      ],
      "metadata": {
        "id": "7sAgpYFUmDHK"
      }
    },
    {
      "cell_type": "code",
      "source": [
        "response = client.images.generate(\n",
        "  model=\"dall-e-3\",\n",
        "  prompt=image_description,\n",
        "  size=\"1024x1024\",\n",
        "  quality=\"standard\",\n",
        "  n=1,\n",
        ")\n",
        "\n",
        "image_url = response.data[0].url"
      ],
      "metadata": {
        "id": "tTVT_Z-yl2-b"
      },
      "execution_count": 5,
      "outputs": []
    },
    {
      "cell_type": "code",
      "source": [
        "image_url"
      ],
      "metadata": {
        "id": "GebSQOB5mndn",
        "colab": {
          "base_uri": "https://localhost:8080/",
          "height": 89
        },
        "outputId": "40028287-5092-4360-e3a9-8d8a47bf2d89"
      },
      "execution_count": 6,
      "outputs": [
        {
          "output_type": "execute_result",
          "data": {
            "text/plain": [
              "'https://oaidalleapiprodscus.blob.core.windows.net/private/org-3XPg2Sv7VXS6HneVIu66O8OE/user-r285ydAVJRDA8FSDN68rSx2L/img-p4f0FiWWvgXz8RfwOHcPeswN.png?st=2024-04-28T20%3A47%3A19Z&se=2024-04-28T22%3A47%3A19Z&sp=r&sv=2021-08-06&sr=b&rscd=inline&rsct=image/png&skoid=6aaadede-4fb3-4698-a8f6-684d7786b067&sktid=a48cca56-e6da-484e-a814-9c849652bcb3&skt=2024-04-28T19%3A33%3A09Z&ske=2024-04-29T19%3A33%3A09Z&sks=b&skv=2021-08-06&sig=ntfuzi90ey%2B4tqDCGgt/AF9uB8HzzmJ0mHbnnmH6ZZI%3D'"
            ],
            "application/vnd.google.colaboratory.intrinsic+json": {
              "type": "string"
            }
          },
          "metadata": {},
          "execution_count": 6
        }
      ]
    },
    {
      "cell_type": "code",
      "source": [
        "from IPython.display import Image, display\n",
        "\n",
        "# Create an Image instance with the URL\n",
        "image = Image(url=image_url)\n",
        "\n",
        "# Display the image\n",
        "display(image)"
      ],
      "metadata": {
        "id": "4YXAhmTDm9LI",
        "colab": {
          "base_uri": "https://localhost:8080/",
          "height": 1000
        },
        "outputId": "2541bfb1-cac6-4044-bf73-fbe8700adef9"
      },
      "execution_count": 7,
      "outputs": [
        {
          "output_type": "display_data",
          "data": {
            "text/html": [
              "<img src=\"https://oaidalleapiprodscus.blob.core.windows.net/private/org-3XPg2Sv7VXS6HneVIu66O8OE/user-r285ydAVJRDA8FSDN68rSx2L/img-p4f0FiWWvgXz8RfwOHcPeswN.png?st=2024-04-28T20%3A47%3A19Z&se=2024-04-28T22%3A47%3A19Z&sp=r&sv=2021-08-06&sr=b&rscd=inline&rsct=image/png&skoid=6aaadede-4fb3-4698-a8f6-684d7786b067&sktid=a48cca56-e6da-484e-a814-9c849652bcb3&skt=2024-04-28T19%3A33%3A09Z&ske=2024-04-29T19%3A33%3A09Z&sks=b&skv=2021-08-06&sig=ntfuzi90ey%2B4tqDCGgt/AF9uB8HzzmJ0mHbnnmH6ZZI%3D\"/>"
            ],
            "text/plain": [
              "<IPython.core.display.Image object>"
            ]
          },
          "metadata": {}
        }
      ]
    },
    {
      "cell_type": "markdown",
      "source": [
        "## Step 5: Building a streamlit web application"
      ],
      "metadata": {
        "id": "gqYe9PX7n4CL"
      }
    },
    {
      "cell_type": "markdown",
      "source": [
        "If you're new to Streamlit, please make sure you have attended the live workshop or completed the [Interactive Practice Notebook](https://colab.research.google.com/drive/1avYMd3HVBmCJjCEuOaIC4_z4zXg00CtH?usp=sharing) before starting."
      ],
      "metadata": {
        "id": "-jmLAIF9n7Ma"
      }
    },
    {
      "cell_type": "code",
      "source": [
        "# Step 1: Setting Up Streamlit\n",
        "# First, ensure Streamlit is installed in your environment. If not, you can install it using pip:\n",
        "# pip install streamlit\n",
        "\n",
        "# Step 2: Designing the UI Layout\n",
        "# Use Streamlit functions to create the UI components for your application.\n",
        "\n",
        "# Title for your app\n",
        "# st.title('Merch AI Designer: Revolutionizing Merchandise Creation')\n",
        "\n",
        "# Step 3: Use Streamlit's sidebar for user input to keep the main area for displaying results and images.\n",
        "\n",
        "# Step 4: User Inputs - Create input areas for users to submit their merchandise description and select merchandise type.\n",
        "# description_input = Prompt goes here\n",
        "# merch_type = T-Shirt, Mug, Poster, Tote Bag, ..\n",
        "\n",
        "# Step 5: Submit Button\n",
        "# submit_button = st.sidebar.button('Generate Design')\n",
        "\n",
        "# Step 6: Processing User Inputs\n",
        "# if submit_button:\n",
        "    # Call the DALL-E API processing function\n",
        "    # generated_image = generate_merch_design(description_input, merch_type)\n",
        "\n",
        "    # Display the generated image\n",
        "    # st.image(generated_image, caption=f'Your Custom {merch_type}')\n",
        "\n",
        "# Step 7: Running Your Streamlit App\n",
        "# Save this script as a .py file, e.g., merch_ai_designer.py\n",
        "# Run your Streamlit app using the command: streamlit run merch_ai_designer.py\n",
        "# Streamlit will start a local server, and you can interact with your app in a web browser."
      ],
      "metadata": {
        "id": "IavluGvinwdA",
        "colab": {
          "base_uri": "https://localhost:8080/"
        },
        "outputId": "d310c661-2a36-427a-ce7d-538d9eb49284"
      },
      "execution_count": 9,
      "outputs": [
        {
          "output_type": "stream",
          "name": "stderr",
          "text": [
            "2024-04-28 21:48:59.914 \n",
            "  \u001b[33m\u001b[1mWarning:\u001b[0m to view this Streamlit app on a browser, run it with the following\n",
            "  command:\n",
            "\n",
            "    streamlit run /usr/local/lib/python3.10/dist-packages/colab_kernel_launcher.py [ARGUMENTS]\n"
          ]
        },
        {
          "output_type": "execute_result",
          "data": {
            "text/plain": [
              "DeltaGenerator()"
            ]
          },
          "metadata": {},
          "execution_count": 9
        }
      ]
    },
    {
      "cell_type": "markdown",
      "source": [
        "## Step 6 (Optional): Enhance your web app and add more features"
      ],
      "metadata": {
        "id": "ysdouJ-Epq9a"
      }
    },
    {
      "cell_type": "code",
      "source": [
        "# Step 8: Iterating on the Design\n",
        "# Experiment with different UI layouts, add more user input options, or integrate new features to enhance your app.\n",
        "# Create a function that would allow the user to iterate on the generated image and edit it in one smooth process"
      ],
      "metadata": {
        "id": "QdPCpQTqpreH"
      },
      "execution_count": null,
      "outputs": []
    },
    {
      "cell_type": "markdown",
      "source": [
        "## Step 7: Share your app in the Lonely Octopus and with the world on LinkedIn!!"
      ],
      "metadata": {
        "id": "RDwoSgq3p9zg"
      }
    },
    {
      "cell_type": "markdown",
      "source": [
        "<img src=\"https://i.pinimg.com/736x/f0/4a/08/f04a08853d407a93e6a06f1ce10c8173--poetry-inspiration-top-hats.jpg\">"
      ],
      "metadata": {
        "id": "C6J8oEJZqANa"
      }
    }
  ]
}