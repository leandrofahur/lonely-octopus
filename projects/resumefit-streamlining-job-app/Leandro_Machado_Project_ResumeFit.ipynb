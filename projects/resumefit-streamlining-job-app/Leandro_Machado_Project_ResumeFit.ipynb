{
  "nbformat": 4,
  "nbformat_minor": 0,
  "metadata": {
    "colab": {
      "provenance": []
    },
    "kernelspec": {
      "name": "python3",
      "display_name": "Python 3"
    },
    "language_info": {
      "name": "python"
    }
  },
  "cells": [
    {
      "cell_type": "markdown",
      "source": [
        "<img style=\"display: block; margin: 0 auto\" src=\"https://images.squarespace-cdn.com/content/v1/645a878d9740963714b8f343/3efb24e3-9fb9-4bc7-b41e-7f36742ae747/2-2.jpg?format=1500w\" alt=\"Lonely Octopus Logo\">"
      ],
      "metadata": {
        "id": "PKrkCWB7kysy"
      }
    },
    {
      "cell_type": "markdown",
      "source": [
        "**Please create a copy of the notebook in your gdrive to be able to edit it.**\n",
        "\n",
        "**You can make a copy from the menu: File > Save a copy in Drive**"
      ],
      "metadata": {
        "id": "eO_kCtw0kwoz"
      }
    },
    {
      "cell_type": "markdown",
      "source": [
        "## Step 1: Setting Up Your Notebook Environment"
      ],
      "metadata": {
        "id": "FKs4JfhMw0hm"
      }
    },
    {
      "cell_type": "code",
      "source": [
        "# Intall necessary libraries\n",
        "!pip install openai --quiet\n",
        "!pip install streamlit --quiet"
      ],
      "metadata": {
        "id": "AjzvlMHjoFjG",
        "colab": {
          "base_uri": "https://localhost:8080/"
        },
        "outputId": "22e717cb-1391-46f6-8764-de00c4412c1d"
      },
      "execution_count": 11,
      "outputs": [
        {
          "output_type": "stream",
          "name": "stdout",
          "text": [
            "\u001b[2K     \u001b[90m━━━━━━━━━━━━━━━━━━━━━━━━━━━━━━━━━━━━━━━━\u001b[0m \u001b[32m8.1/8.1 MB\u001b[0m \u001b[31m21.8 MB/s\u001b[0m eta \u001b[36m0:00:00\u001b[0m\n",
            "\u001b[2K     \u001b[90m━━━━━━━━━━━━━━━━━━━━━━━━━━━━━━━━━━━━━━━━\u001b[0m \u001b[32m207.3/207.3 kB\u001b[0m \u001b[31m19.7 MB/s\u001b[0m eta \u001b[36m0:00:00\u001b[0m\n",
            "\u001b[2K     \u001b[90m━━━━━━━━━━━━━━━━━━━━━━━━━━━━━━━━━━━━━━━━\u001b[0m \u001b[32m5.8/5.8 MB\u001b[0m \u001b[31m48.7 MB/s\u001b[0m eta \u001b[36m0:00:00\u001b[0m\n",
            "\u001b[2K     \u001b[90m━━━━━━━━━━━━━━━━━━━━━━━━━━━━━━━━━━━━━━━━\u001b[0m \u001b[32m83.0/83.0 kB\u001b[0m \u001b[31m8.5 MB/s\u001b[0m eta \u001b[36m0:00:00\u001b[0m\n",
            "\u001b[2K     \u001b[90m━━━━━━━━━━━━━━━━━━━━━━━━━━━━━━━━━━━━━━━━\u001b[0m \u001b[32m62.7/62.7 kB\u001b[0m \u001b[31m7.3 MB/s\u001b[0m eta \u001b[36m0:00:00\u001b[0m\n",
            "\u001b[?25h"
          ]
        }
      ]
    },
    {
      "cell_type": "markdown",
      "source": [
        "## Step 2: Set Up OpenAI API Key"
      ],
      "metadata": {
        "id": "zWtmlgQVw8SD"
      }
    },
    {
      "cell_type": "markdown",
      "source": [
        "Please reach out to admins to receive your OpenAI API key"
      ],
      "metadata": {
        "id": "ct_JAP_c1fvL"
      }
    },
    {
      "cell_type": "code",
      "execution_count": 2,
      "metadata": {
        "id": "OzQ2PDjCkQmk"
      },
      "outputs": [],
      "source": [
        "# Import necessary libraries\n",
        "import openai\n",
        "from getpass import getpass"
      ]
    },
    {
      "cell_type": "code",
      "source": [
        "# Securely input your OpenAI API key\n",
        "api_key = getpass(\"Enter your OpenAI API Key: \")\n",
        "client = openai.OpenAI(api_key=api_key)\n",
        "openai.api_key=api_key"
      ],
      "metadata": {
        "id": "htwrnq5YoEVx",
        "colab": {
          "base_uri": "https://localhost:8080/"
        },
        "outputId": "df3b0daf-8024-4fab-8a61-9c492df34faa"
      },
      "execution_count": 3,
      "outputs": [
        {
          "name": "stdout",
          "output_type": "stream",
          "text": [
            "Enter your OpenAI API Key: ··········\n"
          ]
        }
      ]
    },
    {
      "cell_type": "markdown",
      "source": [
        "## Step 3: User Inputs for Resume and Job Description\n"
      ],
      "metadata": {
        "id": "PhguiZ-SxHx8"
      }
    },
    {
      "cell_type": "code",
      "source": [
        "# Input field for the resume\n",
        "resume_text = input(\"Paste your resume here: \")\n",
        "\n",
        "# Input field for the job description\n",
        "job_description_text = input(\"Paste the job description here: \")"
      ],
      "metadata": {
        "id": "1m4F3RQMoWlC",
        "colab": {
          "base_uri": "https://localhost:8080/"
        },
        "outputId": "c06c0b20-0f59-403f-bc45-0561aae3d996"
      },
      "execution_count": 4,
      "outputs": [
        {
          "name": "stdout",
          "output_type": "stream",
          "text": [
            "Paste your resume here: A\n",
            "Paste the job description here: B\n"
          ]
        }
      ]
    },
    {
      "cell_type": "markdown",
      "source": [
        "## Step 4: Processing the Inputs with OpenAI"
      ],
      "metadata": {
        "id": "ffufOS5ZxMzF"
      }
    },
    {
      "cell_type": "code",
      "source": [
        "# Step 1: Understanding the Problem\n",
        "# Before writing the function, understand that the goal is to compare a resume against a job description.\n",
        "# This involves identifying skills and qualifications in both texts, comparing them, and estimating how qualified the individual is for the job.\n",
        "\n",
        "# Step 2: Crafting the Prompt\n",
        "# The success of this function largely depends on how well you craft the prompt for the AI.\n",
        "# A good prompt should clearly instruct the AI on what to do, in this case, to analyze both texts, identify skills and qualifications, compare them, and estimate a qualification percentage.\n",
        "\n",
        "# Example prompt structure (this is just a guideline; please make sure to craft you prompt based on your specific needs):\n",
        "# \"\"\"\n",
        "# Given the following resume and job description, identify the skills and qualifications from both.\n",
        "# Then, compare them to determine any skill gaps and estimate how qualified the individual is for the job, providing a percentage.\n",
        "# \"\"\"\n",
        "\n",
        "# Step 3: Implementing the Function\n",
        "# Define the function compare_resume_to_job_description with resume_text and job_description_text as parameters.\n",
        "\n",
        "# Inside the function:\n",
        "# - Prepare the prompt that includes both the resume and job description texts.\n",
        "# - Use the client to send this prompt to the OpenAI API, specifying the model (e.g., \"gpt-3.5-turbo\"), and set the temperature to 0 for consistent results.\n",
        "# - Parse the API response to extract and return the relevant information (e.g., skill gaps, qualification percentage).\n",
        "\n",
        "# Step 4: Parsing the Response\n",
        "# The response from the OpenAI API will be in a structured format. You'll need to extract the relevant information from this response.\n",
        "# Look at the 'choices' in the response object to find the AI's output. You may need to clean up the response to present the findings clearly.\n",
        "\n",
        "# Step 5: Testing and Iteration\n",
        "# Test the function with real resume and job description texts to see how well it works.\n",
        "# Based on the results, you may need to iterate on the prompt or how you  process the response to improve accuracy and usefulness.\n",
        "\n",
        "def compare_resume_to_job_description(resume_text, job_description_text):\n",
        "    messages = [\n",
        "      {\"role\": \"system\", \"content\": \"You are a recruitment assistant.\"},\n",
        "      {\"role\": \"user\", \"content\": f\"\"\"\n",
        "          Given the following resume:\n",
        "          {resume_text}\n",
        "          And the following job description:\n",
        "          {job_description_text}\n",
        "\n",
        "          Identify the skills and qualifications from both.\n",
        "          Then, compare them to determine any skill gaps and estimate how qualified the individual is for the job, providing a percentage.\n",
        "          \"\"\"\n",
        "      }\n",
        "    ]\n",
        "\n",
        "    # Using the client to make the API call with streaming\n",
        "    response = client.chat.completions.create(\n",
        "        model=\"gpt-3.5-turbo\",\n",
        "        messages=messages,\n",
        "        temperature=0,\n",
        "    )\n",
        "\n",
        "    return response.choices[0].message.content\n",
        "\n",
        "\n"
      ],
      "metadata": {
        "id": "yj69JiBMokTH"
      },
      "execution_count": 5,
      "outputs": []
    },
    {
      "cell_type": "code",
      "source": [
        "# Run the function\n",
        "compare_resume_to_job_description(resume_text, job_description_text)"
      ],
      "metadata": {
        "id": "jDHbCaK7rZzq",
        "colab": {
          "base_uri": "https://localhost:8080/",
          "height": 160
        },
        "outputId": "2da015a6-9c63-4498-bc2a-f1d36c63d3c7"
      },
      "execution_count": 9,
      "outputs": [
        {
          "output_type": "execute_result",
          "data": {
            "text/plain": [
              "'Skills and qualifications from the resume:\\n- Software Engineer\\n- Proficient in Python\\n- Proficient in Vue\\n\\nSkills and qualifications from the job description:\\n- Good with JavaScript stack\\n\\nSkill gaps:\\n- The individual has experience with Python and Vue, but the job requires proficiency in the JavaScript stack. While Python and JavaScript are both programming languages, they have different syntax and usage. The individual may need to upskill in JavaScript to meet the job requirements.\\n\\nEstimation of qualification:\\nBased on the information provided, the individual may have a solid foundation as a Software Engineer and is proficient in Python and Vue. However, the lack of proficiency in the JavaScript stack could be a significant gap for the job. I would estimate the individual to be around 60-70% qualified for the job, considering the need to upskill in JavaScript. Additional training or experience in JavaScript would increase their qualification level.'"
            ],
            "application/vnd.google.colaboratory.intrinsic+json": {
              "type": "string"
            }
          },
          "metadata": {},
          "execution_count": 9
        }
      ]
    },
    {
      "cell_type": "markdown",
      "source": [
        "## Step 5: Building a streamlit web application"
      ],
      "metadata": {
        "id": "BDyqoSlzxXOd"
      }
    },
    {
      "cell_type": "markdown",
      "source": [
        "If you're new to Streamlit, please make sure you have attended the live workshop or completed the [Interactive Practice Notebook](https://colab.research.google.com/drive/1avYMd3HVBmCJjCEuOaIC4_z4zXg00CtH?usp=sharing) before starting."
      ],
      "metadata": {
        "id": "6C7Y8-7izXUr"
      }
    },
    {
      "cell_type": "code",
      "source": [
        "import streamlit as st"
      ],
      "metadata": {
        "id": "wbOlVi-yZwiV"
      },
      "execution_count": 12,
      "outputs": []
    },
    {
      "cell_type": "code",
      "source": [
        "# Step 1: Setting Up Streamlit\n",
        "# First, ensure Streamlit is installed in your environment. If not, you can install it using pip:\n",
        "# pip install streamlit\n",
        "\n",
        "# Import Streamlit at the beginning of your script.\n",
        "\n",
        "# Step 2: Designing the UI Layout\n",
        "# Use Streamlit functions to create the UI components for your application.\n",
        "\n",
        "# Title for your app\n",
        "st.title('ResumeFit: Compare Your Resume to Job Descriptions')\n",
        "\n",
        "# Step 3: User Inputs\n",
        "# Create input areas for users to submit their resume and the job description.\n",
        "# Use st.text_area to create large text input fields for the resume and job description.\n",
        "resume_text = st.text_area(\"Paste Your Resume Here\")\n",
        "job_description_text = st.text_area(\"Paste the Job Description Here\")\n",
        "\n",
        "# Step 4: Submit Button\n",
        "# Use st.button to create a button that users will click to submit their inputs for processing.\n",
        "\n",
        "# Step 5: Processing User Inputs\n",
        "# When the user clicks the 'Compare' button, process the inputs using the compare_resume_to_job_description function you made above.\n",
        "\n",
        "# if submit_button:\n",
        "    # Call your comparison function here and pass the user inputs to it.\n",
        "    # comparison_result = compare_resume_to_job_description(resume_text, job_description_text)\n",
        "\n",
        "    # Display the results using Streamlit components.\n",
        "    # You can use st.write or st.markdown to show the comparison results and insights.\n",
        "    # st.markdown(\"### Comparison Results\")\n",
        "    # st.write(comparison_result)\n",
        "\n",
        "# Steps #4 & #5:\n",
        "submit_button = st.button('Compare')\n",
        "if submit_button:\n",
        "    comparison_result = compare_resume_to_job_description(resume_text, job_description_text)\n",
        "    st.markdown(\"### Comparison Results\")\n",
        "    st.write(comparison_result)\n",
        "\n",
        "# Step 6: Running Your Streamlit App\n",
        "# To run your Streamlit app, save your script and use the following command in your terminal:\n",
        "# streamlit run your_file_name.py\n",
        "# Remember, Streamlit runs a local server, and you'll interact with your app in a web browser.\n",
        "\n",
        "# Step 7: Iterating on the Design\n",
        "# After testing your app, you might find that you want to make changes.\n",
        "# Streamlit makes it easy to update your UI. Just modify your script and save it.\n",
        "# Streamlit's development server automatically updates the app in your browser."
      ],
      "metadata": {
        "id": "iRZhkXoOzWyF"
      },
      "execution_count": 14,
      "outputs": []
    },
    {
      "cell_type": "markdown",
      "source": [
        "## Step 6 (Optional): Enhance your web app and add more features"
      ],
      "metadata": {
        "id": "2c5IfAqIzyH7"
      }
    },
    {
      "cell_type": "code",
      "source": [
        "# Step 8: Enhancing Your App\n",
        "\n",
        "# Consider adding more features to your app, like:\n",
        "# - Allowing users to upload a resume file instead of pasting text.\n",
        "# - Providing detailed feedback and suggestions for improvement.\n",
        "# - Implementing advanced text analysis for more accurate comparisons."
      ],
      "metadata": {
        "id": "cVpwFsfCzxkW"
      },
      "execution_count": 8,
      "outputs": []
    },
    {
      "cell_type": "markdown",
      "source": [
        "## Step 7: Share your app in the Lonely Octopus and with the world on LinkedIn!!"
      ],
      "metadata": {
        "id": "5-zsXAbF0mJO"
      }
    },
    {
      "cell_type": "markdown",
      "source": [
        "<img src=\"https://i.pinimg.com/736x/f0/4a/08/f04a08853d407a93e6a06f1ce10c8173--poetry-inspiration-top-hats.jpg\">"
      ],
      "metadata": {
        "id": "5uK5k7N01QN0"
      }
    },
    {
      "cell_type": "code",
      "source": [],
      "metadata": {
        "id": "NKqSGwpuqGEv"
      },
      "execution_count": 8,
      "outputs": []
    }
  ]
}